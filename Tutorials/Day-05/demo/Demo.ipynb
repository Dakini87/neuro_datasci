{
 "cells": [
  {
   "cell_type": "markdown",
   "id": "73883565",
   "metadata": {},
   "source": [
    "![SegmentLocal](../../assets/images/Logo2.png)"
   ]
  },
  {
   "cell_type": "markdown",
   "id": "5e0680e4",
   "metadata": {},
   "source": [
    "# Parametric and Non-Parametric Analysis \n",
    "\n"
   ]
  },
  {
   "cell_type": "code",
   "execution_count": 16,
   "id": "f51e55fe",
   "metadata": {},
   "outputs": [],
   "source": [
    "import matplotlib.pyplot as plt\n",
    "import numpy as np\n",
    "import pandas as pd\n",
    "import random\n",
    "import scipy\n",
    "import seaborn as sns\n",
    "import statsmodels.api as sm\n",
    "from statsmodels.formula.api import ols"
   ]
  },
  {
   "cell_type": "markdown",
   "id": "a4dd5a58",
   "metadata": {},
   "source": [
    "## Simulate data"
   ]
  },
  {
   "cell_type": "code",
   "execution_count": 37,
   "id": "902fb3b8",
   "metadata": {},
   "outputs": [
    {
     "data": {
      "text/html": [
       "<div>\n",
       "<style scoped>\n",
       "    .dataframe tbody tr th:only-of-type {\n",
       "        vertical-align: middle;\n",
       "    }\n",
       "\n",
       "    .dataframe tbody tr th {\n",
       "        vertical-align: top;\n",
       "    }\n",
       "\n",
       "    .dataframe thead th {\n",
       "        text-align: right;\n",
       "    }\n",
       "</style>\n",
       "<table border=\"1\" class=\"dataframe\">\n",
       "  <thead>\n",
       "    <tr style=\"text-align: right;\">\n",
       "      <th></th>\n",
       "      <th>A1_B1</th>\n",
       "      <th>A1_B2</th>\n",
       "      <th>A2_B1</th>\n",
       "      <th>A2_B2</th>\n",
       "      <th>obs_nr</th>\n",
       "    </tr>\n",
       "  </thead>\n",
       "  <tbody>\n",
       "    <tr>\n",
       "      <th>0</th>\n",
       "      <td>-1.299500</td>\n",
       "      <td>1.639972</td>\n",
       "      <td>-0.736049</td>\n",
       "      <td>-2.392883</td>\n",
       "      <td>0</td>\n",
       "    </tr>\n",
       "    <tr>\n",
       "      <th>1</th>\n",
       "      <td>-0.229958</td>\n",
       "      <td>-1.726937</td>\n",
       "      <td>-0.166616</td>\n",
       "      <td>0.474043</td>\n",
       "      <td>1</td>\n",
       "    </tr>\n",
       "    <tr>\n",
       "      <th>2</th>\n",
       "      <td>-1.067245</td>\n",
       "      <td>-1.781321</td>\n",
       "      <td>2.179602</td>\n",
       "      <td>-4.483174</td>\n",
       "      <td>2</td>\n",
       "    </tr>\n",
       "    <tr>\n",
       "      <th>3</th>\n",
       "      <td>-1.026195</td>\n",
       "      <td>-0.047496</td>\n",
       "      <td>2.558128</td>\n",
       "      <td>4.060119</td>\n",
       "      <td>3</td>\n",
       "    </tr>\n",
       "    <tr>\n",
       "      <th>4</th>\n",
       "      <td>-0.928566</td>\n",
       "      <td>1.231134</td>\n",
       "      <td>2.722769</td>\n",
       "      <td>-0.412842</td>\n",
       "      <td>4</td>\n",
       "    </tr>\n",
       "  </tbody>\n",
       "</table>\n",
       "</div>"
      ],
      "text/plain": [
       "      A1_B1     A1_B2     A2_B1     A2_B2  obs_nr\n",
       "0 -1.299500  1.639972 -0.736049 -2.392883       0\n",
       "1 -0.229958 -1.726937 -0.166616  0.474043       1\n",
       "2 -1.067245 -1.781321  2.179602 -4.483174       2\n",
       "3 -1.026195 -0.047496  2.558128  4.060119       3\n",
       "4 -0.928566  1.231134  2.722769 -0.412842       4"
      ]
     },
     "execution_count": 37,
     "metadata": {},
     "output_type": "execute_result"
    }
   ],
   "source": [
    "data = {\n",
    "    'A1_B1': np.random.normal(-1, 1, 50),\n",
    "    'A1_B2': np.random.normal(0.5, 1.5, 50),\n",
    "    'A2_B1': np.random.normal(0, 3, 50),\n",
    "    'A2_B2': np.random.normal(1, 2.5, 50),\n",
    "    'obs_nr':np.arange(0, 50, 1)\n",
    "}\n",
    "sim_df = pd.DataFrame.from_dict(data)\n",
    "\n",
    "sim_df.head()"
   ]
  },
  {
   "cell_type": "code",
   "execution_count": 38,
   "id": "ad7c3832",
   "metadata": {},
   "outputs": [
    {
     "data": {
      "text/html": [
       "<div>\n",
       "<style scoped>\n",
       "    .dataframe tbody tr th:only-of-type {\n",
       "        vertical-align: middle;\n",
       "    }\n",
       "\n",
       "    .dataframe tbody tr th {\n",
       "        vertical-align: top;\n",
       "    }\n",
       "\n",
       "    .dataframe thead th {\n",
       "        text-align: right;\n",
       "    }\n",
       "</style>\n",
       "<table border=\"1\" class=\"dataframe\">\n",
       "  <thead>\n",
       "    <tr style=\"text-align: right;\">\n",
       "      <th></th>\n",
       "      <th>obs_nr</th>\n",
       "      <th>category</th>\n",
       "      <th>score</th>\n",
       "    </tr>\n",
       "  </thead>\n",
       "  <tbody>\n",
       "    <tr>\n",
       "      <th>0</th>\n",
       "      <td>0</td>\n",
       "      <td>A1_B1</td>\n",
       "      <td>-1.299500</td>\n",
       "    </tr>\n",
       "    <tr>\n",
       "      <th>1</th>\n",
       "      <td>1</td>\n",
       "      <td>A1_B1</td>\n",
       "      <td>-0.229958</td>\n",
       "    </tr>\n",
       "    <tr>\n",
       "      <th>2</th>\n",
       "      <td>2</td>\n",
       "      <td>A1_B1</td>\n",
       "      <td>-1.067245</td>\n",
       "    </tr>\n",
       "    <tr>\n",
       "      <th>3</th>\n",
       "      <td>3</td>\n",
       "      <td>A1_B1</td>\n",
       "      <td>-1.026195</td>\n",
       "    </tr>\n",
       "    <tr>\n",
       "      <th>4</th>\n",
       "      <td>4</td>\n",
       "      <td>A1_B1</td>\n",
       "      <td>-0.928566</td>\n",
       "    </tr>\n",
       "  </tbody>\n",
       "</table>\n",
       "</div>"
      ],
      "text/plain": [
       "   obs_nr category     score\n",
       "0       0    A1_B1 -1.299500\n",
       "1       1    A1_B1 -0.229958\n",
       "2       2    A1_B1 -1.067245\n",
       "3       3    A1_B1 -1.026195\n",
       "4       4    A1_B1 -0.928566"
      ]
     },
     "execution_count": 38,
     "metadata": {},
     "output_type": "execute_result"
    }
   ],
   "source": [
    "sim_df = pd.melt(\n",
    "    sim_df,\n",
    "    id_vars='obs_nr',\n",
    "    value_vars = ['A1_B1', 'A1_B2', 'A2_B1', 'A2_B2'],\n",
    "    value_name = 'score',\n",
    "    var_name = 'category'\n",
    ")\n",
    "\n",
    "sim_df.head()"
   ]
  },
  {
   "cell_type": "code",
   "execution_count": 39,
   "id": "917010ab",
   "metadata": {},
   "outputs": [
    {
     "data": {
      "text/html": [
       "<div>\n",
       "<style scoped>\n",
       "    .dataframe tbody tr th:only-of-type {\n",
       "        vertical-align: middle;\n",
       "    }\n",
       "\n",
       "    .dataframe tbody tr th {\n",
       "        vertical-align: top;\n",
       "    }\n",
       "\n",
       "    .dataframe thead th {\n",
       "        text-align: right;\n",
       "    }\n",
       "</style>\n",
       "<table border=\"1\" class=\"dataframe\">\n",
       "  <thead>\n",
       "    <tr style=\"text-align: right;\">\n",
       "      <th></th>\n",
       "      <th>obs_nr</th>\n",
       "      <th>category</th>\n",
       "      <th>score</th>\n",
       "      <th>category_A</th>\n",
       "      <th>category_B</th>\n",
       "    </tr>\n",
       "  </thead>\n",
       "  <tbody>\n",
       "    <tr>\n",
       "      <th>0</th>\n",
       "      <td>0</td>\n",
       "      <td>A1_B1</td>\n",
       "      <td>-1.299500</td>\n",
       "      <td>A1</td>\n",
       "      <td>B1</td>\n",
       "    </tr>\n",
       "    <tr>\n",
       "      <th>1</th>\n",
       "      <td>1</td>\n",
       "      <td>A1_B1</td>\n",
       "      <td>-0.229958</td>\n",
       "      <td>A1</td>\n",
       "      <td>B1</td>\n",
       "    </tr>\n",
       "    <tr>\n",
       "      <th>2</th>\n",
       "      <td>2</td>\n",
       "      <td>A1_B1</td>\n",
       "      <td>-1.067245</td>\n",
       "      <td>A1</td>\n",
       "      <td>B1</td>\n",
       "    </tr>\n",
       "    <tr>\n",
       "      <th>3</th>\n",
       "      <td>3</td>\n",
       "      <td>A1_B1</td>\n",
       "      <td>-1.026195</td>\n",
       "      <td>A1</td>\n",
       "      <td>B1</td>\n",
       "    </tr>\n",
       "    <tr>\n",
       "      <th>4</th>\n",
       "      <td>4</td>\n",
       "      <td>A1_B1</td>\n",
       "      <td>-0.928566</td>\n",
       "      <td>A1</td>\n",
       "      <td>B1</td>\n",
       "    </tr>\n",
       "  </tbody>\n",
       "</table>\n",
       "</div>"
      ],
      "text/plain": [
       "   obs_nr category     score category_A category_B\n",
       "0       0    A1_B1 -1.299500         A1         B1\n",
       "1       1    A1_B1 -0.229958         A1         B1\n",
       "2       2    A1_B1 -1.067245         A1         B1\n",
       "3       3    A1_B1 -1.026195         A1         B1\n",
       "4       4    A1_B1 -0.928566         A1         B1"
      ]
     },
     "execution_count": 39,
     "metadata": {},
     "output_type": "execute_result"
    }
   ],
   "source": [
    "sim_df[['category_A', 'category_B']] = sim_df.category.str.split('_', expand=True)\n",
    "\n",
    "sim_df.head()"
   ]
  },
  {
   "cell_type": "code",
   "execution_count": 40,
   "id": "e37cf62a",
   "metadata": {},
   "outputs": [
    {
     "data": {
      "text/html": [
       "<div>\n",
       "<style scoped>\n",
       "    .dataframe tbody tr th:only-of-type {\n",
       "        vertical-align: middle;\n",
       "    }\n",
       "\n",
       "    .dataframe tbody tr th {\n",
       "        vertical-align: top;\n",
       "    }\n",
       "\n",
       "    .dataframe thead th {\n",
       "        text-align: right;\n",
       "    }\n",
       "</style>\n",
       "<table border=\"1\" class=\"dataframe\">\n",
       "  <thead>\n",
       "    <tr style=\"text-align: right;\">\n",
       "      <th></th>\n",
       "      <th>obs_nr</th>\n",
       "      <th>score</th>\n",
       "      <th>category_A</th>\n",
       "      <th>category_B</th>\n",
       "    </tr>\n",
       "  </thead>\n",
       "  <tbody>\n",
       "    <tr>\n",
       "      <th>0</th>\n",
       "      <td>0</td>\n",
       "      <td>-1.299500</td>\n",
       "      <td>A1</td>\n",
       "      <td>B1</td>\n",
       "    </tr>\n",
       "    <tr>\n",
       "      <th>1</th>\n",
       "      <td>1</td>\n",
       "      <td>-0.229958</td>\n",
       "      <td>A1</td>\n",
       "      <td>B1</td>\n",
       "    </tr>\n",
       "    <tr>\n",
       "      <th>2</th>\n",
       "      <td>2</td>\n",
       "      <td>-1.067245</td>\n",
       "      <td>A1</td>\n",
       "      <td>B1</td>\n",
       "    </tr>\n",
       "    <tr>\n",
       "      <th>3</th>\n",
       "      <td>3</td>\n",
       "      <td>-1.026195</td>\n",
       "      <td>A1</td>\n",
       "      <td>B1</td>\n",
       "    </tr>\n",
       "    <tr>\n",
       "      <th>4</th>\n",
       "      <td>4</td>\n",
       "      <td>-0.928566</td>\n",
       "      <td>A1</td>\n",
       "      <td>B1</td>\n",
       "    </tr>\n",
       "  </tbody>\n",
       "</table>\n",
       "</div>"
      ],
      "text/plain": [
       "   obs_nr     score category_A category_B\n",
       "0       0 -1.299500         A1         B1\n",
       "1       1 -0.229958         A1         B1\n",
       "2       2 -1.067245         A1         B1\n",
       "3       3 -1.026195         A1         B1\n",
       "4       4 -0.928566         A1         B1"
      ]
     },
     "execution_count": 40,
     "metadata": {},
     "output_type": "execute_result"
    }
   ],
   "source": [
    "sim_df.drop(columns=['category'], inplace=True)\n",
    "sim_df.head()"
   ]
  },
  {
   "cell_type": "code",
   "execution_count": 41,
   "id": "0b13223b",
   "metadata": {},
   "outputs": [
    {
     "data": {
      "text/plain": [
       "B1    100\n",
       "B2    100\n",
       "Name: category_B, dtype: int64"
      ]
     },
     "execution_count": 41,
     "metadata": {},
     "output_type": "execute_result"
    }
   ],
   "source": [
    "sim_df.category_B.value_counts()"
   ]
  },
  {
   "cell_type": "code",
   "execution_count": 42,
   "id": "a1f5f600",
   "metadata": {},
   "outputs": [
    {
     "data": {
      "text/plain": [
       "<AxesSubplot:ylabel='Frequency'>"
      ]
     },
     "execution_count": 42,
     "metadata": {},
     "output_type": "execute_result"
    },
    {
     "data": {
      "image/png": "[encoded data removed]",
      "text/plain": [
       "<Figure size 640x480 with 1 Axes>"
      ]
     },
     "metadata": {},
     "output_type": "display_data"
    }
   ],
   "source": [
    "sim_df.score.plot.hist(bins=20)"
   ]
  },
  {
   "cell_type": "code",
   "execution_count": 43,
   "id": "85e5e1a7",
   "metadata": {},
   "outputs": [
    {
     "data": {
      "image/png": "[encoded data removed]",
      "text/plain": [
       "<Figure size 300x400 with 1 Axes>"
      ]
     },
     "metadata": {},
     "output_type": "display_data"
    }
   ],
   "source": [
    "fig, ax =plt.subplots(figsize=(3,4))\n",
    "ax = sns.pointplot(\n",
    "    data=sim_df,\n",
    "    y='score',\n",
    "    x='category_A',\n",
    "    hue='category_B',\n",
    "    errorbar='sd',\n",
    "    dodge=True,\n",
    "    ax=ax\n",
    ")\n",
    "\n",
    "ax.set(ylim=(-4, 4))\n",
    "ax.legend(bbox_to_anchor=[0.9, 0.8], title='category_B', frameon=False)\n",
    "sns.despine(offset=10)"
   ]
  },
  {
   "cell_type": "code",
   "execution_count": 46,
   "id": "72e3ce00",
   "metadata": {},
   "outputs": [
    {
     "data": {
      "image/png": "[encoded data removed]",
      "text/plain": [
       "<Figure size 900x400 with 2 Axes>"
      ]
     },
     "metadata": {},
     "output_type": "display_data"
    }
   ],
   "source": [
    "fig, ax =plt.subplots(1, 2, figsize=(9,4), sharey=True)\n",
    "ax[0] = sns.pointplot(\n",
    "    data=sim_df,\n",
    "    y='score',\n",
    "    x='category_A',\n",
    "    errorbar='sd',\n",
    "    dodge=True,\n",
    "    ax=ax[0]\n",
    ")\n",
    "\n",
    "ax[1] = sns.pointplot(\n",
    "    data=sim_df,\n",
    "    y='score',\n",
    "    x='category_B',\n",
    "    errorbar=('ci', 95),\n",
    "    dodge=True,\n",
    "    ax=ax[1], \n",
    "    color='r'\n",
    ")\n",
    "\n",
    "\n",
    "ax[0].set(ylim=(-4, 4))\n",
    "sns.despine(offset=10)"
   ]
  },
  {
   "cell_type": "code",
   "execution_count": 47,
   "id": "353ee766",
   "metadata": {},
   "outputs": [
    {
     "data": {
      "text/plain": [
       "mean    0.023821\n",
       "std     2.274154\n",
       "Name: score, dtype: float64"
      ]
     },
     "metadata": {},
     "output_type": "display_data"
    },
    {
     "data": {
      "text/html": [
       "<div>\n",
       "<style scoped>\n",
       "    .dataframe tbody tr th:only-of-type {\n",
       "        vertical-align: middle;\n",
       "    }\n",
       "\n",
       "    .dataframe tbody tr th {\n",
       "        vertical-align: top;\n",
       "    }\n",
       "\n",
       "    .dataframe thead th {\n",
       "        text-align: right;\n",
       "    }\n",
       "</style>\n",
       "<table border=\"1\" class=\"dataframe\">\n",
       "  <thead>\n",
       "    <tr style=\"text-align: right;\">\n",
       "      <th></th>\n",
       "      <th>mean</th>\n",
       "      <th>std</th>\n",
       "    </tr>\n",
       "    <tr>\n",
       "      <th>category_A</th>\n",
       "      <th></th>\n",
       "      <th></th>\n",
       "    </tr>\n",
       "  </thead>\n",
       "  <tbody>\n",
       "    <tr>\n",
       "      <th>A1</th>\n",
       "      <td>-0.360037</td>\n",
       "      <td>1.485519</td>\n",
       "    </tr>\n",
       "    <tr>\n",
       "      <th>A2</th>\n",
       "      <td>0.407680</td>\n",
       "      <td>2.809156</td>\n",
       "    </tr>\n",
       "  </tbody>\n",
       "</table>\n",
       "</div>"
      ],
      "text/plain": [
       "                mean       std\n",
       "category_A                    \n",
       "A1         -0.360037  1.485519\n",
       "A2          0.407680  2.809156"
      ]
     },
     "metadata": {},
     "output_type": "display_data"
    },
    {
     "data": {
      "text/html": [
       "<div>\n",
       "<style scoped>\n",
       "    .dataframe tbody tr th:only-of-type {\n",
       "        vertical-align: middle;\n",
       "    }\n",
       "\n",
       "    .dataframe tbody tr th {\n",
       "        vertical-align: top;\n",
       "    }\n",
       "\n",
       "    .dataframe thead th {\n",
       "        text-align: right;\n",
       "    }\n",
       "</style>\n",
       "<table border=\"1\" class=\"dataframe\">\n",
       "  <thead>\n",
       "    <tr style=\"text-align: right;\">\n",
       "      <th></th>\n",
       "      <th>mean</th>\n",
       "      <th>std</th>\n",
       "    </tr>\n",
       "    <tr>\n",
       "      <th>category_B</th>\n",
       "      <th></th>\n",
       "      <th></th>\n",
       "    </tr>\n",
       "  </thead>\n",
       "  <tbody>\n",
       "    <tr>\n",
       "      <th>B1</th>\n",
       "      <td>-0.300776</td>\n",
       "      <td>2.524584</td>\n",
       "    </tr>\n",
       "    <tr>\n",
       "      <th>B2</th>\n",
       "      <td>0.348418</td>\n",
       "      <td>1.951773</td>\n",
       "    </tr>\n",
       "  </tbody>\n",
       "</table>\n",
       "</div>"
      ],
      "text/plain": [
       "                mean       std\n",
       "category_B                    \n",
       "B1         -0.300776  2.524584\n",
       "B2          0.348418  1.951773"
      ]
     },
     "metadata": {},
     "output_type": "display_data"
    }
   ],
   "source": [
    "display(sim_df.score.agg(['mean', 'std']))\n",
    "\n",
    "display(sim_df.groupby(['category_A']).score.agg(['mean', 'std']))\n",
    "\n",
    "display(sim_df.groupby(['category_B']).score.agg(['mean', 'std']))"
   ]
  },
  {
   "cell_type": "markdown",
   "id": "d5ebb03d",
   "metadata": {},
   "source": [
    "## Parametric Methods of Testing Differences in Means"
   ]
  },
  {
   "cell_type": "code",
   "execution_count": 48,
   "id": "c9998f84",
   "metadata": {},
   "outputs": [
    {
     "name": "stdout",
     "output_type": "stream",
     "text": [
      "Ttest for differences between A1 and A2: Ttest_indResult(statistic=-2.4159102808695834, pvalue=0.01660377949444532)\n",
      "Ttest for differences between B1 and B2: Ttest_indResult(statistic=-2.0344072815219105, pvalue=0.043244038378311034)\n"
     ]
    }
   ],
   "source": [
    "a1 = sim_df.query('category_A == \"A1\"').score\n",
    "a2 = sim_df.query('category_A == \"A2\"').score\n",
    "\n",
    "b1 = sim_df.query('category_B == \"B1\"').score\n",
    "b2 = sim_df.query('category_B == \"B2\"').score\n",
    "\n",
    "print(f'Ttest for differences between A1 and A2: {scipy.stats.ttest_ind(a1, a2)}')\n",
    "\n",
    "print(f'Ttest for differences between B1 and B2: {scipy.stats.ttest_ind(b1, b2)}')"
   ]
  },
  {
   "cell_type": "code",
   "execution_count": 49,
   "id": "14b9fe85",
   "metadata": {},
   "outputs": [
    {
     "data": {
      "text/html": [
       "<div>\n",
       "<style scoped>\n",
       "    .dataframe tbody tr th:only-of-type {\n",
       "        vertical-align: middle;\n",
       "    }\n",
       "\n",
       "    .dataframe tbody tr th {\n",
       "        vertical-align: top;\n",
       "    }\n",
       "\n",
       "    .dataframe thead th {\n",
       "        text-align: right;\n",
       "    }\n",
       "</style>\n",
       "<table border=\"1\" class=\"dataframe\">\n",
       "  <thead>\n",
       "    <tr style=\"text-align: right;\">\n",
       "      <th></th>\n",
       "      <th>sum_sq</th>\n",
       "      <th>df</th>\n",
       "      <th>F</th>\n",
       "      <th>PR(&gt;F)</th>\n",
       "    </tr>\n",
       "  </thead>\n",
       "  <tbody>\n",
       "    <tr>\n",
       "      <th>C(category_A, Sum)</th>\n",
       "      <td>29.469</td>\n",
       "      <td>1.0</td>\n",
       "      <td>6.046</td>\n",
       "      <td>0.015</td>\n",
       "    </tr>\n",
       "    <tr>\n",
       "      <th>C(category_B, Sum)</th>\n",
       "      <td>21.073</td>\n",
       "      <td>1.0</td>\n",
       "      <td>4.324</td>\n",
       "      <td>0.039</td>\n",
       "    </tr>\n",
       "    <tr>\n",
       "      <th>C(category_A, Sum):C(category_B, Sum)</th>\n",
       "      <td>23.357</td>\n",
       "      <td>1.0</td>\n",
       "      <td>4.792</td>\n",
       "      <td>0.030</td>\n",
       "    </tr>\n",
       "    <tr>\n",
       "      <th>Residual</th>\n",
       "      <td>955.285</td>\n",
       "      <td>196.0</td>\n",
       "      <td>NaN</td>\n",
       "      <td>NaN</td>\n",
       "    </tr>\n",
       "  </tbody>\n",
       "</table>\n",
       "</div>"
      ],
      "text/plain": [
       "                                        sum_sq     df      F  PR(>F)\n",
       "C(category_A, Sum)                      29.469    1.0  6.046   0.015\n",
       "C(category_B, Sum)                      21.073    1.0  4.324   0.039\n",
       "C(category_A, Sum):C(category_B, Sum)   23.357    1.0  4.792   0.030\n",
       "Residual                               955.285  196.0    NaN     NaN"
      ]
     },
     "metadata": {},
     "output_type": "display_data"
    }
   ],
   "source": [
    "lm = ols('score ~ 1 + C(category_A, Sum) + C(category_B, Sum) + C(category_A, Sum):C(category_B, Sum)', data=sim_df).fit()\n",
    "summary = sm.stats.anova_lm(lm, typ=2)\n",
    "display(summary.round(3))"
   ]
  },
  {
   "cell_type": "code",
   "execution_count": 50,
   "id": "5bc042e5",
   "metadata": {},
   "outputs": [
    {
     "data": {
      "text/plain": [
       "mean    0.023821\n",
       "std     2.274154\n",
       "Name: score, dtype: float64"
      ]
     },
     "metadata": {},
     "output_type": "display_data"
    },
    {
     "data": {
      "text/html": [
       "<div>\n",
       "<style scoped>\n",
       "    .dataframe tbody tr th:only-of-type {\n",
       "        vertical-align: middle;\n",
       "    }\n",
       "\n",
       "    .dataframe tbody tr th {\n",
       "        vertical-align: top;\n",
       "    }\n",
       "\n",
       "    .dataframe thead th {\n",
       "        text-align: right;\n",
       "    }\n",
       "</style>\n",
       "<table border=\"1\" class=\"dataframe\">\n",
       "  <thead>\n",
       "    <tr style=\"text-align: right;\">\n",
       "      <th></th>\n",
       "      <th>mean</th>\n",
       "      <th>std</th>\n",
       "    </tr>\n",
       "    <tr>\n",
       "      <th>category_A</th>\n",
       "      <th></th>\n",
       "      <th></th>\n",
       "    </tr>\n",
       "  </thead>\n",
       "  <tbody>\n",
       "    <tr>\n",
       "      <th>A1</th>\n",
       "      <td>-0.360037</td>\n",
       "      <td>1.485519</td>\n",
       "    </tr>\n",
       "    <tr>\n",
       "      <th>A2</th>\n",
       "      <td>0.407680</td>\n",
       "      <td>2.809156</td>\n",
       "    </tr>\n",
       "  </tbody>\n",
       "</table>\n",
       "</div>"
      ],
      "text/plain": [
       "                mean       std\n",
       "category_A                    \n",
       "A1         -0.360037  1.485519\n",
       "A2          0.407680  2.809156"
      ]
     },
     "metadata": {},
     "output_type": "display_data"
    },
    {
     "data": {
      "text/html": [
       "<div>\n",
       "<style scoped>\n",
       "    .dataframe tbody tr th:only-of-type {\n",
       "        vertical-align: middle;\n",
       "    }\n",
       "\n",
       "    .dataframe tbody tr th {\n",
       "        vertical-align: top;\n",
       "    }\n",
       "\n",
       "    .dataframe thead th {\n",
       "        text-align: right;\n",
       "    }\n",
       "</style>\n",
       "<table border=\"1\" class=\"dataframe\">\n",
       "  <thead>\n",
       "    <tr style=\"text-align: right;\">\n",
       "      <th></th>\n",
       "      <th>mean</th>\n",
       "      <th>std</th>\n",
       "    </tr>\n",
       "    <tr>\n",
       "      <th>category_B</th>\n",
       "      <th></th>\n",
       "      <th></th>\n",
       "    </tr>\n",
       "  </thead>\n",
       "  <tbody>\n",
       "    <tr>\n",
       "      <th>B1</th>\n",
       "      <td>-0.300776</td>\n",
       "      <td>2.524584</td>\n",
       "    </tr>\n",
       "    <tr>\n",
       "      <th>B2</th>\n",
       "      <td>0.348418</td>\n",
       "      <td>1.951773</td>\n",
       "    </tr>\n",
       "  </tbody>\n",
       "</table>\n",
       "</div>"
      ],
      "text/plain": [
       "                mean       std\n",
       "category_B                    \n",
       "B1         -0.300776  2.524584\n",
       "B2          0.348418  1.951773"
      ]
     },
     "metadata": {},
     "output_type": "display_data"
    }
   ],
   "source": [
    "display(sim_df.score.agg(['mean', 'std']))\n",
    "\n",
    "display(sim_df.groupby(['category_A']).score.agg(['mean', 'std']))\n",
    "\n",
    "display(sim_df.groupby(['category_B']).score.agg(['mean', 'std']))"
   ]
  },
  {
   "cell_type": "code",
   "execution_count": 24,
   "id": "6e46bcd9",
   "metadata": {},
   "outputs": [
    {
     "data": {
      "text/plain": [
       "-0.47"
      ]
     },
     "execution_count": 24,
     "metadata": {},
     "output_type": "execute_result"
    }
   ],
   "source": [
    "-0.10 - 0.37"
   ]
  },
  {
   "cell_type": "code",
   "execution_count": 27,
   "id": "f6513726",
   "metadata": {},
   "outputs": [
    {
     "data": {
      "text/plain": [
       "-16.588235294117645"
      ]
     },
     "execution_count": 27,
     "metadata": {},
     "output_type": "execute_result"
    }
   ],
   "source": [
    "-1.41/0.085"
   ]
  },
  {
   "cell_type": "code",
   "execution_count": 51,
   "id": "22e20ba0",
   "metadata": {},
   "outputs": [
    {
     "data": {
      "text/html": [
       "<table class=\"simpletable\">\n",
       "<caption>OLS Regression Results</caption>\n",
       "<tr>\n",
       "  <th>Dep. Variable:</th>          <td>score</td>      <th>  R-squared:         </th> <td>   0.072</td>\n",
       "</tr>\n",
       "<tr>\n",
       "  <th>Model:</th>                   <td>OLS</td>       <th>  Adj. R-squared:    </th> <td>   0.058</td>\n",
       "</tr>\n",
       "<tr>\n",
       "  <th>Method:</th>             <td>Least Squares</td>  <th>  F-statistic:       </th> <td>   5.054</td>\n",
       "</tr>\n",
       "<tr>\n",
       "  <th>Date:</th>             <td>Fri, 11 Nov 2022</td> <th>  Prob (F-statistic):</th>  <td>0.00215</td>\n",
       "</tr>\n",
       "<tr>\n",
       "  <th>Time:</th>                 <td>11:19:46</td>     <th>  Log-Likelihood:    </th> <td> -440.16</td>\n",
       "</tr>\n",
       "<tr>\n",
       "  <th>No. Observations:</th>      <td>   200</td>      <th>  AIC:               </th> <td>   888.3</td>\n",
       "</tr>\n",
       "<tr>\n",
       "  <th>Df Residuals:</th>          <td>   196</td>      <th>  BIC:               </th> <td>   901.5</td>\n",
       "</tr>\n",
       "<tr>\n",
       "  <th>Df Model:</th>              <td>     3</td>      <th>                     </th>     <td> </td>   \n",
       "</tr>\n",
       "<tr>\n",
       "  <th>Covariance Type:</th>      <td>nonrobust</td>    <th>                     </th>     <td> </td>   \n",
       "</tr>\n",
       "</table>\n",
       "<table class=\"simpletable\">\n",
       "<tr>\n",
       "                          <td></td>                             <th>coef</th>     <th>std err</th>      <th>t</th>      <th>P>|t|</th>  <th>[0.025</th>    <th>0.975]</th>  \n",
       "</tr>\n",
       "<tr>\n",
       "  <th>Intercept</th>                                         <td>    0.0238</td> <td>    0.156</td> <td>    0.153</td> <td> 0.879</td> <td>   -0.284</td> <td>    0.332</td>\n",
       "</tr>\n",
       "<tr>\n",
       "  <th>C(category_A, Sum)[S.A1]</th>                          <td>   -0.3839</td> <td>    0.156</td> <td>   -2.459</td> <td> 0.015</td> <td>   -0.692</td> <td>   -0.076</td>\n",
       "</tr>\n",
       "<tr>\n",
       "  <th>C(category_B, Sum)[S.B1]</th>                          <td>   -0.3246</td> <td>    0.156</td> <td>   -2.079</td> <td> 0.039</td> <td>   -0.632</td> <td>   -0.017</td>\n",
       "</tr>\n",
       "<tr>\n",
       "  <th>C(category_A, Sum)[S.A1]:C(category_B, Sum)[S.B1]</th> <td>   -0.3417</td> <td>    0.156</td> <td>   -2.189</td> <td> 0.030</td> <td>   -0.650</td> <td>   -0.034</td>\n",
       "</tr>\n",
       "</table>\n",
       "<table class=\"simpletable\">\n",
       "<tr>\n",
       "  <th>Omnibus:</th>       <td> 8.626</td> <th>  Durbin-Watson:     </th> <td>   1.930</td>\n",
       "</tr>\n",
       "<tr>\n",
       "  <th>Prob(Omnibus):</th> <td> 0.013</td> <th>  Jarque-Bera (JB):  </th> <td>  15.147</td>\n",
       "</tr>\n",
       "<tr>\n",
       "  <th>Skew:</th>          <td>-0.148</td> <th>  Prob(JB):          </th> <td>0.000514</td>\n",
       "</tr>\n",
       "<tr>\n",
       "  <th>Kurtosis:</th>      <td> 4.315</td> <th>  Cond. No.          </th> <td>    1.00</td>\n",
       "</tr>\n",
       "</table><br/><br/>Notes:<br/>[1] Standard Errors assume that the covariance matrix of the errors is correctly specified."
      ],
      "text/plain": [
       "<class 'statsmodels.iolib.summary.Summary'>\n",
       "\"\"\"\n",
       "                            OLS Regression Results                            \n",
       "==============================================================================\n",
       "Dep. Variable:                  score   R-squared:                       0.072\n",
       "Model:                            OLS   Adj. R-squared:                  0.058\n",
       "Method:                 Least Squares   F-statistic:                     5.054\n",
       "Date:                Fri, 11 Nov 2022   Prob (F-statistic):            0.00215\n",
       "Time:                        11:19:46   Log-Likelihood:                -440.16\n",
       "No. Observations:                 200   AIC:                             888.3\n",
       "Df Residuals:                     196   BIC:                             901.5\n",
       "Df Model:                           3                                         \n",
       "Covariance Type:            nonrobust                                         \n",
       "=====================================================================================================================\n",
       "                                                        coef    std err          t      P>|t|      [0.025      0.975]\n",
       "---------------------------------------------------------------------------------------------------------------------\n",
       "Intercept                                             0.0238      0.156      0.153      0.879      -0.284       0.332\n",
       "C(category_A, Sum)[S.A1]                             -0.3839      0.156     -2.459      0.015      -0.692      -0.076\n",
       "C(category_B, Sum)[S.B1]                             -0.3246      0.156     -2.079      0.039      -0.632      -0.017\n",
       "C(category_A, Sum)[S.A1]:C(category_B, Sum)[S.B1]    -0.3417      0.156     -2.189      0.030      -0.650      -0.034\n",
       "==============================================================================\n",
       "Omnibus:                        8.626   Durbin-Watson:                   1.930\n",
       "Prob(Omnibus):                  0.013   Jarque-Bera (JB):               15.147\n",
       "Skew:                          -0.148   Prob(JB):                     0.000514\n",
       "Kurtosis:                       4.315   Cond. No.                         1.00\n",
       "==============================================================================\n",
       "\n",
       "Notes:\n",
       "[1] Standard Errors assume that the covariance matrix of the errors is correctly specified.\n",
       "\"\"\""
      ]
     },
     "metadata": {},
     "output_type": "display_data"
    }
   ],
   "source": [
    "display(lm.summary())"
   ]
  },
  {
   "cell_type": "markdown",
   "id": "932ec59b",
   "metadata": {},
   "source": [
    "## Non-Parametric Methods of Testing Difference in means"
   ]
  },
  {
   "cell_type": "code",
   "execution_count": null,
   "id": "c7879f1d",
   "metadata": {},
   "outputs": [],
   "source": [
    "Permutation Test"
   ]
  },
  {
   "cell_type": "code",
   "execution_count": 52,
   "id": "3bda0c92",
   "metadata": {},
   "outputs": [
    {
     "name": "stdout",
     "output_type": "stream",
     "text": [
      "Diff in means of category A: 0.768\n",
      "Diff in means of category B: 0.649\n",
      "Diff of Diff of means of category A & B: -1.367\n"
     ]
    }
   ],
   "source": [
    "A_mean_diff = (\n",
    "    sim_df.query('category_A==\"A2\"').score.mean() \n",
    "    - sim_df.query('category_A==\"A1\"').score.mean()\n",
    ")\n",
    "\n",
    "B_mean_diff = (\n",
    "    sim_df.query('category_B==\"B2\"').score.mean() \n",
    "    - sim_df.query('category_B==\"B1\"').score.mean()\n",
    ")\n",
    "\n",
    "AB_diff = ( # (A1B1 - A1B2) - (A2B1 - A2B2)\n",
    "    sim_df[(sim_df.category_A == 'A1') & (sim_df.category_B == 'B1')].score.mean()\n",
    "    - sim_df[(sim_df.category_A == 'A1') & (sim_df.category_B == 'B2')].score.mean()\n",
    "    - sim_df[(sim_df.category_A == 'A2') & (sim_df.category_B == 'B1')].score.mean()\n",
    "    + sim_df[(sim_df.category_A == 'A2') & (sim_df.category_B == 'B2')].score.mean()\n",
    ")\n",
    "\n",
    "print(f'Diff in means of category A: {np.round(A_mean_diff, 3)}')\n",
    "print(f'Diff in means of category B: {np.round(B_mean_diff, 3)}')\n",
    "print(f'Diff of Diff of means of category A & B: {np.round(AB_diff, 3)}')"
   ]
  },
  {
   "cell_type": "code",
   "execution_count": 53,
   "id": "5adb2911",
   "metadata": {},
   "outputs": [],
   "source": [
    "def permute_values(N=1000):\n",
    "    A_pseudo_diff = []\n",
    "    B_pseudo_diff = []\n",
    "    AB_pseudo_diff = []\n",
    "    \n",
    "    for _ in range(N):\n",
    "        sim_df['pseudo_score'] = np.random.permutation(sim_df.score)\n",
    "        \n",
    "        A_diff = (\n",
    "            sim_df.query('category_A==\"A2\"').pseudo_score.mean() \n",
    "            - sim_df.query('category_A==\"A1\"').pseudo_score.mean()\n",
    "        )\n",
    "        A_pseudo_diff.append(A_diff)\n",
    "        \n",
    "        B_diff = (\n",
    "            sim_df.query('category_B==\"B2\"').pseudo_score.mean() \n",
    "            - sim_df.query('category_B==\"B1\"').pseudo_score.mean()\n",
    "        )\n",
    "        B_pseudo_diff.append(B_diff)\n",
    "        \n",
    "        AB_diff = (\n",
    "            sim_df[(sim_df.category_A == 'A1') & (sim_df.category_B == 'B1')].pseudo_score.mean()\n",
    "            - sim_df[(sim_df.category_A == 'A1') & (sim_df.category_B == 'B2')].pseudo_score.mean()\n",
    "            - sim_df[(sim_df.category_A == 'A2') & (sim_df.category_B == 'B1')].pseudo_score.mean()\n",
    "            + sim_df[(sim_df.category_A == 'A2') & (sim_df.category_B == 'B2')].pseudo_score.mean()\n",
    "        )\n",
    "        AB_pseudo_diff.append(AB_diff)\n",
    "\n",
    "        \n",
    "    return np.array(A_pseudo_diff), np.array(B_pseudo_diff), np.array(AB_pseudo_diff)\n",
    "\n",
    "\n",
    "\n",
    "A_pseudo_diff, B_pseudo_diff, AB_pseudo_diff = permute_values()"
   ]
  },
  {
   "cell_type": "code",
   "execution_count": 54,
   "id": "e345b9b3",
   "metadata": {},
   "outputs": [],
   "source": [
    "A_p_value = np.min([\n",
    "    [np.mean(A_pseudo_diff > A_mean_diff), np.mean(A_pseudo_diff < A_mean_diff)]\n",
    "])\n",
    "\n",
    "B_p_value = np.min([\n",
    "    [np.mean(B_pseudo_diff > B_mean_diff), np.mean(B_pseudo_diff < B_mean_diff)]\n",
    "])\n",
    "\n",
    "AB_p_value = np.min([\n",
    "    [np.mean(AB_pseudo_diff > AB_diff), np.mean(AB_pseudo_diff < AB_diff)]\n",
    "])"
   ]
  },
  {
   "cell_type": "code",
   "execution_count": 55,
   "id": "9d429860",
   "metadata": {},
   "outputs": [
    {
     "data": {
      "image/png": "[encoded data removed]",
      "text/plain": [
       "<Figure size 900x300 with 3 Axes>"
      ]
     },
     "metadata": {},
     "output_type": "display_data"
    }
   ],
   "source": [
    "fig, ax = plt.subplots(1, 3, figsize=(9,3), sharex=True, sharey=True)\n",
    "\n",
    "ax[0] = sns.histplot(data=A_pseudo_diff, color='b', ax=ax[0])\n",
    "ax[0].axvline(A_mean_diff, color='grey', lw=2, ls='--')\n",
    "ax[0].set(xlabel='Pseudo Difference \\n of Means in Category A')\n",
    "ax[0].text(0.75, 80, f'p_value:{A_p_value}')\n",
    "\n",
    "ax[1] = sns.histplot(data=B_pseudo_diff, color='r', ax=ax[1])\n",
    "ax[1].axvline(B_mean_diff, color='grey', lw=2, ls='--')\n",
    "ax[1].set(xlabel='Pseudo Difference \\n of Means in Category B')\n",
    "ax[1].text(0.75, 80, f'p_value:{B_p_value}');\n",
    "\n",
    "ax[2] = sns.histplot(data=AB_pseudo_diff, color='k', ax=ax[2])\n",
    "ax[2].axvline(AB_diff, color='grey', lw=2, ls='--')\n",
    "ax[2].set(xlabel='Pseudo Difference \\n of differences of Category A & B')\n",
    "ax[2].text(0.75, 80, f'p_value:{AB_p_value}');"
   ]
  }
 ],
 "metadata": {
  "kernelspec": {
   "display_name": "Python 3 (ipykernel)",
   "language": "python",
   "name": "python3"
  },
  "language_info": {
   "codemirror_mode": {
    "name": "ipython",
    "version": 3
   },
   "file_extension": ".py",
   "mimetype": "text/x-python",
   "name": "python",
   "nbconvert_exporter": "python",
   "pygments_lexer": "ipython3",
   "version": "3.10.6"
  }
 },
 "nbformat": 4,
 "nbformat_minor": 5
}
