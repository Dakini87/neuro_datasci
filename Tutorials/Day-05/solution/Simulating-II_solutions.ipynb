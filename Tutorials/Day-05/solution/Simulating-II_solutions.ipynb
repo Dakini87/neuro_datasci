{
 "cells": [
  {
   "cell_type": "markdown",
   "id": "e215f35a",
   "metadata": {},
   "source": [
    "![SegmentLocal](../../assets/images/Logo2.png)"
   ]
  },
  {
   "cell_type": "markdown",
   "id": "6e14c919",
   "metadata": {},
   "source": [
    "# Parametric and Non-Parametric Analysis \n",
    "\n",
    "*ACC online course, Institute of Cognitive Science, University of Osnabrueck* "
   ]
  },
  {
   "cell_type": "markdown",
   "id": "62738ad9",
   "metadata": {},
   "source": [
    "## Prerequisites\n",
    "For this chapter, you should be familiar with the following concepts and techniques:\n",
    "* Basic Python programming\n",
    "* Working with Pandas & NumPy\n",
    "* Knowledge of Descriptive Statistics\n",
    "* Statistical plotting"
   ]
  },
  {
   "cell_type": "markdown",
   "id": "5a6ab202",
   "metadata": {},
   "source": [
    "# Scope\n",
    "\n",
    "In this tutorial, you will learn:\n",
    "- how to simulate experimental data based on some statistical properties\n",
    "- how to test difference between means using t-tests\n",
    "- how to test differences between means between means in a 2x2 experimental design using ANOVA\n",
    "- how to formulate linear models and how to interpret the model coefficients\n",
    "- and, how to perform non-parametric permutation tests\n",
    "\n",
    "with this information, you should be able to start beginner level analysis in your thesis and other projects in teh future."
   ]
  },
  {
   "cell_type": "code",
   "execution_count": 88,
   "id": "b4be5f44",
   "metadata": {},
   "outputs": [],
   "source": [
    "import matplotlib.pyplot as plt\n",
    "import numpy as np\n",
    "import pandas as pd\n",
    "import random\n",
    "import scipy\n",
    "import seaborn as sns\n",
    "import statsmodels.api as sm\n",
    "from statsmodels.formula.api import ols"
   ]
  },
  {
   "cell_type": "markdown",
   "id": "8de2da26",
   "metadata": {},
   "source": [
    "## Simulate data\n",
    "\n",
    "In this section, you are require to create a data set of 1 category with two levels. There are two types of people, a `smokers` and `non-smokers` diet. We want to simulate the amount of carbon monoxide in the lungs of 100 volunteers in each group.\n",
    "\n",
    "Your task is to simulate the data of the amount of CO in the lungs of `smokers` (mean = 10, SD=3.5) in `non-smokers` (mean=2.5, SD=1.8)"
   ]
  },
  {
   "cell_type": "code",
   "execution_count": 73,
   "id": "95af450d",
   "metadata": {},
   "outputs": [
    {
     "data": {
      "text/html": [
       "<div>\n",
       "<style scoped>\n",
       "    .dataframe tbody tr th:only-of-type {\n",
       "        vertical-align: middle;\n",
       "    }\n",
       "\n",
       "    .dataframe tbody tr th {\n",
       "        vertical-align: top;\n",
       "    }\n",
       "\n",
       "    .dataframe thead th {\n",
       "        text-align: right;\n",
       "    }\n",
       "</style>\n",
       "<table border=\"1\" class=\"dataframe\">\n",
       "  <thead>\n",
       "    <tr style=\"text-align: right;\">\n",
       "      <th></th>\n",
       "      <th>is_smoker</th>\n",
       "      <th>CO_level</th>\n",
       "    </tr>\n",
       "  </thead>\n",
       "  <tbody>\n",
       "    <tr>\n",
       "      <th>0</th>\n",
       "      <td>Yes</td>\n",
       "      <td>10.105437</td>\n",
       "    </tr>\n",
       "    <tr>\n",
       "      <th>1</th>\n",
       "      <td>Yes</td>\n",
       "      <td>10.502287</td>\n",
       "    </tr>\n",
       "    <tr>\n",
       "      <th>2</th>\n",
       "      <td>Yes</td>\n",
       "      <td>12.547213</td>\n",
       "    </tr>\n",
       "    <tr>\n",
       "      <th>3</th>\n",
       "      <td>Yes</td>\n",
       "      <td>6.595912</td>\n",
       "    </tr>\n",
       "    <tr>\n",
       "      <th>4</th>\n",
       "      <td>Yes</td>\n",
       "      <td>7.594324</td>\n",
       "    </tr>\n",
       "  </tbody>\n",
       "</table>\n",
       "</div>"
      ],
      "text/plain": [
       "  is_smoker   CO_level\n",
       "0       Yes  10.105437\n",
       "1       Yes  10.502287\n",
       "2       Yes  12.547213\n",
       "3       Yes   6.595912\n",
       "4       Yes   7.594324"
      ]
     },
     "execution_count": 73,
     "metadata": {},
     "output_type": "execute_result"
    }
   ],
   "source": [
    "data = {\n",
    "    'is_smoker':np.concatenate([['Yes']*100, ['No']*100]),\n",
    "    'CO_level':np.concatenate([np.random.normal(10, 3.5, 100), np.random.normal(2.5, 1.8, 100)]),\n",
    "}\n",
    "sim_df = pd.DataFrame.from_dict(data)\n",
    "\n",
    "sim_df.head()"
   ]
  },
  {
   "cell_type": "markdown",
   "id": "d193a92a",
   "metadata": {},
   "source": [
    "Now that you have simulated the data, calculate the overall average `CO_level` found in the lungs. Also, calculate the mean and std of the `CO_level` per category of `is_smoker`. "
   ]
  },
  {
   "cell_type": "code",
   "execution_count": 74,
   "id": "51b642ce",
   "metadata": {},
   "outputs": [
    {
     "data": {
      "text/plain": [
       "mean    6.505697\n",
       "std     4.821182\n",
       "Name: CO_level, dtype: float64"
      ]
     },
     "metadata": {},
     "output_type": "display_data"
    },
    {
     "data": {
      "text/html": [
       "<div>\n",
       "<style scoped>\n",
       "    .dataframe tbody tr th:only-of-type {\n",
       "        vertical-align: middle;\n",
       "    }\n",
       "\n",
       "    .dataframe tbody tr th {\n",
       "        vertical-align: top;\n",
       "    }\n",
       "\n",
       "    .dataframe thead th {\n",
       "        text-align: right;\n",
       "    }\n",
       "</style>\n",
       "<table border=\"1\" class=\"dataframe\">\n",
       "  <thead>\n",
       "    <tr style=\"text-align: right;\">\n",
       "      <th></th>\n",
       "      <th>mean</th>\n",
       "      <th>std</th>\n",
       "    </tr>\n",
       "    <tr>\n",
       "      <th>is_smoker</th>\n",
       "      <th></th>\n",
       "      <th></th>\n",
       "    </tr>\n",
       "  </thead>\n",
       "  <tbody>\n",
       "    <tr>\n",
       "      <th>No</th>\n",
       "      <td>2.522038</td>\n",
       "      <td>1.809126</td>\n",
       "    </tr>\n",
       "    <tr>\n",
       "      <th>Yes</th>\n",
       "      <td>10.489356</td>\n",
       "      <td>3.374873</td>\n",
       "    </tr>\n",
       "  </tbody>\n",
       "</table>\n",
       "</div>"
      ],
      "text/plain": [
       "                mean       std\n",
       "is_smoker                     \n",
       "No          2.522038  1.809126\n",
       "Yes        10.489356  3.374873"
      ]
     },
     "metadata": {},
     "output_type": "display_data"
    }
   ],
   "source": [
    "display(sim_df.CO_level.agg(['mean', 'std']))\n",
    "\n",
    "display(sim_df.groupby(['is_smoker']).CO_level.agg(['mean', 'std']))"
   ]
  },
  {
   "cell_type": "markdown",
   "id": "544cfdd4",
   "metadata": {},
   "source": [
    "Using a [sns.pointplot](https://seaborn.pydata.org/generated/seaborn.pointplot.html), plot the mean and 95\\% CI of the `CO_level` in smokers and non-smokers. Checkout [sns.despine()](https://seaborn.pydata.org/generated/seaborn.despine.html) and [sns.set()](https://seaborn.pydata.org/generated/seaborn.set.html) to create a different style of pointplot than you have made before."
   ]
  },
  {
   "cell_type": "code",
   "execution_count": 86,
   "id": "8bc06f4d",
   "metadata": {},
   "outputs": [
    {
     "data": {
      "image/png": "[encoded data removed]",
      "text/plain": [
       "<Figure size 300x400 with 1 Axes>"
      ]
     },
     "metadata": {},
     "output_type": "display_data"
    }
   ],
   "source": [
    "sns.set(context='poster', palette='muted', style='ticks')\n",
    "fig, ax =plt.subplots(figsize=(3,4))\n",
    "ax = sns.pointplot(\n",
    "    data=sim_df,\n",
    "    y='CO_level',\n",
    "    x='is_smoker',\n",
    "    order=['No', 'Yes'],\n",
    "    errorbar=('ci', 95),\n",
    "    dodge=True,\n",
    "    ax=ax\n",
    ")\n",
    "\n",
    "ax.set(ylim=(0, 15))\n",
    "sns.despine(offset=10)"
   ]
  },
  {
   "cell_type": "markdown",
   "id": "cb2389e9",
   "metadata": {},
   "source": [
    "## Parametric Methods of Testing Differences in Means\n",
    "\n",
    "### Using T-tests"
   ]
  },
  {
   "cell_type": "markdown",
   "id": "854ee372",
   "metadata": {},
   "source": [
    "Using [ttest_ind()](https://docs.scipy.org/doc/scipy/reference/generated/scipy.stats.ttest_ind.html) function of scipy, calculate the t-statistic and p-value of difference between the means of `CO-level` in smokers and non-smokers"
   ]
  },
  {
   "cell_type": "code",
   "execution_count": 89,
   "id": "ddd8fd5b",
   "metadata": {},
   "outputs": [
    {
     "name": "stdout",
     "output_type": "stream",
     "text": [
      "Ttest result: Ttest_indResult(statistic=20.806789040034236, pvalue=1.0141093702268962e-51)\n"
     ]
    }
   ],
   "source": [
    "a = sim_df.query('is_smoker == \"Yes\"').CO_level\n",
    "b = sim_df.query('is_smoker == \"No\"').CO_level\n",
    "\n",
    "\n",
    "print(f'Ttest result: {scipy.stats.ttest_ind(a, b)}')"
   ]
  },
  {
   "cell_type": "markdown",
   "id": "618cf27e",
   "metadata": {},
   "source": [
    "<div class=\"alert alert-block alert-warning\">\n",
    "<b>Think!</b>  \n",
    "<br>\n",
    "What does the t-statistic and the p-value convey here? Please write in words below. \n",
    " <br>   \n",
    " <i>If you had to report the results in a research paper, how would you report it in APA format?</i>\n",
    "</div>"
   ]
  },
  {
   "cell_type": "markdown",
   "id": "70cc2d25",
   "metadata": {},
   "source": [
    "### Using ANOVA\n",
    "\n",
    "Using [OLS()](https://www.statsmodels.org/stable/generated/statsmodels.regression.linear_model.OLS.html#statsmodels.regression.linear_model.OLS) and [anova_lm()](https://www.statsmodels.org/stable/anova.html)function of `statsmodels`, calculate the F-statistic and p-value of difference between the means of `CO-level` in smokers and non-smokers"
   ]
  },
  {
   "cell_type": "code",
   "execution_count": 91,
   "id": "2c1b0159",
   "metadata": {},
   "outputs": [
    {
     "data": {
      "text/html": [
       "<div>\n",
       "<style scoped>\n",
       "    .dataframe tbody tr th:only-of-type {\n",
       "        vertical-align: middle;\n",
       "    }\n",
       "\n",
       "    .dataframe tbody tr th {\n",
       "        vertical-align: top;\n",
       "    }\n",
       "\n",
       "    .dataframe thead th {\n",
       "        text-align: right;\n",
       "    }\n",
       "</style>\n",
       "<table border=\"1\" class=\"dataframe\">\n",
       "  <thead>\n",
       "    <tr style=\"text-align: right;\">\n",
       "      <th></th>\n",
       "      <th>sum_sq</th>\n",
       "      <th>df</th>\n",
       "      <th>F</th>\n",
       "      <th>PR(&gt;F)</th>\n",
       "    </tr>\n",
       "  </thead>\n",
       "  <tbody>\n",
       "    <tr>\n",
       "      <th>C(is_smoker, Sum)</th>\n",
       "      <td>3173.908</td>\n",
       "      <td>1.0</td>\n",
       "      <td>432.922</td>\n",
       "      <td>0.0</td>\n",
       "    </tr>\n",
       "    <tr>\n",
       "      <th>Residual</th>\n",
       "      <td>1451.608</td>\n",
       "      <td>198.0</td>\n",
       "      <td>NaN</td>\n",
       "      <td>NaN</td>\n",
       "    </tr>\n",
       "  </tbody>\n",
       "</table>\n",
       "</div>"
      ],
      "text/plain": [
       "                     sum_sq     df        F  PR(>F)\n",
       "C(is_smoker, Sum)  3173.908    1.0  432.922     0.0\n",
       "Residual           1451.608  198.0      NaN     NaN"
      ]
     },
     "metadata": {},
     "output_type": "display_data"
    }
   ],
   "source": [
    "lm = ols('CO_level ~ 1 + C(is_smoker, Sum)', data=sim_df).fit()\n",
    "summary = sm.stats.anova_lm(lm, typ=2)\n",
    "display(summary.round(3))"
   ]
  },
  {
   "cell_type": "markdown",
   "id": "e996ef3b",
   "metadata": {},
   "source": [
    "<div class=\"alert alert-block alert-warning\">\n",
    "<b>Think!</b>  \n",
    "<br>\n",
    "What does the F-statistic and the p-value convey here?\n",
    "<br>   \n",
    "<i>If you had to report the results in a research paper, how would you report it in APA format?</i>\n",
    "</div>"
   ]
  },
  {
   "cell_type": "markdown",
   "id": "9095245c",
   "metadata": {},
   "source": [
    "### Using Ordinary Least Squares\n",
    "\n",
    "Now checkout the coefficients of the linear model using `lm.summary()` function."
   ]
  },
  {
   "cell_type": "code",
   "execution_count": 92,
   "id": "aa4e5d69",
   "metadata": {},
   "outputs": [
    {
     "data": {
      "text/html": [
       "<table class=\"simpletable\">\n",
       "<caption>OLS Regression Results</caption>\n",
       "<tr>\n",
       "  <th>Dep. Variable:</th>        <td>CO_level</td>     <th>  R-squared:         </th> <td>   0.686</td>\n",
       "</tr>\n",
       "<tr>\n",
       "  <th>Model:</th>                   <td>OLS</td>       <th>  Adj. R-squared:    </th> <td>   0.685</td>\n",
       "</tr>\n",
       "<tr>\n",
       "  <th>Method:</th>             <td>Least Squares</td>  <th>  F-statistic:       </th> <td>   432.9</td>\n",
       "</tr>\n",
       "<tr>\n",
       "  <th>Date:</th>             <td>Fri, 11 Nov 2022</td> <th>  Prob (F-statistic):</th> <td>1.01e-51</td>\n",
       "</tr>\n",
       "<tr>\n",
       "  <th>Time:</th>                 <td>12:23:00</td>     <th>  Log-Likelihood:    </th> <td> -482.00</td>\n",
       "</tr>\n",
       "<tr>\n",
       "  <th>No. Observations:</th>      <td>   200</td>      <th>  AIC:               </th> <td>   968.0</td>\n",
       "</tr>\n",
       "<tr>\n",
       "  <th>Df Residuals:</th>          <td>   198</td>      <th>  BIC:               </th> <td>   974.6</td>\n",
       "</tr>\n",
       "<tr>\n",
       "  <th>Df Model:</th>              <td>     1</td>      <th>                     </th>     <td> </td>   \n",
       "</tr>\n",
       "<tr>\n",
       "  <th>Covariance Type:</th>      <td>nonrobust</td>    <th>                     </th>     <td> </td>   \n",
       "</tr>\n",
       "</table>\n",
       "<table class=\"simpletable\">\n",
       "<tr>\n",
       "             <td></td>                <th>coef</th>     <th>std err</th>      <th>t</th>      <th>P>|t|</th>  <th>[0.025</th>    <th>0.975]</th>  \n",
       "</tr>\n",
       "<tr>\n",
       "  <th>Intercept</th>               <td>    6.5057</td> <td>    0.191</td> <td>   33.979</td> <td> 0.000</td> <td>    6.128</td> <td>    6.883</td>\n",
       "</tr>\n",
       "<tr>\n",
       "  <th>C(is_smoker, Sum)[S.No]</th> <td>   -3.9837</td> <td>    0.191</td> <td>  -20.807</td> <td> 0.000</td> <td>   -4.361</td> <td>   -3.606</td>\n",
       "</tr>\n",
       "</table>\n",
       "<table class=\"simpletable\">\n",
       "<tr>\n",
       "  <th>Omnibus:</th>       <td>12.962</td> <th>  Durbin-Watson:     </th> <td>   1.789</td>\n",
       "</tr>\n",
       "<tr>\n",
       "  <th>Prob(Omnibus):</th> <td> 0.002</td> <th>  Jarque-Bera (JB):  </th> <td>  24.183</td>\n",
       "</tr>\n",
       "<tr>\n",
       "  <th>Skew:</th>          <td> 0.300</td> <th>  Prob(JB):          </th> <td>5.61e-06</td>\n",
       "</tr>\n",
       "<tr>\n",
       "  <th>Kurtosis:</th>      <td> 4.594</td> <th>  Cond. No.          </th> <td>    1.00</td>\n",
       "</tr>\n",
       "</table><br/><br/>Notes:<br/>[1] Standard Errors assume that the covariance matrix of the errors is correctly specified."
      ],
      "text/plain": [
       "<class 'statsmodels.iolib.summary.Summary'>\n",
       "\"\"\"\n",
       "                            OLS Regression Results                            \n",
       "==============================================================================\n",
       "Dep. Variable:               CO_level   R-squared:                       0.686\n",
       "Model:                            OLS   Adj. R-squared:                  0.685\n",
       "Method:                 Least Squares   F-statistic:                     432.9\n",
       "Date:                Fri, 11 Nov 2022   Prob (F-statistic):           1.01e-51\n",
       "Time:                        12:23:00   Log-Likelihood:                -482.00\n",
       "No. Observations:                 200   AIC:                             968.0\n",
       "Df Residuals:                     198   BIC:                             974.6\n",
       "Df Model:                           1                                         \n",
       "Covariance Type:            nonrobust                                         \n",
       "===========================================================================================\n",
       "                              coef    std err          t      P>|t|      [0.025      0.975]\n",
       "-------------------------------------------------------------------------------------------\n",
       "Intercept                   6.5057      0.191     33.979      0.000       6.128       6.883\n",
       "C(is_smoker, Sum)[S.No]    -3.9837      0.191    -20.807      0.000      -4.361      -3.606\n",
       "==============================================================================\n",
       "Omnibus:                       12.962   Durbin-Watson:                   1.789\n",
       "Prob(Omnibus):                  0.002   Jarque-Bera (JB):               24.183\n",
       "Skew:                           0.300   Prob(JB):                     5.61e-06\n",
       "Kurtosis:                       4.594   Cond. No.                         1.00\n",
       "==============================================================================\n",
       "\n",
       "Notes:\n",
       "[1] Standard Errors assume that the covariance matrix of the errors is correctly specified.\n",
       "\"\"\""
      ]
     },
     "execution_count": 92,
     "metadata": {},
     "output_type": "execute_result"
    }
   ],
   "source": [
    "lm.summary()"
   ]
  },
  {
   "cell_type": "markdown",
   "id": "6514915e",
   "metadata": {},
   "source": [
    "<div class=\"alert alert-block alert-warning\">\n",
    "<b>Think!</b>  \n",
    "<br>\n",
    "What do the coefficients convey here? Compare the coefficients of the intercept and the is_smoker factor to the mean values you calculated before. What does that tell you?\n",
    "</div>"
   ]
  },
  {
   "cell_type": "markdown",
   "id": "424f2f23",
   "metadata": {},
   "source": [
    "## Non-Parametric Methods of Testing Difference in Means\n",
    "\n",
    "In this section, we will use [Permutation Tests](https://en.wikipedia.org/wiki/Permutation_test) to test the hypothesis if there is a difference between the `CO_level` in the lungs of smokers vs. non-smokers.\n",
    "\n",
    "$H_0$: there is no difference between the `CO-level` of smoker vs. non-smokers.\n",
    "<br><br>\n",
    "$H_1$: these is a significant difference between the `CO_level` of smokers vs. non-smokers"
   ]
  },
  {
   "cell_type": "markdown",
   "id": "a2fc68fc",
   "metadata": {},
   "source": [
    "As shown in the demo, calculate the actual difference in the mean value of `CO_level` between smokers and non-smokers."
   ]
  },
  {
   "cell_type": "code",
   "execution_count": 95,
   "id": "fa252387",
   "metadata": {},
   "outputs": [
    {
     "name": "stdout",
     "output_type": "stream",
     "text": [
      "Diff in means of CO_levels of smokers vs. non-smokers: 7.967\n"
     ]
    }
   ],
   "source": [
    "mean_diff = (\n",
    "    sim_df.query('is_smoker==\"Yes\"').CO_level.mean() \n",
    "    - sim_df.query('is_smoker==\"No\"').CO_level.mean()\n",
    ")\n",
    "\n",
    "print(f'Diff in means of CO_levels of smokers vs. non-smokers: {np.round(mean_diff, 3)}')"
   ]
  },
  {
   "cell_type": "markdown",
   "id": "56461d0f",
   "metadata": {},
   "source": [
    "Now, write a function that computes a distribution of _pseudo differences_ with the values of `CO_level` permuted between smokers and non-smokers."
   ]
  },
  {
   "cell_type": "code",
   "execution_count": 96,
   "id": "c5286817",
   "metadata": {},
   "outputs": [],
   "source": [
    "def permute_values(N=1000):\n",
    "    pseudo_diff = []\n",
    "\n",
    "    for _ in range(N):\n",
    "        sim_df['pseudo_colevel'] = np.random.permutation(sim_df.CO_level)\n",
    "        \n",
    "        diff = (\n",
    "            sim_df.query('is_smoker==\"Yes\"').pseudo_colevel.mean() \n",
    "            - sim_df.query('is_smoker==\"No\"').pseudo_colevel.mean()\n",
    "        )\n",
    "        pseudo_diff.append(diff)\n",
    "        \n",
    "        \n",
    "    return np.array(pseudo_diff)\n",
    "\n",
    "smoker_pseudo_diff = permute_values()"
   ]
  },
  {
   "cell_type": "markdown",
   "id": "ca2c37f3",
   "metadata": {},
   "source": [
    "Now that you have computed the pseudo differences, calculate the **area under the curve (AUC)** of the values that are greater than or less than the actual difference. Take the minimum of the two AUC. This number will represent the p-value."
   ]
  },
  {
   "cell_type": "code",
   "execution_count": 98,
   "id": "dc99cbf1",
   "metadata": {},
   "outputs": [],
   "source": [
    "p_value = np.min([\n",
    "    [np.mean(smoker_pseudo_diff > mean_diff), np.mean(smoker_pseudo_diff < mean_diff)]\n",
    "])"
   ]
  },
  {
   "cell_type": "markdown",
   "id": "1d295b92",
   "metadata": {},
   "source": [
    "Now plot the distribution of the pseudo differences between smokers. Additionally, draw the value of the actual difference between smoker vs. non-smokers derived from your data."
   ]
  },
  {
   "cell_type": "code",
   "execution_count": 107,
   "id": "44652ca9",
   "metadata": {},
   "outputs": [
    {
     "data": {
      "image/png": "[encoded data removed]",
      "text/plain": [
       "<Figure size 400x400 with 1 Axes>"
      ]
     },
     "metadata": {},
     "output_type": "display_data"
    }
   ],
   "source": [
    "fig, ax = plt.subplots(1, 1, figsize=(4,4), sharex=True, sharey=True)\n",
    "\n",
    "ax = sns.histplot(data=smoker_pseudo_diff, color='b', ax=ax)\n",
    "ax.axvline(mean_diff, color='grey', lw=2, ls='--')\n",
    "ax.set(\n",
    "    ylim=(0,110),\n",
    "    xlim=(-10, 10),\n",
    "    xlabel='Pseudo Difference \\n between smokers and non-smokers'\n",
    ")\n",
    "ax.text(1, 80, f'p_value:{p_value}')\n",
    "sns.despine(offset=10)"
   ]
  },
  {
   "cell_type": "markdown",
   "id": "e074f3e8",
   "metadata": {},
   "source": [
    "<div class=\"alert alert-block alert-warning\">\n",
    "<b>Think!</b>  \n",
    "<br>\n",
    "Can you reject the null hypothesis? Why?\n",
    "</div>"
   ]
  },
  {
   "cell_type": "markdown",
   "id": "64c202c1",
   "metadata": {},
   "source": [
    "# BONUS!!!\n",
    "\n",
    "Now that you know how to do hypothesis testing with parametric and non-parametric methods, simulate a dataset with 2x2 experimental design and try the above methods you used above.\n",
    "\n",
    "Refer to the demo notebook from today if you need help.\n",
    "\n",
    "Have fun!"
   ]
  }
 ],
 "metadata": {
  "kernelspec": {
   "display_name": "Python 3 (ipykernel)",
   "language": "python",
   "name": "python3"
  },
  "language_info": {
   "codemirror_mode": {
    "name": "ipython",
    "version": 3
   },
   "file_extension": ".py",
   "mimetype": "text/x-python",
   "name": "python",
   "nbconvert_exporter": "python",
   "pygments_lexer": "ipython3",
   "version": "3.10.6"
  }
 },
 "nbformat": 4,
 "nbformat_minor": 5
}
