{
 "cells": [
  {
   "cell_type": "markdown",
   "metadata": {},
   "source": [
    "![SegmentLocal](../../assets/images/Logo2.png)"
   ]
  },
  {
   "cell_type": "markdown",
   "metadata": {},
   "source": [
    "# Data Cleaning \n",
    "\n",
    " *ACC online course, Institute of Cognitive Science, University of Osnabrueck* "
   ]
  },
  {
   "cell_type": "markdown",
   "metadata": {},
   "source": [
    "## Prerequisites\n",
    "For this chapter, you should be familiar with the following concepts and techniques:\n",
    "* Basic Python programming\n",
    "* Working with Pandas\n",
    "* Statistical Analysis\n",
    "* Statistical plotting"
   ]
  },
  {
   "cell_type": "markdown",
   "metadata": {},
   "source": [
    "### Eye tracking data"
   ]
  },
  {
   "cell_type": "markdown",
   "metadata": {},
   "source": [
    "##### The Osnabrueck-Hamburg eye tracking data set\n",
    "\n",
    "In this chapter we will work with a collection of eye tracking data from several studies conducted at the Institute of Cognitive Science, University of Osnabrueck and at the University Medical Center Hamburg-Eppendorf. \n",
    "\n",
    "Take a look at the paper for more information on the dataset and the individual studies: <br>\n",
    "[ Wilming, N. et al. (2017). An extensive dataset of eye movements during viewing of complex images. Sci. Data 4:160126.](https://doi.org/10.1038/sdata.2016.126)\n",
    "\n",
    "If you are interested in the topic, the dataset is openly distributed and can be downloaded [here](https://datadryad.org/stash/dataset/doi:10.5061/dryad.9pf75). <br> \n",
    "\n",
    "We have already downloaded the relevant data for this exercise and it it stored in the **./et_data** folder."
   ]
  },
  {
   "cell_type": "markdown",
   "metadata": {},
   "source": [
    "<div class=\"alert alert-block alert-warning\">\n",
    "<b>Note:</b> The data that we will use in this chapter is already preprocessed; this means that\n",
    "    instead of raw gaze data it contains the coordinates of fixation poitns.\n",
    "</div>\n"
   ]
  },
  {
   "cell_type": "markdown",
   "metadata": {},
   "source": [
    "## Loading the data\n",
    "As usual, the first step is to load the data and to get an idea of how the data looks like before we start doing any analysis on it. It is always a good idea to spend some time familiarizing with the data, this will especially turn out to be helpful when it comes to checking whether there are any mistakes in the subsequent analysis. Take a look at the meta data and the columns of the dataframe."
   ]
  },
  {
   "cell_type": "code",
   "execution_count": 1,
   "metadata": {
    "scrolled": false
   },
   "outputs": [],
   "source": [
    "# Python packages required for this chapter\n",
    "import numpy as np\n",
    "import matplotlib.image as img\n",
    "import matplotlib.pyplot as plt\n",
    "import seaborn as sns\n",
    "import statsmodels.api as sm\n",
    "from statsmodels.stats.anova import *\n",
    "import urllib\n",
    "from io import BytesIO\n",
    "from PIL import Image"
   ]
  },
  {
   "cell_type": "code",
   "execution_count": 2,
   "metadata": {
    "scrolled": true
   },
   "outputs": [],
   "source": [
    "df_url = 'https://raw.githubusercontent.com/ashimakeshava/ACC_SS2021/main/Tutorials/Day-03/et_data/et_data_handedness.csv'\n",
    "meta_url = 'https://raw.githubusercontent.com/ashimakeshava/ACC_SS2021/main/Tutorials/Day-03/et_data/meta_data.csv'\n",
    "df = pd.read_csv(df_url)\n",
    "meta = pd.read_csv(meta_url)"
   ]
  },
  {
   "cell_type": "code",
   "execution_count": 3,
   "metadata": {
    "scrolled": true
   },
   "outputs": [
    {
     "data": {
      "text/html": [
       "<div>\n",
       "<style scoped>\n",
       "    .dataframe tbody tr th:only-of-type {\n",
       "        vertical-align: middle;\n",
       "    }\n",
       "\n",
       "    .dataframe tbody tr th {\n",
       "        vertical-align: top;\n",
       "    }\n",
       "\n",
       "    .dataframe thead th {\n",
       "        text-align: right;\n",
       "    }\n",
       "</style>\n",
       "<table border=\"1\" class=\"dataframe\">\n",
       "  <thead>\n",
       "    <tr style=\"text-align: right;\">\n",
       "      <th></th>\n",
       "      <th>SUBJECTINDEX</th>\n",
       "      <th>category</th>\n",
       "      <th>dataset_nr</th>\n",
       "      <th>delay</th>\n",
       "      <th>end</th>\n",
       "      <th>eye</th>\n",
       "      <th>filenumber</th>\n",
       "      <th>fix</th>\n",
       "      <th>handedness</th>\n",
       "      <th>image</th>\n",
       "      <th>mirror</th>\n",
       "      <th>pupil</th>\n",
       "      <th>spatial_filter</th>\n",
       "      <th>start</th>\n",
       "      <th>trial</th>\n",
       "      <th>x</th>\n",
       "      <th>y</th>\n",
       "    </tr>\n",
       "  </thead>\n",
       "  <tbody>\n",
       "    <tr>\n",
       "      <th>0</th>\n",
       "      <td>1</td>\n",
       "      <td>24</td>\n",
       "      <td>21</td>\n",
       "      <td>0</td>\n",
       "      <td>634</td>\n",
       "      <td>1</td>\n",
       "      <td>22</td>\n",
       "      <td>1</td>\n",
       "      <td>0</td>\n",
       "      <td>22</td>\n",
       "      <td>1</td>\n",
       "      <td>762.14110</td>\n",
       "      <td>2</td>\n",
       "      <td>512</td>\n",
       "      <td>1</td>\n",
       "      <td>604.39170</td>\n",
       "      <td>329.15050</td>\n",
       "    </tr>\n",
       "    <tr>\n",
       "      <th>1</th>\n",
       "      <td>1</td>\n",
       "      <td>24</td>\n",
       "      <td>21</td>\n",
       "      <td>0</td>\n",
       "      <td>1138</td>\n",
       "      <td>1</td>\n",
       "      <td>22</td>\n",
       "      <td>2</td>\n",
       "      <td>0</td>\n",
       "      <td>22</td>\n",
       "      <td>1</td>\n",
       "      <td>750.29877</td>\n",
       "      <td>2</td>\n",
       "      <td>672</td>\n",
       "      <td>1</td>\n",
       "      <td>750.34753</td>\n",
       "      <td>260.32580</td>\n",
       "    </tr>\n",
       "    <tr>\n",
       "      <th>2</th>\n",
       "      <td>1</td>\n",
       "      <td>24</td>\n",
       "      <td>21</td>\n",
       "      <td>0</td>\n",
       "      <td>1550</td>\n",
       "      <td>1</td>\n",
       "      <td>22</td>\n",
       "      <td>3</td>\n",
       "      <td>0</td>\n",
       "      <td>22</td>\n",
       "      <td>1</td>\n",
       "      <td>767.66940</td>\n",
       "      <td>2</td>\n",
       "      <td>1184</td>\n",
       "      <td>1</td>\n",
       "      <td>391.17563</td>\n",
       "      <td>161.79257</td>\n",
       "    </tr>\n",
       "    <tr>\n",
       "      <th>3</th>\n",
       "      <td>1</td>\n",
       "      <td>24</td>\n",
       "      <td>21</td>\n",
       "      <td>0</td>\n",
       "      <td>1990</td>\n",
       "      <td>1</td>\n",
       "      <td>22</td>\n",
       "      <td>4</td>\n",
       "      <td>0</td>\n",
       "      <td>22</td>\n",
       "      <td>1</td>\n",
       "      <td>878.96545</td>\n",
       "      <td>2</td>\n",
       "      <td>1600</td>\n",
       "      <td>1</td>\n",
       "      <td>932.51666</td>\n",
       "      <td>317.48633</td>\n",
       "    </tr>\n",
       "    <tr>\n",
       "      <th>4</th>\n",
       "      <td>1</td>\n",
       "      <td>24</td>\n",
       "      <td>21</td>\n",
       "      <td>0</td>\n",
       "      <td>2386</td>\n",
       "      <td>1</td>\n",
       "      <td>22</td>\n",
       "      <td>5</td>\n",
       "      <td>0</td>\n",
       "      <td>22</td>\n",
       "      <td>1</td>\n",
       "      <td>908.82214</td>\n",
       "      <td>2</td>\n",
       "      <td>2012</td>\n",
       "      <td>1</td>\n",
       "      <td>957.90454</td>\n",
       "      <td>377.89830</td>\n",
       "    </tr>\n",
       "  </tbody>\n",
       "</table>\n",
       "</div>"
      ],
      "text/plain": [
       "   SUBJECTINDEX  category  dataset_nr  delay   end  eye  filenumber  fix  \\\n",
       "0             1        24          21      0   634    1          22    1   \n",
       "1             1        24          21      0  1138    1          22    2   \n",
       "2             1        24          21      0  1550    1          22    3   \n",
       "3             1        24          21      0  1990    1          22    4   \n",
       "4             1        24          21      0  2386    1          22    5   \n",
       "\n",
       "   handedness  image  mirror      pupil  spatial_filter  start  trial  \\\n",
       "0           0     22       1  762.14110               2    512      1   \n",
       "1           0     22       1  750.29877               2    672      1   \n",
       "2           0     22       1  767.66940               2   1184      1   \n",
       "3           0     22       1  878.96545               2   1600      1   \n",
       "4           0     22       1  908.82214               2   2012      1   \n",
       "\n",
       "           x          y  \n",
       "0  604.39170  329.15050  \n",
       "1  750.34753  260.32580  \n",
       "2  391.17563  161.79257  \n",
       "3  932.51666  317.48633  \n",
       "4  957.90454  377.89830  "
      ]
     },
     "execution_count": 3,
     "metadata": {},
     "output_type": "execute_result"
    }
   ],
   "source": [
    "# Take a look at the columns of the dataframe\n",
    "df.head()"
   ]
  },
  {
   "cell_type": "code",
   "execution_count": 4,
   "metadata": {},
   "outputs": [
    {
     "name": "stdout",
     "output_type": "stream",
     "text": [
      "<class 'pandas.core.frame.DataFrame'>\n",
      "RangeIndex: 83834 entries, 0 to 83833\n",
      "Data columns (total 17 columns):\n",
      " #   Column          Non-Null Count  Dtype  \n",
      "---  ------          --------------  -----  \n",
      " 0   SUBJECTINDEX    83834 non-null  int64  \n",
      " 1   category        83834 non-null  int64  \n",
      " 2   dataset_nr      83834 non-null  int64  \n",
      " 3   delay           83834 non-null  int64  \n",
      " 4   end             83834 non-null  int64  \n",
      " 5   eye             83834 non-null  int64  \n",
      " 6   filenumber      83834 non-null  int64  \n",
      " 7   fix             83834 non-null  int64  \n",
      " 8   handedness      83834 non-null  int64  \n",
      " 9   image           83834 non-null  int64  \n",
      " 10  mirror          83834 non-null  int64  \n",
      " 11  pupil           83834 non-null  float64\n",
      " 12  spatial_filter  83834 non-null  int64  \n",
      " 13  start           83834 non-null  int64  \n",
      " 14  trial           83834 non-null  int64  \n",
      " 15  x               83834 non-null  float64\n",
      " 16  y               83834 non-null  float64\n",
      "dtypes: float64(3), int64(14)\n",
      "memory usage: 10.9 MB\n"
     ]
    }
   ],
   "source": [
    "# get more info on df columns and dtypes\n",
    "df.info()"
   ]
  },
  {
   "cell_type": "markdown",
   "metadata": {},
   "source": [
    "The relevant columns and their descriptions are given below: <br>\n",
    "`SUBJECTINDEX` : subject index<br>\n",
    "\n",
    "`category` : category of stimuli (7: Natural, 8: Urban, 24: Natural_HP, 25: Urban_HP, 26: Natural_LP, 27: Urban_LP) <br> \n",
    "\n",
    "`spatial_filter` : filter applied to images (1: None, 2: High_Pass, 3: Low_Pass)\n",
    "\n",
    "`fix`  :  fixation number<br>  \n",
    "\n",
    "`handedness`: handedness of subject (0: right handed, 1: left handed) <br>\n",
    "\n",
    "`image`:  stimuli image used in the trial     <br>  \n",
    "\n",
    "`mirror` :  is stimuli mirrored (0: no, 1: yes)   <br>\n",
    "\n",
    "`pupil`  :  pupil size  <br>  \n",
    "\n",
    "`start` :  time of start of fixation<br>\n",
    "\n",
    "`end ` :   time of end of fixation<br>\n",
    "\n",
    "`trial` :  trial number<br>\n",
    "\n",
    "`x`   :  horizontal position of fixation in screen coordinate     <br> \n",
    "\n",
    "`y ` :   vertical position of fixation in screen coordinate    <br> \n"
   ]
  },
  {
   "cell_type": "code",
   "execution_count": 5,
   "metadata": {},
   "outputs": [
    {
     "data": {
      "text/plain": [
       "0    41956\n",
       "1    41878\n",
       "Name: mirror, dtype: int64"
      ]
     },
     "metadata": {},
     "output_type": "display_data"
    },
    {
     "data": {
      "text/plain": [
       "0    55517\n",
       "1    28317\n",
       "Name: handedness, dtype: int64"
      ]
     },
     "metadata": {},
     "output_type": "display_data"
    }
   ],
   "source": [
    "# TODO: Using value_counts, check the number of rows for mirror condition and handedness conditions\n",
    "display(df.mirror.value_counts())\n",
    "display(df.handedness.value_counts())"
   ]
  },
  {
   "cell_type": "code",
   "execution_count": 6,
   "metadata": {},
   "outputs": [
    {
     "data": {
      "text/plain": [
       "handedness\n",
       "0    31\n",
       "1    17\n",
       "Name: SUBJECTINDEX, dtype: int64"
      ]
     },
     "execution_count": 6,
     "metadata": {},
     "output_type": "execute_result"
    }
   ],
   "source": [
    "# TODO: Check number of unique subjects per handedness condition\n",
    "df.groupby('handedness').SUBJECTINDEX.nunique()"
   ]
  },
  {
   "cell_type": "markdown",
   "metadata": {},
   "source": [
    "## Some data wrangling!\n",
    "\n",
    "1. Add a column ```str_category``` to the dataframe that contains the string value of each category. The string values of the columns are given above.\n",
    "2. Map the numeric values for columns `handedness`, `mirror`, `spatial_filter` to their string values as given above"
   ]
  },
  {
   "cell_type": "code",
   "execution_count": 7,
   "metadata": {},
   "outputs": [],
   "source": [
    "# TODO: \n",
    "df.loc[:, \"str_category\"] = df[\"category\"].replace({\n",
    "    7:\"Natural\", \n",
    "    8:\"Urban\",\n",
    "    24:\"Natural_HP\", \n",
    "    25:\"Urban_HP\",\n",
    "    26:'Natural_LP',\n",
    "    27:'Urban_LP'\n",
    "})\n",
    "\n",
    "df.loc[:, \"handedness\"] = df[\"handedness\"].replace({\n",
    "    1:\"left\", \n",
    "    0:\"right\",\n",
    "})\n",
    "\n",
    "df.loc[:, \"mirror\"] = df[\"mirror\"].replace({\n",
    "    1:\"yes\", \n",
    "    0:\"no\",\n",
    "})\n",
    "\n",
    "df.loc[:, \"spatial_filter\"] = df[\"spatial_filter\"].replace({\n",
    "    1:\"None\", \n",
    "    2:\"High Pass\",\n",
    "    3:\"Low Pass\"\n",
    "})"
   ]
  },
  {
   "cell_type": "markdown",
   "metadata": {},
   "source": [
    "3. Count number of fixations per category"
   ]
  },
  {
   "cell_type": "code",
   "execution_count": 8,
   "metadata": {},
   "outputs": [
    {
     "name": "stdout",
     "output_type": "stream",
     "text": [
      "Fixations per category before data cleaning:\n",
      "str_category\n",
      "Natural       15258\n",
      "Natural_HP    14472\n",
      "Natural_LP    13498\n",
      "Urban         14286\n",
      "Urban_HP      14006\n",
      "Urban_LP      12314\n",
      "Name: fix, dtype: int64\n"
     ]
    }
   ],
   "source": [
    "# TODO: How many fixations are there for each category?\n",
    "fix_count = df.groupby(\"str_category\")['fix'].agg(\"count\")\n",
    "print(\"Fixations per category before data cleaning:\")\n",
    "print(fix_count)"
   ]
  },
  {
   "cell_type": "markdown",
   "metadata": {},
   "source": [
    "4. Remove any rows that have an onset time before 0 sec and an end time after 6 sec. Since measurements lasted for 6 seconds, those rows are erronous and have to be deleted. Save the new dataframe as `df_cleaned`"
   ]
  },
  {
   "cell_type": "code",
   "execution_count": 9,
   "metadata": {},
   "outputs": [],
   "source": [
    "# TODO: Remove fixations which have an on-/offset outside the interval [0 - 6 sec]\n",
    "df_cleaned = df[(df.start>=0) & (df.start<6000) & (df.end<=6000)]"
   ]
  },
  {
   "cell_type": "markdown",
   "metadata": {},
   "source": [
    "5. Add a column called ```duration``` and compute the duration of each fixation using the `start` and `end` columns"
   ]
  },
  {
   "cell_type": "code",
   "execution_count": 10,
   "metadata": {},
   "outputs": [
    {
     "name": "stderr",
     "output_type": "stream",
     "text": [
      "C:\\Users\\lonesome\\anaconda3\\envs\\acc_conda\\lib\\site-packages\\pandas\\core\\indexing.py:1597: SettingWithCopyWarning: \n",
      "A value is trying to be set on a copy of a slice from a DataFrame.\n",
      "Try using .loc[row_indexer,col_indexer] = value instead\n",
      "\n",
      "See the caveats in the documentation: https://pandas.pydata.org/pandas-docs/stable/user_guide/indexing.html#returning-a-view-versus-a-copy\n",
      "  self.obj[key] = value\n",
      "C:\\Users\\lonesome\\anaconda3\\envs\\acc_conda\\lib\\site-packages\\pandas\\core\\indexing.py:1676: SettingWithCopyWarning: \n",
      "A value is trying to be set on a copy of a slice from a DataFrame.\n",
      "Try using .loc[row_indexer,col_indexer] = value instead\n",
      "\n",
      "See the caveats in the documentation: https://pandas.pydata.org/pandas-docs/stable/user_guide/indexing.html#returning-a-view-versus-a-copy\n",
      "  self._setitem_single_column(ilocs[0], value, pi)\n"
     ]
    }
   ],
   "source": [
    "# TODO: Add a column \"duration\"\n",
    "df_cleaned.loc[:, \"duration\"] = df_cleaned.loc[:, \"end\"] - df_cleaned.loc[:, \"start\"]"
   ]
  },
  {
   "cell_type": "markdown",
   "metadata": {},
   "source": [
    "6. In order to filter out fixation durations which are outliers, we will use median absolute deviation based outlier detection.\n",
    "\n",
    "Take a look at the function ```mad_outlier(data, threshold)``` and use this function to find rows where fixation durations which have a modified z-value of more than 3.5. The funtion returns 0s and 1s. 0 for fix_duration is not an outlier and 1 where duration is outlier. Create another column `is_outlier` to save the output of the function.\n",
    "\n",
    "If you are interested, you can read about [why we are using median absolute deviation instead of standard z-transformation](https://core.ac.uk/display/17349316) and about [how to calculate modified z-scores](https://www.pdf-archive.com/2016/07/29/outlier-methods-external/outlier-methods-external.pdf).\n",
    "Tipp: The function ```mad_outlier(data, threshold)```returns a mask, [refresh your knowledge about masking](https://pythonhealthcare.org/2018/04/07/30-using-masks-to-filter-data-and-perform-search-and-replace-in-numpy-and-pandas/) if necessary."
   ]
  },
  {
   "cell_type": "code",
   "execution_count": 11,
   "metadata": {},
   "outputs": [
    {
     "name": "stderr",
     "output_type": "stream",
     "text": [
      "C:\\Users\\lonesome\\anaconda3\\envs\\acc_conda\\lib\\site-packages\\pandas\\core\\indexing.py:1597: SettingWithCopyWarning: \n",
      "A value is trying to be set on a copy of a slice from a DataFrame.\n",
      "Try using .loc[row_indexer,col_indexer] = value instead\n",
      "\n",
      "See the caveats in the documentation: https://pandas.pydata.org/pandas-docs/stable/user_guide/indexing.html#returning-a-view-versus-a-copy\n",
      "  self.obj[key] = value\n",
      "C:\\Users\\lonesome\\anaconda3\\envs\\acc_conda\\lib\\site-packages\\pandas\\core\\indexing.py:1676: SettingWithCopyWarning: \n",
      "A value is trying to be set on a copy of a slice from a DataFrame.\n",
      "Try using .loc[row_indexer,col_indexer] = value instead\n",
      "\n",
      "See the caveats in the documentation: https://pandas.pydata.org/pandas-docs/stable/user_guide/indexing.html#returning-a-view-versus-a-copy\n",
      "  self._setitem_single_column(ilocs[0], value, pi)\n"
     ]
    },
    {
     "data": {
      "text/plain": [
       "False    80245\n",
       "True      3088\n",
       "Name: is_outlier, dtype: int64"
      ]
     },
     "execution_count": 11,
     "metadata": {},
     "output_type": "execute_result"
    }
   ],
   "source": [
    "def mad_outlier(data, threshold=3.5):\n",
    "    \"\"\" Median Absolute deviation based outlier detection.\n",
    "    Returns a booelan mask (True if z > threshold, else False).\"\"\"\n",
    "    median = np.median(data)\n",
    "    mad = np.median(np.abs(data - median))\n",
    "    modified_z_score = 0.6745 * (data - median) / mad\n",
    "\n",
    "    return modified_z_score > threshold\n",
    "\n",
    "# TODO: Remove outliers with respect to fixation duration\n",
    "df_cleaned.loc[:, 'is_outlier'] = mad_outlier(df_cleaned.duration)\n",
    "\n",
    "df_cleaned.is_outlier.value_counts()"
   ]
  },
  {
   "cell_type": "markdown",
   "metadata": {},
   "source": [
    "7. Now repeat the first step - calculating the number of fixations per category - and check how many data points have been removed for each category."
   ]
  },
  {
   "cell_type": "code",
   "execution_count": 12,
   "metadata": {
    "scrolled": true
   },
   "outputs": [
    {
     "name": "stdout",
     "output_type": "stream",
     "text": [
      "Fixations per category after data cleaning:\n",
      "str_category\n",
      "Natural       15155\n",
      "Natural_HP    14399\n",
      "Natural_LP    13421\n",
      "Urban         14194\n",
      "Urban_HP      13911\n",
      "Urban_LP      12253\n",
      "Name: fix, dtype: int64\n"
     ]
    }
   ],
   "source": [
    "# TODO: How many fixations per category are left after cleaning the data?\n",
    "fix_count = df_cleaned.groupby(\"str_category\")['fix'].agg(\"count\")\n",
    "print(\"Fixations per category after data cleaning:\")\n",
    "print(fix_count)"
   ]
  },
  {
   "cell_type": "markdown",
   "metadata": {},
   "source": [
    "8. Now drop the following columns that we won't need for further analysis: `dataset_nr`, `pupil`, `eye`, `delay`"
   ]
  },
  {
   "cell_type": "code",
   "execution_count": 13,
   "metadata": {},
   "outputs": [],
   "source": [
    "df_cleaned = df_cleaned.drop(columns=['dataset_nr', 'eye', 'pupil', 'delay'])"
   ]
  },
  {
   "cell_type": "markdown",
   "metadata": {},
   "source": [
    "9. create a column `log_duration` which is the log of the fixation duration "
   ]
  },
  {
   "cell_type": "code",
   "execution_count": 14,
   "metadata": {},
   "outputs": [],
   "source": [
    "df_cleaned['log_duration'] = np.log(df_cleaned['duration'])"
   ]
  },
  {
   "cell_type": "code",
   "execution_count": 15,
   "metadata": {
    "scrolled": true
   },
   "outputs": [
    {
     "data": {
      "text/html": [
       "<div>\n",
       "<style scoped>\n",
       "    .dataframe tbody tr th:only-of-type {\n",
       "        vertical-align: middle;\n",
       "    }\n",
       "\n",
       "    .dataframe tbody tr th {\n",
       "        vertical-align: top;\n",
       "    }\n",
       "\n",
       "    .dataframe thead th {\n",
       "        text-align: right;\n",
       "    }\n",
       "</style>\n",
       "<table border=\"1\" class=\"dataframe\">\n",
       "  <thead>\n",
       "    <tr style=\"text-align: right;\">\n",
       "      <th></th>\n",
       "      <th>SUBJECTINDEX</th>\n",
       "      <th>category</th>\n",
       "      <th>end</th>\n",
       "      <th>filenumber</th>\n",
       "      <th>fix</th>\n",
       "      <th>handedness</th>\n",
       "      <th>image</th>\n",
       "      <th>mirror</th>\n",
       "      <th>spatial_filter</th>\n",
       "      <th>start</th>\n",
       "      <th>trial</th>\n",
       "      <th>x</th>\n",
       "      <th>y</th>\n",
       "      <th>str_category</th>\n",
       "      <th>duration</th>\n",
       "      <th>is_outlier</th>\n",
       "      <th>log_duration</th>\n",
       "    </tr>\n",
       "  </thead>\n",
       "  <tbody>\n",
       "    <tr>\n",
       "      <th>0</th>\n",
       "      <td>1</td>\n",
       "      <td>24</td>\n",
       "      <td>634</td>\n",
       "      <td>22</td>\n",
       "      <td>1</td>\n",
       "      <td>right</td>\n",
       "      <td>22</td>\n",
       "      <td>yes</td>\n",
       "      <td>High Pass</td>\n",
       "      <td>512</td>\n",
       "      <td>1</td>\n",
       "      <td>604.39170</td>\n",
       "      <td>329.15050</td>\n",
       "      <td>Natural_HP</td>\n",
       "      <td>122</td>\n",
       "      <td>False</td>\n",
       "      <td>4.804021</td>\n",
       "    </tr>\n",
       "    <tr>\n",
       "      <th>1</th>\n",
       "      <td>1</td>\n",
       "      <td>24</td>\n",
       "      <td>1138</td>\n",
       "      <td>22</td>\n",
       "      <td>2</td>\n",
       "      <td>right</td>\n",
       "      <td>22</td>\n",
       "      <td>yes</td>\n",
       "      <td>High Pass</td>\n",
       "      <td>672</td>\n",
       "      <td>1</td>\n",
       "      <td>750.34753</td>\n",
       "      <td>260.32580</td>\n",
       "      <td>Natural_HP</td>\n",
       "      <td>466</td>\n",
       "      <td>False</td>\n",
       "      <td>6.144186</td>\n",
       "    </tr>\n",
       "    <tr>\n",
       "      <th>2</th>\n",
       "      <td>1</td>\n",
       "      <td>24</td>\n",
       "      <td>1550</td>\n",
       "      <td>22</td>\n",
       "      <td>3</td>\n",
       "      <td>right</td>\n",
       "      <td>22</td>\n",
       "      <td>yes</td>\n",
       "      <td>High Pass</td>\n",
       "      <td>1184</td>\n",
       "      <td>1</td>\n",
       "      <td>391.17563</td>\n",
       "      <td>161.79257</td>\n",
       "      <td>Natural_HP</td>\n",
       "      <td>366</td>\n",
       "      <td>False</td>\n",
       "      <td>5.902633</td>\n",
       "    </tr>\n",
       "    <tr>\n",
       "      <th>3</th>\n",
       "      <td>1</td>\n",
       "      <td>24</td>\n",
       "      <td>1990</td>\n",
       "      <td>22</td>\n",
       "      <td>4</td>\n",
       "      <td>right</td>\n",
       "      <td>22</td>\n",
       "      <td>yes</td>\n",
       "      <td>High Pass</td>\n",
       "      <td>1600</td>\n",
       "      <td>1</td>\n",
       "      <td>932.51666</td>\n",
       "      <td>317.48633</td>\n",
       "      <td>Natural_HP</td>\n",
       "      <td>390</td>\n",
       "      <td>False</td>\n",
       "      <td>5.966147</td>\n",
       "    </tr>\n",
       "    <tr>\n",
       "      <th>4</th>\n",
       "      <td>1</td>\n",
       "      <td>24</td>\n",
       "      <td>2386</td>\n",
       "      <td>22</td>\n",
       "      <td>5</td>\n",
       "      <td>right</td>\n",
       "      <td>22</td>\n",
       "      <td>yes</td>\n",
       "      <td>High Pass</td>\n",
       "      <td>2012</td>\n",
       "      <td>1</td>\n",
       "      <td>957.90454</td>\n",
       "      <td>377.89830</td>\n",
       "      <td>Natural_HP</td>\n",
       "      <td>374</td>\n",
       "      <td>False</td>\n",
       "      <td>5.924256</td>\n",
       "    </tr>\n",
       "  </tbody>\n",
       "</table>\n",
       "</div>"
      ],
      "text/plain": [
       "   SUBJECTINDEX  category   end  filenumber  fix handedness  image mirror  \\\n",
       "0             1        24   634          22    1      right     22    yes   \n",
       "1             1        24  1138          22    2      right     22    yes   \n",
       "2             1        24  1550          22    3      right     22    yes   \n",
       "3             1        24  1990          22    4      right     22    yes   \n",
       "4             1        24  2386          22    5      right     22    yes   \n",
       "\n",
       "  spatial_filter  start  trial          x          y str_category  duration  \\\n",
       "0      High Pass    512      1  604.39170  329.15050   Natural_HP       122   \n",
       "1      High Pass    672      1  750.34753  260.32580   Natural_HP       466   \n",
       "2      High Pass   1184      1  391.17563  161.79257   Natural_HP       366   \n",
       "3      High Pass   1600      1  932.51666  317.48633   Natural_HP       390   \n",
       "4      High Pass   2012      1  957.90454  377.89830   Natural_HP       374   \n",
       "\n",
       "   is_outlier  log_duration  \n",
       "0       False      4.804021  \n",
       "1       False      6.144186  \n",
       "2       False      5.902633  \n",
       "3       False      5.966147  \n",
       "4       False      5.924256  "
      ]
     },
     "execution_count": 15,
     "metadata": {},
     "output_type": "execute_result"
    }
   ],
   "source": [
    "# Now that we've cleaned the data, take a look at the head of the cleaned data frame again.\n",
    "# Check if previous steps were correct\n",
    "df_cleaned.head()"
   ]
  },
  {
   "cell_type": "markdown",
   "metadata": {},
   "source": [
    "## Checking data distribution"
   ]
  },
  {
   "cell_type": "markdown",
   "metadata": {},
   "source": [
    "<div class=\"alert alert-block alert-info\">\n",
    " <b>Why log-transforming the data?:</b>   If the original data follows a log-normal distribution or approximately so, then the log-transformed data follows a normal or near normal distribution. In this case, the log-transformation does remove or reduce skewness. <a href=\"https://www.ncbi.nlm.nih.gov/pmc/articles/PMC4120293/\">Here</a> you can read more about log-transformation and its problems.</div>\n",
    "      \n",
    "<div class=\"alert alert-block alert-warning\">  \n",
    "For the subsequent analysis we will <b>not</b> use the log-transformed fixation durations, the last part of this exercise is just supposed to be an illustration of what happens to the data when performing a log-transformation.  \n",
    "</div>"
   ]
  },
  {
   "cell_type": "code",
   "execution_count": 16,
   "metadata": {},
   "outputs": [
    {
     "data": {
      "image/png": "[encoded data removed]",
      "text/plain": [
       "<Figure size 1080x360 with 2 Axes>"
      ]
     },
     "metadata": {
      "needs_background": "light"
     },
     "output_type": "display_data"
    }
   ],
   "source": [
    "# TODO: Visualize the data distribution of fixation durations with and without outliers and the log_durations without outliers\n",
    "fig, ax = plt.subplots(nrows=1, ncols=2, figsize=(15,5))\n",
    "sns.set(style='ticks', context='talk',)\n",
    "sns.kdeplot(df_cleaned[\"duration\"], label='with outliers', color='lightblue', ax=ax[0])\n",
    "sns.kdeplot(df_cleaned.loc[df_cleaned.is_outlier==0, 'duration'], label='without outliers',color='r', ls='--', ax=ax[0])\n",
    "sns.kdeplot(df_cleaned.loc[df_cleaned.is_outlier==0, 'log_duration'], label='log without outliers',color='g', ax=ax[1])\n",
    "ax[0].legend()\n",
    "ax[1].legend()\n",
    "ax[0].set(xlim=(0,2000), xlabel='duration in ms')\n",
    "plt.show()"
   ]
  },
  {
   "cell_type": "markdown",
   "metadata": {},
   "source": [
    "## Effect of stimulus category, spatial_filter and mirroring on fixations\n",
    "\n",
    "In the following, we want to investigate if the category of the visual stimulus has an effect on the number and the duration of fixations. First, we will approach this question visually, after that we will formulate and test our hypothesis statistically.\n",
    "\n",
    "Look at [`agg()`](https://pandas.pydata.org/docs/reference/api/pandas.DataFrame.aggregate.html) to see how to aggregate multiple columns at once"
   ]
  },
  {
   "cell_type": "code",
   "execution_count": 25,
   "metadata": {},
   "outputs": [
    {
     "data": {
      "text/html": [
       "<div>\n",
       "<style scoped>\n",
       "    .dataframe tbody tr th:only-of-type {\n",
       "        vertical-align: middle;\n",
       "    }\n",
       "\n",
       "    .dataframe tbody tr th {\n",
       "        vertical-align: top;\n",
       "    }\n",
       "\n",
       "    .dataframe thead th {\n",
       "        text-align: right;\n",
       "    }\n",
       "</style>\n",
       "<table border=\"1\" class=\"dataframe\">\n",
       "  <thead>\n",
       "    <tr style=\"text-align: right;\">\n",
       "      <th></th>\n",
       "      <th>SUBJECTINDEX</th>\n",
       "      <th>category</th>\n",
       "      <th>fix</th>\n",
       "      <th>duration</th>\n",
       "    </tr>\n",
       "  </thead>\n",
       "  <tbody>\n",
       "    <tr>\n",
       "      <th>0</th>\n",
       "      <td>1</td>\n",
       "      <td>7</td>\n",
       "      <td>21</td>\n",
       "      <td>290.734999</td>\n",
       "    </tr>\n",
       "    <tr>\n",
       "      <th>1</th>\n",
       "      <td>1</td>\n",
       "      <td>8</td>\n",
       "      <td>19</td>\n",
       "      <td>276.730085</td>\n",
       "    </tr>\n",
       "    <tr>\n",
       "      <th>2</th>\n",
       "      <td>1</td>\n",
       "      <td>24</td>\n",
       "      <td>22</td>\n",
       "      <td>307.132865</td>\n",
       "    </tr>\n",
       "    <tr>\n",
       "      <th>3</th>\n",
       "      <td>1</td>\n",
       "      <td>25</td>\n",
       "      <td>18</td>\n",
       "      <td>289.938848</td>\n",
       "    </tr>\n",
       "    <tr>\n",
       "      <th>4</th>\n",
       "      <td>1</td>\n",
       "      <td>26</td>\n",
       "      <td>21</td>\n",
       "      <td>292.196361</td>\n",
       "    </tr>\n",
       "  </tbody>\n",
       "</table>\n",
       "</div>"
      ],
      "text/plain": [
       "   SUBJECTINDEX  category  fix    duration\n",
       "0             1         7   21  290.734999\n",
       "1             1         8   19  276.730085\n",
       "2             1        24   22  307.132865\n",
       "3             1        25   18  289.938848\n",
       "4             1        26   21  292.196361"
      ]
     },
     "metadata": {},
     "output_type": "display_data"
    }
   ],
   "source": [
    "# TODO: Calculate mean number of fixations per subject and category remember to remove the outlier fixation durations first!!!\n",
    "\n",
    "fix_category = (\n",
    "    df_cleaned\n",
    "    .query('is_outlier==0')\n",
    "   .groupby([\"SUBJECTINDEX\", 'trial', 'category'])\n",
    "    .agg({'fix':'count', 'duration':'mean'})\n",
    "    .reset_index()\n",
    "    .groupby([\"SUBJECTINDEX\", 'category'])\n",
    "    .agg({'fix':'count', 'duration':'mean'})\n",
    "    .reset_index()\n",
    ")\n",
    "display(fix_category.head())"
   ]
  },
  {
   "cell_type": "code",
   "execution_count": 22,
   "metadata": {},
   "outputs": [
    {
     "data": {
      "text/html": [
       "<div>\n",
       "<style scoped>\n",
       "    .dataframe tbody tr th:only-of-type {\n",
       "        vertical-align: middle;\n",
       "    }\n",
       "\n",
       "    .dataframe tbody tr th {\n",
       "        vertical-align: top;\n",
       "    }\n",
       "\n",
       "    .dataframe thead th {\n",
       "        text-align: right;\n",
       "    }\n",
       "</style>\n",
       "<table border=\"1\" class=\"dataframe\">\n",
       "  <thead>\n",
       "    <tr style=\"text-align: right;\">\n",
       "      <th></th>\n",
       "      <th>SUBJECTINDEX</th>\n",
       "      <th>spatial_filter</th>\n",
       "      <th>fix</th>\n",
       "      <th>duration</th>\n",
       "    </tr>\n",
       "  </thead>\n",
       "  <tbody>\n",
       "    <tr>\n",
       "      <th>0</th>\n",
       "      <td>1</td>\n",
       "      <td>High Pass</td>\n",
       "      <td>40</td>\n",
       "      <td>299.395558</td>\n",
       "    </tr>\n",
       "    <tr>\n",
       "      <th>1</th>\n",
       "      <td>1</td>\n",
       "      <td>Low Pass</td>\n",
       "      <td>40</td>\n",
       "      <td>308.287223</td>\n",
       "    </tr>\n",
       "    <tr>\n",
       "      <th>2</th>\n",
       "      <td>1</td>\n",
       "      <td>None</td>\n",
       "      <td>40</td>\n",
       "      <td>284.082665</td>\n",
       "    </tr>\n",
       "    <tr>\n",
       "      <th>3</th>\n",
       "      <td>2</td>\n",
       "      <td>High Pass</td>\n",
       "      <td>39</td>\n",
       "      <td>257.346935</td>\n",
       "    </tr>\n",
       "    <tr>\n",
       "      <th>4</th>\n",
       "      <td>2</td>\n",
       "      <td>Low Pass</td>\n",
       "      <td>40</td>\n",
       "      <td>243.731145</td>\n",
       "    </tr>\n",
       "  </tbody>\n",
       "</table>\n",
       "</div>"
      ],
      "text/plain": [
       "   SUBJECTINDEX spatial_filter  fix    duration\n",
       "0             1      High Pass   40  299.395558\n",
       "1             1       Low Pass   40  308.287223\n",
       "2             1           None   40  284.082665\n",
       "3             2      High Pass   39  257.346935\n",
       "4             2       Low Pass   40  243.731145"
      ]
     },
     "metadata": {},
     "output_type": "display_data"
    }
   ],
   "source": [
    "# TODO: Calculate mean number of fixations per subject and spatial filter remember to remove the outlier fixation durations first!!!\n",
    "\n",
    "fix_spatial_filter = (\n",
    "    df_cleaned\n",
    "    .query('is_outlier==0')\n",
    "    .groupby([\"SUBJECTINDEX\", 'trial', 'spatial_filter'])\n",
    "    .agg({'fix':'count', 'duration':'mean'})\n",
    "    .reset_index()\n",
    "    .groupby([\"SUBJECTINDEX\", 'spatial_filter'])\n",
    "    .agg({'fix':'count', 'duration':'mean'})\n",
    "    .reset_index()\n",
    "\n",
    ")\n",
    "display(fix_spatial_filter.head())"
   ]
  },
  {
   "cell_type": "code",
   "execution_count": 24,
   "metadata": {},
   "outputs": [
    {
     "data": {
      "text/html": [
       "<div>\n",
       "<style scoped>\n",
       "    .dataframe tbody tr th:only-of-type {\n",
       "        vertical-align: middle;\n",
       "    }\n",
       "\n",
       "    .dataframe tbody tr th {\n",
       "        vertical-align: top;\n",
       "    }\n",
       "\n",
       "    .dataframe thead th {\n",
       "        text-align: right;\n",
       "    }\n",
       "</style>\n",
       "<table border=\"1\" class=\"dataframe\">\n",
       "  <thead>\n",
       "    <tr style=\"text-align: right;\">\n",
       "      <th></th>\n",
       "      <th>SUBJECTINDEX</th>\n",
       "      <th>mirror</th>\n",
       "      <th>fix</th>\n",
       "      <th>duration</th>\n",
       "    </tr>\n",
       "  </thead>\n",
       "  <tbody>\n",
       "    <tr>\n",
       "      <th>0</th>\n",
       "      <td>1</td>\n",
       "      <td>no</td>\n",
       "      <td>60</td>\n",
       "      <td>290.553625</td>\n",
       "    </tr>\n",
       "    <tr>\n",
       "      <th>1</th>\n",
       "      <td>1</td>\n",
       "      <td>yes</td>\n",
       "      <td>60</td>\n",
       "      <td>303.956671</td>\n",
       "    </tr>\n",
       "    <tr>\n",
       "      <th>2</th>\n",
       "      <td>2</td>\n",
       "      <td>no</td>\n",
       "      <td>59</td>\n",
       "      <td>244.077970</td>\n",
       "    </tr>\n",
       "    <tr>\n",
       "      <th>3</th>\n",
       "      <td>2</td>\n",
       "      <td>yes</td>\n",
       "      <td>60</td>\n",
       "      <td>249.847520</td>\n",
       "    </tr>\n",
       "    <tr>\n",
       "      <th>4</th>\n",
       "      <td>3</td>\n",
       "      <td>no</td>\n",
       "      <td>60</td>\n",
       "      <td>282.037805</td>\n",
       "    </tr>\n",
       "  </tbody>\n",
       "</table>\n",
       "</div>"
      ],
      "text/plain": [
       "   SUBJECTINDEX mirror  fix    duration\n",
       "0             1     no   60  290.553625\n",
       "1             1    yes   60  303.956671\n",
       "2             2     no   59  244.077970\n",
       "3             2    yes   60  249.847520\n",
       "4             3     no   60  282.037805"
      ]
     },
     "metadata": {},
     "output_type": "display_data"
    }
   ],
   "source": [
    "# TODO: Calculate mean number of fixations per subject and mirror remember to remove the outlier fixation durations first!!!\n",
    "\n",
    "fix_mirror = (\n",
    "    df_cleaned\n",
    "    .query('is_outlier==0')\n",
    "    .groupby([\"SUBJECTINDEX\", 'trial', 'mirror'])\n",
    "    .agg({'fix':'count', 'duration':'mean'})\n",
    "    .reset_index()\n",
    "    .groupby([\"SUBJECTINDEX\", 'mirror'])\n",
    "    .agg({'fix':'count', 'duration':'mean'})\n",
    "    .reset_index()\n",
    ")\n",
    "display(fix_mirror.head())\n"
   ]
  },
  {
   "cell_type": "markdown",
   "metadata": {},
   "source": [
    "Now plot the mean fixation count and fixation duration that you calculated above, using `pointplot`"
   ]
  },
  {
   "cell_type": "code",
   "execution_count": 27,
   "metadata": {},
   "outputs": [
    {
     "data": {
      "image/png": "[encoded data removed]",
      "text/plain": [
       "<Figure size 1080x360 with 3 Axes>"
      ]
     },
     "metadata": {},
     "output_type": "display_data"
    }
   ],
   "source": [
    "# TODO: Plot mean fixation count across diff conditions\n",
    "fig1, ax = plt.subplots(nrows=1, ncols=3, figsize=(15,5), sharey=True)\n",
    "\n",
    "sns.pointplot(\n",
    "    data=fix_category,\n",
    "    x='category',\n",
    "    y='fix',\n",
    "    ci='sd',\n",
    "    ax=ax[0]\n",
    ")\n",
    "sns.pointplot(\n",
    "    data=fix_spatial_filter,\n",
    "    x='spatial_filter',\n",
    "    y='fix',\n",
    "    ci='sd',\n",
    "    order=['None', 'High Pass', 'Low Pass'],\n",
    "    ax=ax[1]\n",
    ")\n",
    "sns.pointplot(\n",
    "    data=fix_mirror,\n",
    "    x='mirror',\n",
    "    y='fix',\n",
    "    ci=95,\n",
    "    ax=ax[2]\n",
    ")\n",
    "\n",
    "sns.despine()\n",
    "ax[0].set(ylabel='Mean fixation count')\n",
    "ax[1].set(ylabel='')\n",
    "ax[2].set(ylabel='')\n",
    "\n",
    "\n",
    "plt.show()"
   ]
  },
  {
   "cell_type": "code",
   "execution_count": 28,
   "metadata": {},
   "outputs": [
    {
     "data": {
      "image/png": "[encoded data removed]",
      "text/plain": [
       "<Figure size 1080x360 with 3 Axes>"
      ]
     },
     "metadata": {},
     "output_type": "display_data"
    }
   ],
   "source": [
    "# TODO: Plot mean fixation count across diff conditions\n",
    "fig1, ax = plt.subplots(nrows=1, ncols=3, figsize=(15,5), sharey=True)\n",
    "\n",
    "sns.pointplot(\n",
    "    data=fix_category,\n",
    "    x='category',\n",
    "    y='duration',\n",
    "    ci=68,\n",
    "    ax=ax[0]\n",
    ")\n",
    "sns.pointplot(\n",
    "    data=fix_spatial_filter,\n",
    "    x='spatial_filter',\n",
    "    y='duration',\n",
    "    ci=68,\n",
    "    order=['None', 'High Pass', 'Low Pass'],\n",
    "    ax=ax[1]\n",
    ")\n",
    "sns.pointplot(\n",
    "    data=fix_mirror,\n",
    "    x='mirror',\n",
    "    y='duration',\n",
    "    ci=68,\n",
    "    ax=ax[2]\n",
    ")\n",
    "\n",
    "sns.despine()\n",
    "ax[0].set(ylabel='Mean fixation duration')\n",
    "ax[1].set(ylabel='')\n",
    "ax[2].set(ylabel='')\n",
    "\n",
    "\n",
    "plt.show()"
   ]
  },
  {
   "cell_type": "markdown",
   "metadata": {},
   "source": [
    "### Statistical analysis\n",
    "Looking at the visual analysis, it seems like there are some differences in fixation duration and number of fixations with respect to the different categories of visual stimuli, spatial_filter and mirroring. First of all, we have to formulate our hypothesis:\n",
    "\n",
    "Number of fixations: <br>\n",
    "$H_0$: There *is no* difference in number of fixation across the 3 different spatial_filters used on the stimuli and mirror  <br>\n",
    "$H_1$: There *is* a difference in number of fixation across the 3 different spatial_filters used on the stimuli and mirror  <br>\n",
    "\n",
    "Fixation duration: <br> \n",
    "$H_0$: There *is no* difference in fixation duration across the 3 different spatial_filters used on the stimuli and mirror <br>\n",
    "$H_1$: There *is* a difference in fixation duration across the 3 different spatial_filters used on the stimuli and mirror  <br>\n",
    "\n",
    "Test our hypothesis regarding fixation duration and number of fixations using ANOVA. Since we are dealing with multiple fixations per subject, we have to use a [repeated measure ANOVA](https://www.statsmodels.org/devel/generated/statsmodels.stats.anova.AnovaRM.html#statsmodels.stats.anova.AnovaRM)."
   ]
  },
  {
   "cell_type": "code",
   "execution_count": 33,
   "metadata": {
    "scrolled": false
   },
   "outputs": [
    {
     "data": {
      "text/html": [
       "<table class=\"simpletable\">\n",
       "<tr>\n",
       "            <td></td>             <th>F Value</th> <th>Num DF</th> <th>Den DF</th>  <th>Pr > F</th>\n",
       "</tr>\n",
       "<tr>\n",
       "  <th>spatial_filter</th>        <td>104.9191</td> <td>2.0000</td> <td>92.0000</td> <td>0.0000</td>\n",
       "</tr>\n",
       "<tr>\n",
       "  <th>mirror</th>                 <td>0.1556</td>  <td>1.0000</td> <td>46.0000</td> <td>0.6951</td>\n",
       "</tr>\n",
       "<tr>\n",
       "  <th>spatial_filter:mirror</th>  <td>0.2519</td>  <td>2.0000</td> <td>92.0000</td> <td>0.7778</td>\n",
       "</tr>\n",
       "</table>"
      ],
      "text/plain": [
       "<class 'statsmodels.iolib.summary2.Summary'>\n",
       "\"\"\"\n",
       "                       Anova\n",
       "====================================================\n",
       "                      F Value  Num DF  Den DF Pr > F\n",
       "----------------------------------------------------\n",
       "spatial_filter        104.9191 2.0000 92.0000 0.0000\n",
       "mirror                  0.1556 1.0000 46.0000 0.6951\n",
       "spatial_filter:mirror   0.2519 2.0000 92.0000 0.7778\n",
       "====================================================\n",
       "\n",
       "\"\"\""
      ]
     },
     "execution_count": 33,
     "metadata": {},
     "output_type": "execute_result"
    }
   ],
   "source": [
    "# TODO: Repeated measure ANOVA testing hypothesis 'fixation number' \n",
    "# with spatial_filter and mirror as within subject factors\n",
    "tmpdf = (\n",
    "    df_cleaned\n",
    "    .query('is_outlier==0')\n",
    "    .groupby(['SUBJECTINDEX', 'trial', 'spatial_filter', 'mirror'])\n",
    "    .fix\n",
    "    .count()\n",
    "    .reset_index()\n",
    ")\n",
    "\n",
    "result1 = AnovaRM(\n",
    "   tmpdf, \n",
    "    'fix', 'SUBJECTINDEX', \n",
    "    within=['spatial_filter', 'mirror'], \n",
    "    aggregate_func='mean'\n",
    ").fit()\n",
    "result1.summary()"
   ]
  },
  {
   "cell_type": "code",
   "execution_count": 34,
   "metadata": {},
   "outputs": [
    {
     "data": {
      "text/html": [
       "<table class=\"simpletable\">\n",
       "<tr>\n",
       "            <td></td>            <th>F Value</th> <th>Num DF</th> <th>Den DF</th>  <th>Pr > F</th>\n",
       "</tr>\n",
       "<tr>\n",
       "  <th>spatial_filter</th>        <td>63.0632</td> <td>2.0000</td> <td>92.0000</td> <td>0.0000</td>\n",
       "</tr>\n",
       "<tr>\n",
       "  <th>mirror</th>                <td>0.8170</td>  <td>1.0000</td> <td>46.0000</td> <td>0.3708</td>\n",
       "</tr>\n",
       "<tr>\n",
       "  <th>spatial_filter:mirror</th> <td>1.7316</td>  <td>2.0000</td> <td>92.0000</td> <td>0.1827</td>\n",
       "</tr>\n",
       "</table>"
      ],
      "text/plain": [
       "<class 'statsmodels.iolib.summary2.Summary'>\n",
       "\"\"\"\n",
       "                       Anova\n",
       "===================================================\n",
       "                      F Value Num DF  Den DF Pr > F\n",
       "---------------------------------------------------\n",
       "spatial_filter        63.0632 2.0000 92.0000 0.0000\n",
       "mirror                 0.8170 1.0000 46.0000 0.3708\n",
       "spatial_filter:mirror  1.7316 2.0000 92.0000 0.1827\n",
       "===================================================\n",
       "\n",
       "\"\"\""
      ]
     },
     "execution_count": 34,
     "metadata": {},
     "output_type": "execute_result"
    }
   ],
   "source": [
    "# TODO: Repeated measure ANOVA testing hypothesis 'fixation duration' \n",
    "# with spatial_filter and mirror as within subject factors\n",
    "tmpdf = (\n",
    "    df_cleaned\n",
    "    .query('is_outlier==0')\n",
    "    .groupby(['SUBJECTINDEX', 'trial', 'spatial_filter', 'mirror'])\n",
    "    .duration\n",
    "    .mean()\n",
    "    .reset_index()\n",
    ")\n",
    "\n",
    "result1 = AnovaRM(\n",
    "   tmpdf, \n",
    "    'duration', 'SUBJECTINDEX', \n",
    "    within=['spatial_filter', 'mirror'], \n",
    "    aggregate_func='mean'\n",
    ").fit()\n",
    "result1.summary()"
   ]
  },
  {
   "cell_type": "markdown",
   "metadata": {},
   "source": [
    "## Position of fixations over time\n",
    "Previously, we analyzed the number and duration of fixations; but so far we didn't care about the timing of fixations.\n",
    "\n",
    "In this section we are interested in the position of the fixations on the screen wrt to time.  \n",
    "\n",
    "- Separate the data into 6 bins according to the fixation onset. Bin no. 0 contains all fixations that have an onset in the intervall $[0,1)$ sec, bin no. 1 contains all fixations that have an onset in the intervall $[1,2)$ sec, and so on. Add a column ```time_bin```to the data frame which denotes the bin of each fixation with respect to fixation onset. Form the bins by using the // python operator on the `start` column to create 1sec bins\n",
    "\n",
    "- Create another column `x_normed` which is the normalized position of the fixation wrt to the screen pixels. <br>\n",
    "$ x\\_normed = (x - 1280/2)/1280 $ <br>\n",
    "where 1280 is the resolution of the screen in the horizontal direction"
   ]
  },
  {
   "cell_type": "code",
   "execution_count": null,
   "metadata": {},
   "outputs": [],
   "source": [
    "# TODO: Add column \"bin\" to dataframe\n",
    "df_cleaned = df_cleaned.query('is_outlier==0')\n",
    "df_cleaned.loc[:, \"time_bin\"] = df_cleaned.loc[:, \"start\"]//1000\n",
    "\n",
    "# TODO: Add column \"x_normed\" to dataframe\n",
    "df_cleaned['x_normed'] = (df_cleaned.x - 640)/1280"
   ]
  },
  {
   "cell_type": "markdown",
   "metadata": {},
   "source": [
    "## Leftward Bias of fixations"
   ]
  },
  {
   "cell_type": "markdown",
   "metadata": {},
   "source": [
    "<div class=\"alert alert-block alert-info\">\n",
    "As you may know from neuroscience lectures on the visual system, there is a phenomenon called <b>leftward bias</b>, meaning that humans tend to make more fixations in the left visual field during the first second after stimulus onset. A study by <a href=\"https://doi.org/10.1167/16.11.8\">Afsari et al.</a> characterizes the leftward bias as a dynamic property that can be modulated, for instance by habitual reading direction. Take a look at the paper if you are interested.\n",
    "</div>\n"
   ]
  },
  {
   "cell_type": "markdown",
   "metadata": {},
   "source": [
    "We want to check whether we can find a leftward bias in our dataset as well. Since it is known that the leftward bias occurs during the first second after stimulus onset, we will take advantage of the binning with respect to fixation onset which we did before.\n",
    "\n",
    "- Calculate the median `x_normed` wrt to each subject, handedness and time_bin.\n",
    "\n",
    "- Make a [point plot](https://seaborn.pydata.org/generated/seaborn.pointplot.html): The x-axis represents the normalised x coordinate (horizontal direction) of fixations and the y-axis the time segment with respect to fixation onset. The points represent the median horizontal fixation location for each time_bin.\n",
    "\n",
    "- Add confidence intervals of 95% around each point. Tipp: The keyword argument ```ci``` may help.\n",
    "\n",
    "- Add a [vertical line](https://matplotlib.org/api/_as_gen/matplotlib.pyplot.axvline.html) representing the center of the visual field. \n",
    "\n",
    "Compare the tendencies of horizontal fixation locations among the different time segments. can you see biases in the horizontal direction for handedness? It's quite interesting, wouldn't you say!"
   ]
  },
  {
   "cell_type": "code",
   "execution_count": null,
   "metadata": {
    "scrolled": false
   },
   "outputs": [],
   "source": [
    "# TODO: Point plot of tendencies of horizontal fixation locations in each time bin and handedness\n",
    "fig, ax = plt.subplots(figsize=(5,10))\n",
    "tmpdf = (\n",
    "    df_cleaned\n",
    "    .groupby(['SUBJECTINDEX', 'handedness', 'time_bin'])\n",
    "    ['x_normed']\n",
    "    .median()\n",
    "    .reset_index()\n",
    ")\n",
    "\n",
    "sns.pointplot(\n",
    "    data=tmpdf, \n",
    "    x=\"x_normed\", \n",
    "    y=\"time_bin\", \n",
    "    hue='handedness',\n",
    "    orient=\"h\", \n",
    "    ci=95, \n",
    "    dodge=0.2,\n",
    "    join=False,\n",
    "    ax=ax\n",
    ")\n",
    "ax.axvline(0, ls=':', color='r')\n",
    "ax.set(xlim=(-0.1, 0.1), ylim=(-1,6));"
   ]
  },
  {
   "cell_type": "markdown",
   "metadata": {},
   "source": [
    "Repeat the above analysis for median horizontal location of fixations for each spatial_filter and time_bin. Do you see anything interesting here?"
   ]
  },
  {
   "cell_type": "code",
   "execution_count": null,
   "metadata": {},
   "outputs": [],
   "source": [
    "# TODO: Point plot of tendencies of horizontal fixation locations in each time bin and spatial filter\n",
    "fig, ax = plt.subplots(figsize=(5,10))\n",
    "tmpdf = (\n",
    "    df_cleaned\n",
    "    .groupby(['SUBJECTINDEX', 'spatial_filter', 'time_bin'])\n",
    "    ['x_normed']\n",
    "    .median()\n",
    "    .reset_index()\n",
    ")\n",
    "sns.pointplot(\n",
    "    kind='point',\n",
    "    data=tmpdf, \n",
    "    x=\"x_normed\", \n",
    "    y=\"time_bin\", \n",
    "    hue='spatial_filter',\n",
    "    orient=\"h\", \n",
    "    ci=95, \n",
    "    dodge=0.2,\n",
    "    join=False,\n",
    "    ax=ax\n",
    ")\n",
    "ax.axvline(0, ls=':', color='r')\n",
    "ax.legend(frameon=False, title='spatial filter')\n",
    "ax.set(xlim=(-0.1, 0.1), ylim=(-1,6));"
   ]
  },
  {
   "cell_type": "markdown",
   "metadata": {},
   "source": [
    "# BONUS\n",
    "Up until now, we've looked at eye tracking data in a rather stationary way by analyzing the number of occurences, the duration, the timing and the location of fixations with respect to different visual stimuli. Taking together all this data, we can actually reconstruct someones viewing pattern; that's one of the really cool things about eye tracking. In the following, we will exploit the spatial and temporal information that is revealed by looking at dynamic sequences of fixations rather than at individual fixation points."
   ]
  },
  {
   "cell_type": "markdown",
   "metadata": {},
   "source": [
    "## Heat map"
   ]
  },
  {
   "cell_type": "markdown",
   "metadata": {},
   "source": [
    "<div class=\"alert alert-block alert-info\">\n",
    "    A <b>heat map</b> can be interpreted as an indicator of how salient different regions of a visual stimulus are. A heat map shows how often certain parts of a visual stimulus are fixated.\n",
    "</div>"
   ]
  },
  {
   "cell_type": "markdown",
   "metadata": {},
   "source": [
    "Here's an example of a heat map: ![heat map](https://upload.wikimedia.org/wikipedia/commons/5/50/Eyetracking_heat_map_Wikipedia.jpg)"
   ]
  },
  {
   "cell_type": "markdown",
   "metadata": {},
   "source": [
    "Let's create a heat map for our data. First, we will compute a heat map taking all data points into account, later on we will create individual heat maps for each spatial filter type.\n",
    "\n",
    "- Since we are interested in the location of fixations, we now need the ```x``` and ```y```coordinates.\n",
    "\n",
    "- First, remove all fixations that have x-coordinates less than 0 and greater than 1280 and y-coordinates less than 0 and greater than 960. This way we remove stray fixations that might have been recorded outside the screen limits.\n",
    "\n",
    "- Next, We can use `sns.histplot()` to create 2 dimensional histograms and see which locations in the screen have the most fixations. We've used a colormap called `viridis` to create the heatmap. You can try anyother cmap of your choice! "
   ]
  },
  {
   "cell_type": "code",
   "execution_count": null,
   "metadata": {},
   "outputs": [],
   "source": [
    "# TODO remove fixations that are outside the screen limits\n",
    "df_cleaned = df_cleaned.query('x >= 0 and x <= 1280 and y>=0 and y <= 960')"
   ]
  },
  {
   "cell_type": "code",
   "execution_count": null,
   "metadata": {},
   "outputs": [],
   "source": [
    "# TODO: Create a heat map using all data points\n",
    "fig, axes = plt.subplots(figsize=(12,9))\n",
    "\n",
    "sns.histplot(\n",
    "    df_cleaned, x=\"x\", y=\"y\",\n",
    "    bins=100, cmap='viridis', thresh=None\n",
    ");"
   ]
  },
  {
   "cell_type": "markdown",
   "metadata": {},
   "source": [
    "Now that you know how to create a heat map, repeat the procedure described above, this time taking into account the data points of one spatial_filter at a time.\n",
    "\n",
    "- Generate individual heat maps for each of the stimulus categories. Follow the schema described above. Do **not** copy the code from the previous exercise 3 times but try to find a smarter solution to generate 3 heat maps at a time."
   ]
  },
  {
   "cell_type": "code",
   "execution_count": null,
   "metadata": {
    "scrolled": false
   },
   "outputs": [],
   "source": [
    "# TODO: Generate one heat map for each spatial filtering\n",
    "fig, axes = plt.subplots(nrows=1, ncols=3, figsize=(40,9))\n",
    "axes = axes.ravel()\n",
    "filters = df_cleaned[\"spatial_filter\"].unique()\n",
    "for index, filt in enumerate(filters):\n",
    "    sns.histplot(\n",
    "        df_cleaned.query('spatial_filter == @filt'), \n",
    "        x=\"x\", y=\"y\",\n",
    "        bins=100, cmap='viridis', thresh=None,\n",
    "        ax=axes[index]\n",
    "    )\n",
    "    axes[index].set(title=filt)\n",
    "\n",
    "plt.show()"
   ]
  },
  {
   "cell_type": "markdown",
   "metadata": {},
   "source": [
    "<div class=\"alert alert-block alert-info\">\n",
    "    By studying <b>heat maps</b> we can illuminate where people look and how salient a particular region of the stimulus is, but we still haven't really reconstructuted someones viewing pattern. In order to do so, we need to combine the spatial and temporal information. One way of doing this is called <b>scanpath</b>.\n",
    "</div>"
   ]
  },
  {
   "cell_type": "markdown",
   "metadata": {},
   "source": [
    "## Scanpath"
   ]
  },
  {
   "cell_type": "markdown",
   "metadata": {},
   "source": [
    "<div class=\"alert alert-block alert-info\">\n",
    "    The idea of a <b>scanpath</b> is to follow fixation points in a chronological order, revealing when and where people direct their gaze. A scanpath exploits and visualizes both spatial and temporal information in the eye tracking data. In this way, scanpaths can provide insight into cognitive intent and attention of the viewer, as well as salience of the visual stimulus.\n",
    "</div>"
   ]
  },
  {
   "cell_type": "markdown",
   "metadata": {},
   "source": [
    "Finally, we want to reconstruct a subject's viewing behavior. We would like to know whether distinct viewing patterns are associated with images of each of the respective spatial filtering methods. For each spatial filters, an example image is given below, the paths to the respective image files are stored in the dictionary ```images```. The data associated with each image for subject 24 is stored in the variable ```trial```. Use that data in order to reconstruct a scanpath for each spatial filter category. Follow the steps outlined below:\n",
    "\n",
    "- Plot the image which is associated with the selected trial. The images are available in the ./et_data folder. The dictionary ```images``` contains the file paths for each spatial filter. Tipp: Use [```imread()```](https://matplotlib.org/3.1.1/api/_as_gen/matplotlib.pyplot.imread.html) and [```imshow()```](https://matplotlib.org/api/_as_gen/matplotlib.pyplot.imshow.html) with the keyword arguments ```aspect='auto'```, ```extent=(0,1280,0,960)``` and ```alpha=0.5```.\n",
    "- Plot fixation points using a [scatterplot](https://seaborn.pydata.org/generated/seaborn.scatterplot.html). Make sure to visually discriminate the chronological order and the duration of fixations. Tipp: Take a look at the keyword arguments ```hue``` and ```size``` and look for appropiate attributes in the data frame.\n",
    "- Draw saccade paths by interpolating fixation points. The function [```arrow()```](https://matplotlib.org/3.1.1/api/_as_gen/matplotlib.pyplot.arrow.html) may be helpful.\n",
    "- The background image, fixation points and saccade paths are supposed to be superimposed on each other (all in one plot), this can be done by explicitly calling the same axes object for several plotting operations."
   ]
  },
  {
   "cell_type": "code",
   "execution_count": null,
   "metadata": {
    "scrolled": false
   },
   "outputs": [],
   "source": [
    "filters = ['None', 'High Pass', 'Low Pass',]\n",
    "# images = {'None':'Stimuli_7/23.png', 'High Pass':'Stimuli_24/23.png', 'Low Pass':'Stimuli_26/23.png',}\n",
    "\n",
    "image_urls = {\n",
    "    'None': 'https://github.com/ashimakeshava/ACC_SS2021/blob/main/Tutorials/Day-03/et_data/Stimuli_7/23.png?raw=true',\n",
    "    'High Pass': 'https://github.com/ashimakeshava/ACC_SS2021/blob/main/Tutorials/Day-03/et_data/Stimuli_24/23.png?raw=true',\n",
    "    'Low Pass': 'https://github.com/ashimakeshava/ACC_SS2021/blob/main/Tutorials/Day-03/et_data/Stimuli_26/23.png?raw=true',\n",
    "}\n",
    "\n",
    "\n",
    "file_numbers = {'None': 23, 'High Pass':23, 'Low Pass': 23}\n",
    "subject = 24\n",
    "\n",
    "fig, ax = plt.subplots(nrows=1, ncols=3, figsize=(36,9))\n",
    "\n",
    "ax = ax.ravel()\n",
    "\n",
    "for index, filt in enumerate(filters):\n",
    "    \n",
    "    trial = df_cleaned[(df_cleaned[\"SUBJECTINDEX\"]==subject) & (df_cleaned[\"spatial_filter\"]==filt) &\n",
    "              (df_cleaned[\"filenumber\"]==file_numbers[filt])]\n",
    "    \n",
    "    f = urllib.request.urlopen(image_urls[filt]) # establish url to fetch image\n",
    "    b = BytesIO(f.read()) # open data stream to read image\n",
    "    image = Image.open(b) # Open stream as image\n",
    "    \n",
    "    # TODO: Reconstruct scanpaths for each stimulus category\n",
    "\n",
    "    # Plot background image\n",
    "    ax[index].imshow(image, aspect=\"auto\", extent=(0,1280,0,960), alpha=0.5) \n",
    "    \n",
    "    # Plot fixation points\n",
    "    \n",
    "    scat = sns.scatterplot(\n",
    "        x='x', y='y', hue='time_bin', \n",
    "        size='duration', \n",
    "        sizes=(50, 500), \n",
    "        data=trial, \n",
    "        palette='viridis', \n",
    "        ax=ax[index]\n",
    "    )\n",
    "    \n",
    "    # Draw saccade paths by interpolating fixation points\n",
    "    coordinates_start = list(zip(trial[\"x\"], trial[\"y\"]))\n",
    "    coordinates_end = coordinates_start[1:]\n",
    "    \n",
    "    for i in range(len(coordinates_end)):\n",
    "        start_x = coordinates_start[i][0]\n",
    "        start_y = coordinates_start[i][1]\n",
    "        end_x = coordinates_end[i][0]\n",
    "        end_y = coordinates_end[i][1]\n",
    "        ax[index].arrow(\n",
    "            start_x, start_y, end_x-start_x, end_y-start_y, \n",
    "            fill=True, shape='full', width=2, head_width=0.1, \n",
    "            head_starts_at_zero=False, overhang=0, color = 'red', \n",
    "            alpha = 0.9, zorder = 0\n",
    "        )\n",
    "    ax[index].set_title(filt)\n",
    "        \n",
    "fig.tight_layout()\n",
    "plt.show()"
   ]
  },
  {
   "cell_type": "markdown",
   "metadata": {},
   "source": [
    "<div class=\"alert alert-block alert-warning\">\n",
    "    Keep in mind that the scanpaths associated with each of the three images above cannot be generalized to the three filter categories, since we only reconstructed the scanpaths of one participant for one image per category. Averaging over all participants and all images of the four stimulus categories would potentially allow to reveal discriminative effects of the spatial filter on fixation patterns. \n",
    "</div>"
   ]
  },
  {
   "cell_type": "markdown",
   "metadata": {},
   "source": [
    "# Summary - What you have learned about eye tracking\n",
    "Congratulations, you've mastered the eye tracking chapter! By now you should be familiar with the following concepts:\n",
    "* Studying overt visual attention with eye tracking\n",
    "* Cleaning eye tracking data\n",
    "* Analyzing fixations and saccades\n",
    "* Creating a heat map\n",
    "* Reconstructing a scanpath"
   ]
  },
  {
   "cell_type": "markdown",
   "metadata": {},
   "source": [
    "# Further reading\n",
    "If you want to learn more about eye tracking, the following book offers an exhaustive source of information. *You can find it in the file section of this course, in the folder \"Background Literature\".*\n",
    "- A.T. Duchowski (2017): Eye Tracking Methodology. Springer International Publishing AG , DOI 10.1007/978-3-319-57883-5_1"
   ]
  },
  {
   "cell_type": "markdown",
   "metadata": {},
   "source": [
    "# Citations\n",
    "- Wilming N, Onat S, Ossandón J, Acik A, Kietzmann TC, Kaspar K, Gameiro RR, Vormberg A, König P (2017) An extensive dataset of eye movements during viewing of complex images. Scientific Data 4: 160126. https://doi.org/10.1038/sdata.2016.126  \n",
    "- Wilming N, Onat S, Ossandón J, Acik A, Kietzmann TC, Kaspar K, Gameiro RR, Vormberg A, König P (2017) Data from: An extensive dataset of eye movements during viewing of complex images. Dryad Digital Repository. https://doi.org/10.5061/dryad.9pf75\n",
    "- Leys, C., et al., Detecting outliers: Do not use standard deviation around the mean, use absolute deviation around the median, Journal of Experimental Social Psychology (2013). http://dx.doi.org/10.1016/j.jesp.2013.03.013\n",
    "- Afsari, Z., Ossandón, J. P., & König, P. (2016). The dynamic effect of reading direction habit on spatial asymmetry of image perception. Journal of Vision, 16(11):8, 1–21. https://doi.org/10.1167/16.11.8"
   ]
  }
 ],
 "metadata": {
  "kernelspec": {
   "display_name": "Python 3",
   "language": "python",
   "name": "python3"
  },
  "language_info": {
   "codemirror_mode": {
    "name": "ipython",
    "version": 3
   },
   "file_extension": ".py",
   "mimetype": "text/x-python",
   "name": "python",
   "nbconvert_exporter": "python",
   "pygments_lexer": "ipython3",
   "version": "3.9.2"
  },
  "toc": {
   "base_numbering": 1,
   "nav_menu": {},
   "number_sections": true,
   "sideBar": true,
   "skip_h1_title": false,
   "title_cell": "Table of Contents",
   "title_sidebar": "Contents",
   "toc_cell": true,
   "toc_position": {
    "height": "calc(100% - 180px)",
    "left": "10px",
    "top": "150px",
    "width": "235.6875px"
   },
   "toc_section_display": true,
   "toc_window_display": true
  }
 },
 "nbformat": 4,
 "nbformat_minor": 2
}
