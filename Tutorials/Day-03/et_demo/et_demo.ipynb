{
 "cells": [
  {
   "cell_type": "code",
   "execution_count": 1,
   "id": "51faa08c",
   "metadata": {},
   "outputs": [],
   "source": [
    "import numpy as np\n",
    "import matplotlib.image as img\n",
    "import matplotlib.pyplot as plt\n",
    "import seaborn as sns\n",
    "import statsmodels.api as sm\n",
    "from statsmodels.stats.anova import *\n",
    "import urllib\n",
    "from io import BytesIO\n",
    "from PIL import Image"
   ]
  },
  {
   "cell_type": "code",
   "execution_count": 2,
   "id": "a66ad969",
   "metadata": {},
   "outputs": [],
   "source": [
    "fix_df = pd.read_csv('./fix_age_study.csv')"
   ]
  },
  {
   "cell_type": "code",
   "execution_count": 3,
   "id": "b44aadc9",
   "metadata": {},
   "outputs": [
    {
     "data": {
      "text/html": [
       "<div>\n",
       "<style scoped>\n",
       "    .dataframe tbody tr th:only-of-type {\n",
       "        vertical-align: middle;\n",
       "    }\n",
       "\n",
       "    .dataframe tbody tr th {\n",
       "        vertical-align: top;\n",
       "    }\n",
       "\n",
       "    .dataframe thead th {\n",
       "        text-align: right;\n",
       "    }\n",
       "</style>\n",
       "<table border=\"1\" class=\"dataframe\">\n",
       "  <thead>\n",
       "    <tr style=\"text-align: right;\">\n",
       "      <th></th>\n",
       "      <th>Unnamed: 0</th>\n",
       "      <th>SUBJECTINDEX</th>\n",
       "      <th>age</th>\n",
       "      <th>answer</th>\n",
       "      <th>catch</th>\n",
       "      <th>category</th>\n",
       "      <th>dataset_nr</th>\n",
       "      <th>end</th>\n",
       "      <th>filenumber</th>\n",
       "      <th>fix</th>\n",
       "      <th>on_image</th>\n",
       "      <th>patchpos</th>\n",
       "      <th>start</th>\n",
       "      <th>trial</th>\n",
       "      <th>valid</th>\n",
       "      <th>x</th>\n",
       "      <th>y</th>\n",
       "    </tr>\n",
       "  </thead>\n",
       "  <tbody>\n",
       "    <tr>\n",
       "      <th>0</th>\n",
       "      <td>0</td>\n",
       "      <td>1.0</td>\n",
       "      <td>2.0</td>\n",
       "      <td>1.0</td>\n",
       "      <td>0.0</td>\n",
       "      <td>7.0</td>\n",
       "      <td>0.0</td>\n",
       "      <td>377.0</td>\n",
       "      <td>17.0</td>\n",
       "      <td>1.0</td>\n",
       "      <td>1.0</td>\n",
       "      <td>1166.0</td>\n",
       "      <td>101.0</td>\n",
       "      <td>1.0</td>\n",
       "      <td>1.0</td>\n",
       "      <td>708.86950</td>\n",
       "      <td>402.91230</td>\n",
       "    </tr>\n",
       "    <tr>\n",
       "      <th>1</th>\n",
       "      <td>1</td>\n",
       "      <td>1.0</td>\n",
       "      <td>2.0</td>\n",
       "      <td>1.0</td>\n",
       "      <td>0.0</td>\n",
       "      <td>7.0</td>\n",
       "      <td>0.0</td>\n",
       "      <td>585.0</td>\n",
       "      <td>17.0</td>\n",
       "      <td>2.0</td>\n",
       "      <td>1.0</td>\n",
       "      <td>482.0</td>\n",
       "      <td>417.0</td>\n",
       "      <td>1.0</td>\n",
       "      <td>1.0</td>\n",
       "      <td>495.03134</td>\n",
       "      <td>451.73110</td>\n",
       "    </tr>\n",
       "    <tr>\n",
       "      <th>2</th>\n",
       "      <td>2</td>\n",
       "      <td>1.0</td>\n",
       "      <td>2.0</td>\n",
       "      <td>1.0</td>\n",
       "      <td>0.0</td>\n",
       "      <td>7.0</td>\n",
       "      <td>0.0</td>\n",
       "      <td>961.0</td>\n",
       "      <td>17.0</td>\n",
       "      <td>3.0</td>\n",
       "      <td>1.0</td>\n",
       "      <td>1166.0</td>\n",
       "      <td>651.0</td>\n",
       "      <td>1.0</td>\n",
       "      <td>1.0</td>\n",
       "      <td>1095.33590</td>\n",
       "      <td>276.77325</td>\n",
       "    </tr>\n",
       "    <tr>\n",
       "      <th>3</th>\n",
       "      <td>3</td>\n",
       "      <td>1.0</td>\n",
       "      <td>2.0</td>\n",
       "      <td>1.0</td>\n",
       "      <td>0.0</td>\n",
       "      <td>7.0</td>\n",
       "      <td>0.0</td>\n",
       "      <td>1201.0</td>\n",
       "      <td>17.0</td>\n",
       "      <td>4.0</td>\n",
       "      <td>1.0</td>\n",
       "      <td>482.0</td>\n",
       "      <td>1015.0</td>\n",
       "      <td>1.0</td>\n",
       "      <td>1.0</td>\n",
       "      <td>686.60760</td>\n",
       "      <td>477.21127</td>\n",
       "    </tr>\n",
       "    <tr>\n",
       "      <th>4</th>\n",
       "      <td>4</td>\n",
       "      <td>1.0</td>\n",
       "      <td>2.0</td>\n",
       "      <td>1.0</td>\n",
       "      <td>0.0</td>\n",
       "      <td>7.0</td>\n",
       "      <td>0.0</td>\n",
       "      <td>1423.0</td>\n",
       "      <td>17.0</td>\n",
       "      <td>5.0</td>\n",
       "      <td>1.0</td>\n",
       "      <td>1166.0</td>\n",
       "      <td>1235.0</td>\n",
       "      <td>1.0</td>\n",
       "      <td>1.0</td>\n",
       "      <td>811.72290</td>\n",
       "      <td>468.97660</td>\n",
       "    </tr>\n",
       "  </tbody>\n",
       "</table>\n",
       "</div>"
      ],
      "text/plain": [
       "   Unnamed: 0  SUBJECTINDEX  age  answer  catch  category  dataset_nr     end  \\\n",
       "0           0           1.0  2.0     1.0    0.0       7.0         0.0   377.0   \n",
       "1           1           1.0  2.0     1.0    0.0       7.0         0.0   585.0   \n",
       "2           2           1.0  2.0     1.0    0.0       7.0         0.0   961.0   \n",
       "3           3           1.0  2.0     1.0    0.0       7.0         0.0  1201.0   \n",
       "4           4           1.0  2.0     1.0    0.0       7.0         0.0  1423.0   \n",
       "\n",
       "   filenumber  fix  on_image  patchpos   start  trial  valid           x  \\\n",
       "0        17.0  1.0       1.0    1166.0   101.0    1.0    1.0   708.86950   \n",
       "1        17.0  2.0       1.0     482.0   417.0    1.0    1.0   495.03134   \n",
       "2        17.0  3.0       1.0    1166.0   651.0    1.0    1.0  1095.33590   \n",
       "3        17.0  4.0       1.0     482.0  1015.0    1.0    1.0   686.60760   \n",
       "4        17.0  5.0       1.0    1166.0  1235.0    1.0    1.0   811.72290   \n",
       "\n",
       "           y  \n",
       "0  402.91230  \n",
       "1  451.73110  \n",
       "2  276.77325  \n",
       "3  477.21127  \n",
       "4  468.97660  "
      ]
     },
     "execution_count": 3,
     "metadata": {},
     "output_type": "execute_result"
    }
   ],
   "source": [
    "fix_df.head()"
   ]
  },
  {
   "cell_type": "code",
   "execution_count": 4,
   "id": "08d6db8e",
   "metadata": {},
   "outputs": [
    {
     "name": "stdout",
     "output_type": "stream",
     "text": [
      "<class 'pandas.core.frame.DataFrame'>\n",
      "RangeIndex: 105813 entries, 0 to 105812\n",
      "Data columns (total 17 columns):\n",
      " #   Column        Non-Null Count   Dtype  \n",
      "---  ------        --------------   -----  \n",
      " 0   Unnamed: 0    105813 non-null  int64  \n",
      " 1   SUBJECTINDEX  105813 non-null  float64\n",
      " 2   age           105813 non-null  float64\n",
      " 3   answer        105813 non-null  float64\n",
      " 4   catch         105813 non-null  float64\n",
      " 5   category      105813 non-null  float64\n",
      " 6   dataset_nr    105813 non-null  float64\n",
      " 7   end           105813 non-null  float64\n",
      " 8   filenumber    105813 non-null  float64\n",
      " 9   fix           105813 non-null  float64\n",
      " 10  on_image      105813 non-null  float64\n",
      " 11  patchpos      105813 non-null  float64\n",
      " 12  start         105813 non-null  float64\n",
      " 13  trial         105813 non-null  float64\n",
      " 14  valid         105813 non-null  float64\n",
      " 15  x             105813 non-null  float64\n",
      " 16  y             105813 non-null  float64\n",
      "dtypes: float64(16), int64(1)\n",
      "memory usage: 13.7 MB\n"
     ]
    }
   ],
   "source": [
    "fix_df.info()"
   ]
  },
  {
   "cell_type": "code",
   "execution_count": 70,
   "id": "5c940bf4",
   "metadata": {},
   "outputs": [
    {
     "data": {
      "text/plain": [
       "105813"
      ]
     },
     "execution_count": 70,
     "metadata": {},
     "output_type": "execute_result"
    }
   ],
   "source": [
    "fix_df.SUBJECTINDEX.count()"
   ]
  },
  {
   "cell_type": "code",
   "execution_count": 37,
   "id": "111b2c37",
   "metadata": {},
   "outputs": [
    {
     "data": {
      "text/plain": [
       "mean    127.431034\n",
       "std       0.993171\n",
       "Name: trial, dtype: float64"
      ]
     },
     "execution_count": 37,
     "metadata": {},
     "output_type": "execute_result"
    }
   ],
   "source": [
    "(\n",
    "    fix_df\n",
    "    .groupby('SUBJECTINDEX')\n",
    "    .trial\n",
    "    .nunique()\n",
    "    .agg(['mean', 'std'])\n",
    ")"
   ]
  },
  {
   "cell_type": "code",
   "execution_count": 7,
   "id": "1670bcad",
   "metadata": {},
   "outputs": [
    {
     "data": {
      "text/plain": [
       "1.0    0.511374\n",
       "0.0    0.488626\n",
       "Name: answer, dtype: float64"
      ]
     },
     "execution_count": 7,
     "metadata": {},
     "output_type": "execute_result"
    }
   ],
   "source": [
    "fix_df.answer.value_counts(normalize=True)"
   ]
  },
  {
   "cell_type": "code",
   "execution_count": 8,
   "id": "9bb4efa4",
   "metadata": {},
   "outputs": [
    {
     "data": {
      "text/plain": [
       "8.0     0.277130\n",
       "10.0    0.259278\n",
       "7.0     0.253183\n",
       "11.0    0.210409\n",
       "Name: category, dtype: float64"
      ]
     },
     "execution_count": 8,
     "metadata": {},
     "output_type": "execute_result"
    }
   ],
   "source": [
    "fix_df.category.value_counts(normalize=True)"
   ]
  },
  {
   "cell_type": "code",
   "execution_count": 9,
   "id": "3668f2a5",
   "metadata": {},
   "outputs": [
    {
     "data": {
      "text/plain": [
       "1.0    0.410356\n",
       "2.0    0.322229\n",
       "0.0    0.267415\n",
       "Name: age, dtype: float64"
      ]
     },
     "execution_count": 9,
     "metadata": {},
     "output_type": "execute_result"
    }
   ],
   "source": [
    "fix_df.age.value_counts(normalize=True)"
   ]
  },
  {
   "cell_type": "code",
   "execution_count": 10,
   "id": "cf241430",
   "metadata": {},
   "outputs": [
    {
     "data": {
      "text/plain": [
       "0.0    0.506582\n",
       "1.0    0.493418\n",
       "Name: catch, dtype: float64"
      ]
     },
     "execution_count": 10,
     "metadata": {},
     "output_type": "execute_result"
    }
   ],
   "source": [
    "fix_df.catch.value_counts(normalize=True)"
   ]
  },
  {
   "cell_type": "code",
   "execution_count": 11,
   "id": "34caedf5",
   "metadata": {},
   "outputs": [],
   "source": [
    "fix_df.loc[:, \"str_category\"] = fix_df[\"category\"].replace({\n",
    "    7:\"natural\", \n",
    "    8:\"urban\",\n",
    "    10:\"fractals\",\n",
    "    11:\"pink_noise\"\n",
    "})\n",
    "\n",
    "fix_df.loc[:, \"age_category\"] = fix_df[\"age\"].replace({\n",
    "    0:\"child\", \n",
    "    1:\"teen\",\n",
    "    2:\"old\",\n",
    "})\n",
    "\n",
    "fix_df['is_accurate'] = fix_df.catch != fix_df.answer"
   ]
  },
  {
   "cell_type": "code",
   "execution_count": 12,
   "id": "d5910224",
   "metadata": {},
   "outputs": [
    {
     "data": {
      "text/plain": [
       "True     0.805875\n",
       "False    0.194125\n",
       "Name: is_accurate, dtype: float64"
      ]
     },
     "execution_count": 12,
     "metadata": {},
     "output_type": "execute_result"
    }
   ],
   "source": [
    "fix_df.is_accurate.value_counts(normalize=True)"
   ]
  },
  {
   "cell_type": "code",
   "execution_count": 13,
   "id": "73a451e2",
   "metadata": {},
   "outputs": [
    {
     "data": {
      "text/plain": [
       "str_category\n",
       "fractals      0.868744\n",
       "natural       0.880664\n",
       "pink_noise    0.631333\n",
       "urban         0.811247\n",
       "Name: is_accurate, dtype: float64"
      ]
     },
     "execution_count": 13,
     "metadata": {},
     "output_type": "execute_result"
    }
   ],
   "source": [
    "fix_df.groupby(['str_category']).is_accurate.mean()"
   ]
  },
  {
   "cell_type": "code",
   "execution_count": 23,
   "id": "58bffcf4",
   "metadata": {},
   "outputs": [
    {
     "name": "stderr",
     "output_type": "stream",
     "text": [
      "/var/folders/g8/ypnc8p1504z5jmrpjc4jzyw80000gn/T/ipykernel_38871/179736500.py:5: SettingWithCopyWarning: \n",
      "A value is trying to be set on a copy of a slice from a DataFrame.\n",
      "Try using .loc[row_indexer,col_indexer] = value instead\n",
      "\n",
      "See the caveats in the documentation: https://pandas.pydata.org/pandas-docs/stable/user_guide/indexing.html#returning-a-view-versus-a-copy\n",
      "  df_cleaned.loc[:, \"duration\"] = (\n"
     ]
    }
   ],
   "source": [
    "df_cleaned = fix_df.loc[\n",
    "    (fix_df.start>=0) & (fix_df.start<5000) & (fix_df.end<=5000), :\n",
    "]\n",
    "\n",
    "df_cleaned.loc[:, \"duration\"] = (\n",
    "    df_cleaned.loc[:, \"end\"] - df_cleaned.loc[:, \"start\"]\n",
    ")\n",
    "\n",
    "df_cleaned = df_cleaned.query('duration > 0')"
   ]
  },
  {
   "cell_type": "code",
   "execution_count": 24,
   "id": "ff8448e1",
   "metadata": {},
   "outputs": [
    {
     "data": {
      "text/plain": [
       "False    0.963096\n",
       "True     0.036904\n",
       "Name: is_outlier, dtype: float64"
      ]
     },
     "execution_count": 24,
     "metadata": {},
     "output_type": "execute_result"
    }
   ],
   "source": [
    "def mad_outlier(data, threshold=3.5):\n",
    "    \"\"\" Median Absolute deviation based outlier detection.\n",
    "    Returns a booelan mask (True if z > threshold, else False).\"\"\"\n",
    "    median = np.median(data)\n",
    "    mad = np.median(np.abs(data - median))\n",
    "    modified_z_score = 0.6745 * (data - median) / mad\n",
    "\n",
    "    return modified_z_score > threshold\n",
    "\n",
    "# TODO: Remove outliers with respect to fixation duration\n",
    "df_cleaned.loc[:, 'is_outlier'] = mad_outlier(df_cleaned.duration)\n",
    "\n",
    "df_cleaned.is_outlier.value_counts(normalize=True)"
   ]
  },
  {
   "cell_type": "code",
   "execution_count": 38,
   "id": "a7d64ee1",
   "metadata": {},
   "outputs": [],
   "source": [
    "def mad_outlier(data, threshold=3.5):\n",
    "    \"\"\" Median Absolute deviation based outlier detection.\n",
    "    Returns a booelan mask (True if z > threshold, else False).\"\"\"\n",
    "    median = np.median(data)\n",
    "    mad = np.median(np.abs(data - median))\n",
    "    modified_z_score = 0.6745 * (data - median) / mad\n",
    "\n",
    "    return modified_z_score\n",
    "\n",
    "df_cleaned['mad_dist'] = mad_outlier(df_cleaned.duration)"
   ]
  },
  {
   "cell_type": "code",
   "execution_count": 42,
   "id": "133c3a0c",
   "metadata": {},
   "outputs": [
    {
     "data": {
      "text/plain": [
       "[(-5.0, 10.0)]"
      ]
     },
     "execution_count": 42,
     "metadata": {},
     "output_type": "execute_result"
    },
    {
     "data": {
      "image/png": "[encoded data removed]",
      "text/plain": [
       "<Figure size 640x480 with 1 Axes>"
      ]
     },
     "metadata": {},
     "output_type": "display_data"
    }
   ],
   "source": [
    "ax = df_cleaned.mad_dist.plot.kde()\n",
    "ax.axvline(3.5, color='r')\n",
    "ax.set(xlim=(-5, 10))"
   ]
  },
  {
   "cell_type": "code",
   "execution_count": 25,
   "id": "a7c768a2",
   "metadata": {},
   "outputs": [
    {
     "data": {
      "text/html": [
       "<div>\n",
       "<style scoped>\n",
       "    .dataframe tbody tr th:only-of-type {\n",
       "        vertical-align: middle;\n",
       "    }\n",
       "\n",
       "    .dataframe tbody tr th {\n",
       "        vertical-align: top;\n",
       "    }\n",
       "\n",
       "    .dataframe thead th {\n",
       "        text-align: right;\n",
       "    }\n",
       "</style>\n",
       "<table border=\"1\" class=\"dataframe\">\n",
       "  <thead>\n",
       "    <tr style=\"text-align: right;\">\n",
       "      <th></th>\n",
       "      <th>Unnamed: 0</th>\n",
       "      <th>SUBJECTINDEX</th>\n",
       "      <th>age</th>\n",
       "      <th>answer</th>\n",
       "      <th>catch</th>\n",
       "      <th>category</th>\n",
       "      <th>dataset_nr</th>\n",
       "      <th>end</th>\n",
       "      <th>filenumber</th>\n",
       "      <th>fix</th>\n",
       "      <th>...</th>\n",
       "      <th>start</th>\n",
       "      <th>trial</th>\n",
       "      <th>valid</th>\n",
       "      <th>x</th>\n",
       "      <th>y</th>\n",
       "      <th>str_category</th>\n",
       "      <th>age_category</th>\n",
       "      <th>is_accurate</th>\n",
       "      <th>duration</th>\n",
       "      <th>is_outlier</th>\n",
       "    </tr>\n",
       "  </thead>\n",
       "  <tbody>\n",
       "    <tr>\n",
       "      <th>0</th>\n",
       "      <td>0</td>\n",
       "      <td>1.0</td>\n",
       "      <td>2.0</td>\n",
       "      <td>1.0</td>\n",
       "      <td>0.0</td>\n",
       "      <td>7.0</td>\n",
       "      <td>0.0</td>\n",
       "      <td>377.0</td>\n",
       "      <td>17.0</td>\n",
       "      <td>1.0</td>\n",
       "      <td>...</td>\n",
       "      <td>101.0</td>\n",
       "      <td>1.0</td>\n",
       "      <td>1.0</td>\n",
       "      <td>708.86950</td>\n",
       "      <td>402.91230</td>\n",
       "      <td>natural</td>\n",
       "      <td>old</td>\n",
       "      <td>True</td>\n",
       "      <td>276.0</td>\n",
       "      <td>False</td>\n",
       "    </tr>\n",
       "    <tr>\n",
       "      <th>1</th>\n",
       "      <td>1</td>\n",
       "      <td>1.0</td>\n",
       "      <td>2.0</td>\n",
       "      <td>1.0</td>\n",
       "      <td>0.0</td>\n",
       "      <td>7.0</td>\n",
       "      <td>0.0</td>\n",
       "      <td>585.0</td>\n",
       "      <td>17.0</td>\n",
       "      <td>2.0</td>\n",
       "      <td>...</td>\n",
       "      <td>417.0</td>\n",
       "      <td>1.0</td>\n",
       "      <td>1.0</td>\n",
       "      <td>495.03134</td>\n",
       "      <td>451.73110</td>\n",
       "      <td>natural</td>\n",
       "      <td>old</td>\n",
       "      <td>True</td>\n",
       "      <td>168.0</td>\n",
       "      <td>False</td>\n",
       "    </tr>\n",
       "    <tr>\n",
       "      <th>2</th>\n",
       "      <td>2</td>\n",
       "      <td>1.0</td>\n",
       "      <td>2.0</td>\n",
       "      <td>1.0</td>\n",
       "      <td>0.0</td>\n",
       "      <td>7.0</td>\n",
       "      <td>0.0</td>\n",
       "      <td>961.0</td>\n",
       "      <td>17.0</td>\n",
       "      <td>3.0</td>\n",
       "      <td>...</td>\n",
       "      <td>651.0</td>\n",
       "      <td>1.0</td>\n",
       "      <td>1.0</td>\n",
       "      <td>1095.33590</td>\n",
       "      <td>276.77325</td>\n",
       "      <td>natural</td>\n",
       "      <td>old</td>\n",
       "      <td>True</td>\n",
       "      <td>310.0</td>\n",
       "      <td>False</td>\n",
       "    </tr>\n",
       "    <tr>\n",
       "      <th>3</th>\n",
       "      <td>3</td>\n",
       "      <td>1.0</td>\n",
       "      <td>2.0</td>\n",
       "      <td>1.0</td>\n",
       "      <td>0.0</td>\n",
       "      <td>7.0</td>\n",
       "      <td>0.0</td>\n",
       "      <td>1201.0</td>\n",
       "      <td>17.0</td>\n",
       "      <td>4.0</td>\n",
       "      <td>...</td>\n",
       "      <td>1015.0</td>\n",
       "      <td>1.0</td>\n",
       "      <td>1.0</td>\n",
       "      <td>686.60760</td>\n",
       "      <td>477.21127</td>\n",
       "      <td>natural</td>\n",
       "      <td>old</td>\n",
       "      <td>True</td>\n",
       "      <td>186.0</td>\n",
       "      <td>False</td>\n",
       "    </tr>\n",
       "    <tr>\n",
       "      <th>4</th>\n",
       "      <td>4</td>\n",
       "      <td>1.0</td>\n",
       "      <td>2.0</td>\n",
       "      <td>1.0</td>\n",
       "      <td>0.0</td>\n",
       "      <td>7.0</td>\n",
       "      <td>0.0</td>\n",
       "      <td>1423.0</td>\n",
       "      <td>17.0</td>\n",
       "      <td>5.0</td>\n",
       "      <td>...</td>\n",
       "      <td>1235.0</td>\n",
       "      <td>1.0</td>\n",
       "      <td>1.0</td>\n",
       "      <td>811.72290</td>\n",
       "      <td>468.97660</td>\n",
       "      <td>natural</td>\n",
       "      <td>old</td>\n",
       "      <td>True</td>\n",
       "      <td>188.0</td>\n",
       "      <td>False</td>\n",
       "    </tr>\n",
       "  </tbody>\n",
       "</table>\n",
       "<p>5 rows × 22 columns</p>\n",
       "</div>"
      ],
      "text/plain": [
       "   Unnamed: 0  SUBJECTINDEX  age  answer  catch  category  dataset_nr     end  \\\n",
       "0           0           1.0  2.0     1.0    0.0       7.0         0.0   377.0   \n",
       "1           1           1.0  2.0     1.0    0.0       7.0         0.0   585.0   \n",
       "2           2           1.0  2.0     1.0    0.0       7.0         0.0   961.0   \n",
       "3           3           1.0  2.0     1.0    0.0       7.0         0.0  1201.0   \n",
       "4           4           1.0  2.0     1.0    0.0       7.0         0.0  1423.0   \n",
       "\n",
       "   filenumber  fix  ...   start  trial  valid           x          y  \\\n",
       "0        17.0  1.0  ...   101.0    1.0    1.0   708.86950  402.91230   \n",
       "1        17.0  2.0  ...   417.0    1.0    1.0   495.03134  451.73110   \n",
       "2        17.0  3.0  ...   651.0    1.0    1.0  1095.33590  276.77325   \n",
       "3        17.0  4.0  ...  1015.0    1.0    1.0   686.60760  477.21127   \n",
       "4        17.0  5.0  ...  1235.0    1.0    1.0   811.72290  468.97660   \n",
       "\n",
       "   str_category  age_category is_accurate duration  is_outlier  \n",
       "0       natural           old        True    276.0       False  \n",
       "1       natural           old        True    168.0       False  \n",
       "2       natural           old        True    310.0       False  \n",
       "3       natural           old        True    186.0       False  \n",
       "4       natural           old        True    188.0       False  \n",
       "\n",
       "[5 rows x 22 columns]"
      ]
     },
     "execution_count": 25,
     "metadata": {},
     "output_type": "execute_result"
    }
   ],
   "source": [
    "df_cleaned.head()"
   ]
  },
  {
   "cell_type": "code",
   "execution_count": 26,
   "id": "9cddcf19",
   "metadata": {},
   "outputs": [],
   "source": [
    "df_cleaned['log_duration'] = np.log(df_cleaned['duration'])\n",
    "df_cleaned['inv_duration'] = 1/df_cleaned['duration']"
   ]
  },
  {
   "cell_type": "code",
   "execution_count": 27,
   "id": "c26e4ac7",
   "metadata": {},
   "outputs": [
    {
     "data": {
      "text/plain": [
       "Unnamed: 0      0\n",
       "SUBJECTINDEX    0\n",
       "age             0\n",
       "answer          0\n",
       "catch           0\n",
       "category        0\n",
       "dataset_nr      0\n",
       "end             0\n",
       "filenumber      0\n",
       "fix             0\n",
       "on_image        0\n",
       "patchpos        0\n",
       "start           0\n",
       "trial           0\n",
       "valid           0\n",
       "x               0\n",
       "y               0\n",
       "str_category    0\n",
       "age_category    0\n",
       "is_accurate     0\n",
       "duration        0\n",
       "is_outlier      0\n",
       "log_duration    0\n",
       "inv_duration    0\n",
       "dtype: int64"
      ]
     },
     "execution_count": 27,
     "metadata": {},
     "output_type": "execute_result"
    }
   ],
   "source": [
    "df_cleaned.isna().sum()"
   ]
  },
  {
   "cell_type": "code",
   "execution_count": 45,
   "id": "ffb59565",
   "metadata": {
    "scrolled": false
   },
   "outputs": [
    {
     "data": {
      "text/plain": [
       "<matplotlib.legend.Legend at 0x7f909c3c5cc0>"
      ]
     },
     "execution_count": 45,
     "metadata": {},
     "output_type": "execute_result"
    },
    {
     "data": {
      "image/png": "[encoded data removed]",
      "text/plain": [
       "<Figure size 1500x500 with 3 Axes>"
      ]
     },
     "metadata": {},
     "output_type": "display_data"
    }
   ],
   "source": [
    "fig, ax = plt.subplots(1, 3, figsize=(15, 5))\n",
    "ax[0] = df_cleaned.duration.plot(kind='kde', color='k', label='no transform', ax=ax[0])\n",
    "ax[0] = df_cleaned.query('is_outlier==0').duration.plot(kind='kde',  ls=':', lw=2, color='grey', label='no transform', ax=ax[0])\n",
    "\n",
    "\n",
    "ax[1] = df_cleaned.log_duration.plot(kind='kde', color='r', label='log', ax=ax[1])\n",
    "ax[1] = df_cleaned.query('is_outlier==0').log_duration.plot(kind='kde', ls=':', lw=2, color='grey', label='log', ax=ax[1])\n",
    "\n",
    "\n",
    "ax[2] = df_cleaned.inv_duration.plot(kind='kde', color='b', label='inverse', ax=ax[2])\n",
    "ax[2] = df_cleaned.query('is_outlier==0').inv_duration.plot(kind='kde',  ls=':', lw=2, color='grey', label='inverse', ax=ax[2])\n",
    "\n",
    "\n",
    "\n",
    "ax[0].legend()\n",
    "ax[1].legend()\n",
    "ax[2].legend()\n",
    "\n",
    "# ax.set(xlim=(-100, 400), xlabel='fixation duration')"
   ]
  },
  {
   "cell_type": "code",
   "execution_count": 46,
   "id": "dd3d90a0",
   "metadata": {},
   "outputs": [],
   "source": [
    "\n",
    "df_cleaned = df_cleaned.query('x >= 0 and x <= 1280 and y>=0 and y<=960')"
   ]
  },
  {
   "cell_type": "code",
   "execution_count": 60,
   "id": "6ea800e1",
   "metadata": {},
   "outputs": [
    {
     "data": {
      "image/png": "[encoded data removed]",
      "text/plain": [
       "<Figure size 1200x450 with 2 Axes>"
      ]
     },
     "metadata": {},
     "output_type": "display_data"
    }
   ],
   "source": [
    "fig, ax = plt.subplots(1, 2, figsize=(12, 4.5))\n",
    "\n",
    "tmpdf = df_cleaned.query('age_category==\"child\" and is_outlier==False and str_category==\"pink_noise\"')\n",
    "sns.histplot(\n",
    "    data=tmpdf, x='x', y='y',\n",
    "    bins=50, cmap='viridis',\n",
    "    ax=ax[0]\n",
    ");\n",
    "\n",
    "tmpdf = df_cleaned.query('age_category==\"old\" and is_outlier==False and str_category==\"pink_noise\"')\n",
    "sns.histplot(\n",
    "    data=tmpdf, x='x', y='y',\n",
    "    bins=50, cmap='viridis',\n",
    "    ax=ax[1]\n",
    ");"
   ]
  },
  {
   "cell_type": "code",
   "execution_count": null,
   "id": "76c9a59c",
   "metadata": {},
   "outputs": [],
   "source": []
  },
  {
   "cell_type": "code",
   "execution_count": 74,
   "id": "b665455d",
   "metadata": {},
   "outputs": [
    {
     "data": {
      "text/html": [
       "<div>\n",
       "<style scoped>\n",
       "    .dataframe tbody tr th:only-of-type {\n",
       "        vertical-align: middle;\n",
       "    }\n",
       "\n",
       "    .dataframe tbody tr th {\n",
       "        vertical-align: top;\n",
       "    }\n",
       "\n",
       "    .dataframe thead th {\n",
       "        text-align: right;\n",
       "    }\n",
       "</style>\n",
       "<table border=\"1\" class=\"dataframe\">\n",
       "  <thead>\n",
       "    <tr style=\"text-align: right;\">\n",
       "      <th></th>\n",
       "      <th>str_category</th>\n",
       "      <th>age_category</th>\n",
       "      <th>fix</th>\n",
       "    </tr>\n",
       "  </thead>\n",
       "  <tbody>\n",
       "    <tr>\n",
       "      <th>0</th>\n",
       "      <td>fractals</td>\n",
       "      <td>child</td>\n",
       "      <td>11.715289</td>\n",
       "    </tr>\n",
       "    <tr>\n",
       "      <th>1</th>\n",
       "      <td>fractals</td>\n",
       "      <td>old</td>\n",
       "      <td>14.733456</td>\n",
       "    </tr>\n",
       "    <tr>\n",
       "      <th>2</th>\n",
       "      <td>fractals</td>\n",
       "      <td>teen</td>\n",
       "      <td>13.485712</td>\n",
       "    </tr>\n",
       "    <tr>\n",
       "      <th>3</th>\n",
       "      <td>natural</td>\n",
       "      <td>child</td>\n",
       "      <td>10.661343</td>\n",
       "    </tr>\n",
       "    <tr>\n",
       "      <th>4</th>\n",
       "      <td>natural</td>\n",
       "      <td>old</td>\n",
       "      <td>14.696691</td>\n",
       "    </tr>\n",
       "    <tr>\n",
       "      <th>5</th>\n",
       "      <td>natural</td>\n",
       "      <td>teen</td>\n",
       "      <td>13.513587</td>\n",
       "    </tr>\n",
       "    <tr>\n",
       "      <th>6</th>\n",
       "      <td>pink_noise</td>\n",
       "      <td>child</td>\n",
       "      <td>6.606241</td>\n",
       "    </tr>\n",
       "    <tr>\n",
       "      <th>7</th>\n",
       "      <td>pink_noise</td>\n",
       "      <td>old</td>\n",
       "      <td>12.793821</td>\n",
       "    </tr>\n",
       "    <tr>\n",
       "      <th>8</th>\n",
       "      <td>pink_noise</td>\n",
       "      <td>teen</td>\n",
       "      <td>11.442703</td>\n",
       "    </tr>\n",
       "    <tr>\n",
       "      <th>9</th>\n",
       "      <td>urban</td>\n",
       "      <td>child</td>\n",
       "      <td>12.497756</td>\n",
       "    </tr>\n",
       "    <tr>\n",
       "      <th>10</th>\n",
       "      <td>urban</td>\n",
       "      <td>old</td>\n",
       "      <td>15.455882</td>\n",
       "    </tr>\n",
       "    <tr>\n",
       "      <th>11</th>\n",
       "      <td>urban</td>\n",
       "      <td>teen</td>\n",
       "      <td>14.876359</td>\n",
       "    </tr>\n",
       "  </tbody>\n",
       "</table>\n",
       "</div>"
      ],
      "text/plain": [
       "   str_category age_category        fix\n",
       "0      fractals        child  11.715289\n",
       "1      fractals          old  14.733456\n",
       "2      fractals         teen  13.485712\n",
       "3       natural        child  10.661343\n",
       "4       natural          old  14.696691\n",
       "5       natural         teen  13.513587\n",
       "6    pink_noise        child   6.606241\n",
       "7    pink_noise          old  12.793821\n",
       "8    pink_noise         teen  11.442703\n",
       "9         urban        child  12.497756\n",
       "10        urban          old  15.455882\n",
       "11        urban         teen  14.876359"
      ]
     },
     "execution_count": 74,
     "metadata": {},
     "output_type": "execute_result"
    }
   ],
   "source": [
    "# fix_count_df = \n",
    "(\n",
    "    df_cleaned\n",
    "    .query('is_outlier == False')\n",
    "    .groupby(['SUBJECTINDEX', 'trial', 'str_category', 'age_category'])\n",
    "    .fix\n",
    "    .nunique()\n",
    "    .reset_index()\n",
    "    .groupby(['SUBJECTINDEX', 'str_category', 'age_category'])\n",
    "    .fix\n",
    "    .mean()\n",
    "    .reset_index()\n",
    "    .groupby(['str_category', 'age_category'])\n",
    "    .fix\n",
    "    .mean()\n",
    "    .reset_index()\n",
    ")\n",
    "\n",
    "# fix_count_df\n",
    "    "
   ]
  },
  {
   "cell_type": "code",
   "execution_count": 69,
   "id": "2cfba8bb",
   "metadata": {},
   "outputs": [
    {
     "data": {
      "text/plain": [
       "<AxesSubplot:xlabel='str_category', ylabel='fix'>"
      ]
     },
     "execution_count": 69,
     "metadata": {},
     "output_type": "execute_result"
    },
    {
     "data": {
      "image/png": "[encoded data removed]",
      "text/plain": [
       "<Figure size 640x480 with 1 Axes>"
      ]
     },
     "metadata": {},
     "output_type": "display_data"
    }
   ],
   "source": [
    "sns.pointplot(\n",
    "    data=fix_count_df,\n",
    "    x='str_category',\n",
    "    y='fix',\n",
    "    hue='age_category',\n",
    "    hue_order=['child', 'teen', 'old'],\n",
    "    order = ['natural', 'urban', 'fractals', 'pink_noise']\n",
    ")"
   ]
  },
  {
   "cell_type": "code",
   "execution_count": null,
   "id": "ca6abafd",
   "metadata": {},
   "outputs": [],
   "source": []
  }
 ],
 "metadata": {
  "kernelspec": {
   "display_name": "Python 3 (ipykernel)",
   "language": "python",
   "name": "python3"
  },
  "language_info": {
   "codemirror_mode": {
    "name": "ipython",
    "version": 3
   },
   "file_extension": ".py",
   "mimetype": "text/x-python",
   "name": "python",
   "nbconvert_exporter": "python",
   "pygments_lexer": "ipython3",
   "version": "3.10.6"
  }
 },
 "nbformat": 4,
 "nbformat_minor": 5
}
