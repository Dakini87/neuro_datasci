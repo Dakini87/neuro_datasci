{
 "cells": [
  {
   "cell_type": "markdown",
   "metadata": {},
   "source": [
    "# Practice notebook for pandas operations"
   ]
  },
  {
   "cell_type": "code",
   "execution_count": 9,
   "metadata": {
    "ExecuteTime": {
     "end_time": "2020-05-18T10:35:37.096910Z",
     "start_time": "2020-05-18T10:35:35.831299Z"
    }
   },
   "outputs": [],
   "source": [
    "import os\n",
    "import pandas as pd\n",
    "import seaborn as sns\n",
    "import numpy as np\n",
    "from IPython.display import display\n",
    "import matplotlib.pyplot as plt"
   ]
  },
  {
   "cell_type": "markdown",
   "metadata": {},
   "source": [
    "## Setting defaults"
   ]
  },
  {
   "cell_type": "code",
   "execution_count": 10,
   "metadata": {
    "ExecuteTime": {
     "end_time": "2020-05-18T15:17:33.584254Z",
     "start_time": "2020-05-18T15:17:33.577268Z"
    }
   },
   "outputs": [],
   "source": [
    "DATA_PATH = './Data/'\n",
    "PLOTS_PATH = './plots/'\n",
    "FILE_NAME = 'bmbf-answers.csv'\n",
    "LEFT_SERVER_FILE = 'leftServerBmbfFiles.csv'\n",
    "RIGHT_SERVER_FILE = 'rightServerBmbfFiles.csv'"
   ]
  },
  {
   "cell_type": "code",
   "execution_count": 11,
   "metadata": {
    "ExecuteTime": {
     "end_time": "2020-05-18T10:40:07.271521Z",
     "start_time": "2020-05-18T10:40:07.264537Z"
    }
   },
   "outputs": [],
   "source": [
    "# make folder for plots\n",
    "os.makedirs(os.path.dirname(PLOTS_PATH), exist_ok=True)"
   ]
  },
  {
   "cell_type": "markdown",
   "metadata": {},
   "source": [
    "## Reading questionnaire data"
   ]
  },
  {
   "cell_type": "code",
   "execution_count": 12,
   "metadata": {
    "ExecuteTime": {
     "end_time": "2020-05-18T15:17:37.938131Z",
     "start_time": "2020-05-18T15:17:37.862337Z"
    }
   },
   "outputs": [],
   "source": [
    "questionnaire_df = pd.read_csv(f'{DATA_PATH}{FILE_NAME}')"
   ]
  },
  {
   "cell_type": "code",
   "execution_count": 13,
   "metadata": {},
   "outputs": [
    {
     "data": {
      "text/html": [
       "<div>\n",
       "<style scoped>\n",
       "    .dataframe tbody tr th:only-of-type {\n",
       "        vertical-align: middle;\n",
       "    }\n",
       "\n",
       "    .dataframe tbody tr th {\n",
       "        vertical-align: top;\n",
       "    }\n",
       "\n",
       "    .dataframe thead th {\n",
       "        text-align: right;\n",
       "    }\n",
       "</style>\n",
       "<table border=\"1\" class=\"dataframe\">\n",
       "  <thead>\n",
       "    <tr style=\"text-align: right;\">\n",
       "      <th></th>\n",
       "      <th>id</th>\n",
       "      <th>uid</th>\n",
       "      <th>date</th>\n",
       "      <th>Intention to Use 1</th>\n",
       "      <th>Perceived Usefulness 4</th>\n",
       "      <th>Perceived Ease of Use 2</th>\n",
       "      <th>Trust</th>\n",
       "      <th>Sex</th>\n",
       "      <th>Age</th>\n",
       "      <th>Aviophobia</th>\n",
       "      <th>Driving Frequency</th>\n",
       "      <th>Playing Hours</th>\n",
       "      <th>VR Playing Frequency</th>\n",
       "    </tr>\n",
       "  </thead>\n",
       "  <tbody>\n",
       "    <tr>\n",
       "      <th>0</th>\n",
       "      <td>7</td>\n",
       "      <td>efb7844a4df8430f9d1c2f72babe5e86</td>\n",
       "      <td>2019-07-02 11:58:23</td>\n",
       "      <td>60</td>\n",
       "      <td>80</td>\n",
       "      <td>30</td>\n",
       "      <td>91</td>\n",
       "      <td>weiblich</td>\n",
       "      <td>51</td>\n",
       "      <td>1</td>\n",
       "      <td>32</td>\n",
       "      <td>0</td>\n",
       "      <td>unter 10</td>\n",
       "    </tr>\n",
       "    <tr>\n",
       "      <th>1</th>\n",
       "      <td>8</td>\n",
       "      <td>7be560561f2141518bd4f6c2c3c9f487</td>\n",
       "      <td>2019-07-02 12:07:53</td>\n",
       "      <td>56</td>\n",
       "      <td>62</td>\n",
       "      <td>36</td>\n",
       "      <td>85</td>\n",
       "      <td>männlich</td>\n",
       "      <td>52</td>\n",
       "      <td>0</td>\n",
       "      <td>34</td>\n",
       "      <td>0</td>\n",
       "      <td>Ein mal</td>\n",
       "    </tr>\n",
       "    <tr>\n",
       "      <th>2</th>\n",
       "      <td>9</td>\n",
       "      <td>fa0885937e114e9a907a5a4feda5798b</td>\n",
       "      <td>2019-07-02 12:09:22</td>\n",
       "      <td>29</td>\n",
       "      <td>79</td>\n",
       "      <td>27</td>\n",
       "      <td>52</td>\n",
       "      <td>männlich</td>\n",
       "      <td>49</td>\n",
       "      <td>0</td>\n",
       "      <td>30</td>\n",
       "      <td>0</td>\n",
       "      <td>Noch nie</td>\n",
       "    </tr>\n",
       "    <tr>\n",
       "      <th>3</th>\n",
       "      <td>10</td>\n",
       "      <td>132256b042674a5f8ed249578fc624b4</td>\n",
       "      <td>2019-07-02 12:45:58</td>\n",
       "      <td>100</td>\n",
       "      <td>96</td>\n",
       "      <td>100</td>\n",
       "      <td>83</td>\n",
       "      <td>männlich</td>\n",
       "      <td>47</td>\n",
       "      <td>0</td>\n",
       "      <td>30</td>\n",
       "      <td>8</td>\n",
       "      <td>Ein mal</td>\n",
       "    </tr>\n",
       "    <tr>\n",
       "      <th>4</th>\n",
       "      <td>11</td>\n",
       "      <td>3b057c2796314ef6a61de34c28d63e03</td>\n",
       "      <td>2019-07-02 12:51:29</td>\n",
       "      <td>68</td>\n",
       "      <td>78</td>\n",
       "      <td>37</td>\n",
       "      <td>50</td>\n",
       "      <td>männlich</td>\n",
       "      <td>52</td>\n",
       "      <td>0</td>\n",
       "      <td>32</td>\n",
       "      <td>0</td>\n",
       "      <td>Ein mal</td>\n",
       "    </tr>\n",
       "  </tbody>\n",
       "</table>\n",
       "</div>"
      ],
      "text/plain": [
       "   id                               uid                 date  \\\n",
       "0   7  efb7844a4df8430f9d1c2f72babe5e86  2019-07-02 11:58:23   \n",
       "1   8  7be560561f2141518bd4f6c2c3c9f487  2019-07-02 12:07:53   \n",
       "2   9  fa0885937e114e9a907a5a4feda5798b  2019-07-02 12:09:22   \n",
       "3  10  132256b042674a5f8ed249578fc624b4  2019-07-02 12:45:58   \n",
       "4  11  3b057c2796314ef6a61de34c28d63e03  2019-07-02 12:51:29   \n",
       "\n",
       "   Intention to Use 1  Perceived Usefulness 4  Perceived Ease of Use 2  Trust  \\\n",
       "0                  60                      80                       30     91   \n",
       "1                  56                      62                       36     85   \n",
       "2                  29                      79                       27     52   \n",
       "3                 100                      96                      100     83   \n",
       "4                  68                      78                       37     50   \n",
       "\n",
       "        Sex  Age  Aviophobia  Driving Frequency  Playing Hours  \\\n",
       "0  weiblich   51           1                 32              0   \n",
       "1  männlich   52           0                 34              0   \n",
       "2  männlich   49           0                 30              0   \n",
       "3  männlich   47           0                 30              8   \n",
       "4  männlich   52           0                 32              0   \n",
       "\n",
       "  VR Playing Frequency  \n",
       "0             unter 10  \n",
       "1              Ein mal  \n",
       "2             Noch nie  \n",
       "3              Ein mal  \n",
       "4              Ein mal  "
      ]
     },
     "execution_count": 13,
     "metadata": {},
     "output_type": "execute_result"
    }
   ],
   "source": [
    "questionnaire_df.head()"
   ]
  },
  {
   "cell_type": "code",
   "execution_count": 14,
   "metadata": {},
   "outputs": [
    {
     "data": {
      "text/plain": [
       "Index(['id', 'uid', 'date', 'Intention to Use 1', 'Perceived Usefulness 4',\n",
       "       'Perceived Ease of Use 2', 'Trust', 'Sex', 'Age', 'Aviophobia',\n",
       "       'Driving Frequency', 'Playing Hours', 'VR Playing Frequency'],\n",
       "      dtype='object')"
      ]
     },
     "execution_count": 14,
     "metadata": {},
     "output_type": "execute_result"
    }
   ],
   "source": [
    "questionnaire_df.columns"
   ]
  },
  {
   "cell_type": "code",
   "execution_count": 15,
   "metadata": {},
   "outputs": [
    {
     "data": {
      "text/plain": [
       "(819, 13)"
      ]
     },
     "execution_count": 15,
     "metadata": {},
     "output_type": "execute_result"
    }
   ],
   "source": [
    "questionnaire_df.shape"
   ]
  },
  {
   "cell_type": "code",
   "execution_count": 16,
   "metadata": {},
   "outputs": [
    {
     "data": {
      "text/plain": [
       "id                         0\n",
       "uid                        0\n",
       "date                       0\n",
       "Intention to Use 1         0\n",
       "Perceived Usefulness 4     0\n",
       "Perceived Ease of Use 2    0\n",
       "Trust                      0\n",
       "Sex                        0\n",
       "Age                        0\n",
       "Aviophobia                 0\n",
       "Driving Frequency          0\n",
       "Playing Hours              0\n",
       "VR Playing Frequency       0\n",
       "dtype: int64"
      ]
     },
     "execution_count": 16,
     "metadata": {},
     "output_type": "execute_result"
    }
   ],
   "source": [
    "questionnaire_df.isna().sum()"
   ]
  },
  {
   "cell_type": "code",
   "execution_count": 19,
   "metadata": {},
   "outputs": [
    {
     "name": "stdout",
     "output_type": "stream",
     "text": [
      "<class 'pandas.core.frame.DataFrame'>\n",
      "RangeIndex: 819 entries, 0 to 818\n",
      "Data columns (total 13 columns):\n",
      " #   Column                   Non-Null Count  Dtype         \n",
      "---  ------                   --------------  -----         \n",
      " 0   id                       819 non-null    int64         \n",
      " 1   uid                      819 non-null    object        \n",
      " 2   date                     819 non-null    datetime64[ns]\n",
      " 3   Intention to Use 1       819 non-null    int64         \n",
      " 4   Perceived Usefulness 4   819 non-null    int64         \n",
      " 5   Perceived Ease of Use 2  819 non-null    int64         \n",
      " 6   Trust                    819 non-null    int64         \n",
      " 7   Sex                      819 non-null    object        \n",
      " 8   Age                      819 non-null    int64         \n",
      " 9   Aviophobia               819 non-null    int64         \n",
      " 10  Driving Frequency        819 non-null    int64         \n",
      " 11  Playing Hours            819 non-null    int64         \n",
      " 12  VR Playing Frequency     819 non-null    object        \n",
      "dtypes: datetime64[ns](1), int64(9), object(3)\n",
      "memory usage: 83.3+ KB\n"
     ]
    }
   ],
   "source": [
    "questionnaire_df.info()"
   ]
  },
  {
   "cell_type": "markdown",
   "metadata": {},
   "source": [
    "### Basic formatting"
   ]
  },
  {
   "cell_type": "code",
   "execution_count": 18,
   "metadata": {},
   "outputs": [],
   "source": [
    "questionnaire_df['date'] = (pd.to_datetime(questionnaire_df['date'], infer_datetime_format=True))"
   ]
  },
  {
   "cell_type": "code",
   "execution_count": 20,
   "metadata": {},
   "outputs": [],
   "source": [
    "questionnaire_df.set_index('uid', inplace=True)"
   ]
  },
  {
   "cell_type": "code",
   "execution_count": null,
   "metadata": {},
   "outputs": [],
   "source": []
  },
  {
   "cell_type": "code",
   "execution_count": 21,
   "metadata": {},
   "outputs": [
    {
     "data": {
      "text/html": [
       "<div>\n",
       "<style scoped>\n",
       "    .dataframe tbody tr th:only-of-type {\n",
       "        vertical-align: middle;\n",
       "    }\n",
       "\n",
       "    .dataframe tbody tr th {\n",
       "        vertical-align: top;\n",
       "    }\n",
       "\n",
       "    .dataframe thead th {\n",
       "        text-align: right;\n",
       "    }\n",
       "</style>\n",
       "<table border=\"1\" class=\"dataframe\">\n",
       "  <thead>\n",
       "    <tr style=\"text-align: right;\">\n",
       "      <th></th>\n",
       "      <th>id</th>\n",
       "      <th>date</th>\n",
       "      <th>Intention to Use 1</th>\n",
       "      <th>Perceived Usefulness 4</th>\n",
       "      <th>Perceived Ease of Use 2</th>\n",
       "      <th>Trust</th>\n",
       "      <th>Sex</th>\n",
       "      <th>Age</th>\n",
       "      <th>Aviophobia</th>\n",
       "      <th>Driving Frequency</th>\n",
       "      <th>Playing Hours</th>\n",
       "      <th>VR Playing Frequency</th>\n",
       "    </tr>\n",
       "    <tr>\n",
       "      <th>uid</th>\n",
       "      <th></th>\n",
       "      <th></th>\n",
       "      <th></th>\n",
       "      <th></th>\n",
       "      <th></th>\n",
       "      <th></th>\n",
       "      <th></th>\n",
       "      <th></th>\n",
       "      <th></th>\n",
       "      <th></th>\n",
       "      <th></th>\n",
       "      <th></th>\n",
       "    </tr>\n",
       "  </thead>\n",
       "  <tbody>\n",
       "    <tr>\n",
       "      <th>efb7844a4df8430f9d1c2f72babe5e86</th>\n",
       "      <td>7</td>\n",
       "      <td>2019-07-02 11:58:23</td>\n",
       "      <td>60</td>\n",
       "      <td>80</td>\n",
       "      <td>30</td>\n",
       "      <td>91</td>\n",
       "      <td>weiblich</td>\n",
       "      <td>51</td>\n",
       "      <td>1</td>\n",
       "      <td>32</td>\n",
       "      <td>0</td>\n",
       "      <td>unter 10</td>\n",
       "    </tr>\n",
       "    <tr>\n",
       "      <th>7be560561f2141518bd4f6c2c3c9f487</th>\n",
       "      <td>8</td>\n",
       "      <td>2019-07-02 12:07:53</td>\n",
       "      <td>56</td>\n",
       "      <td>62</td>\n",
       "      <td>36</td>\n",
       "      <td>85</td>\n",
       "      <td>männlich</td>\n",
       "      <td>52</td>\n",
       "      <td>0</td>\n",
       "      <td>34</td>\n",
       "      <td>0</td>\n",
       "      <td>Ein mal</td>\n",
       "    </tr>\n",
       "    <tr>\n",
       "      <th>fa0885937e114e9a907a5a4feda5798b</th>\n",
       "      <td>9</td>\n",
       "      <td>2019-07-02 12:09:22</td>\n",
       "      <td>29</td>\n",
       "      <td>79</td>\n",
       "      <td>27</td>\n",
       "      <td>52</td>\n",
       "      <td>männlich</td>\n",
       "      <td>49</td>\n",
       "      <td>0</td>\n",
       "      <td>30</td>\n",
       "      <td>0</td>\n",
       "      <td>Noch nie</td>\n",
       "    </tr>\n",
       "    <tr>\n",
       "      <th>132256b042674a5f8ed249578fc624b4</th>\n",
       "      <td>10</td>\n",
       "      <td>2019-07-02 12:45:58</td>\n",
       "      <td>100</td>\n",
       "      <td>96</td>\n",
       "      <td>100</td>\n",
       "      <td>83</td>\n",
       "      <td>männlich</td>\n",
       "      <td>47</td>\n",
       "      <td>0</td>\n",
       "      <td>30</td>\n",
       "      <td>8</td>\n",
       "      <td>Ein mal</td>\n",
       "    </tr>\n",
       "    <tr>\n",
       "      <th>3b057c2796314ef6a61de34c28d63e03</th>\n",
       "      <td>11</td>\n",
       "      <td>2019-07-02 12:51:29</td>\n",
       "      <td>68</td>\n",
       "      <td>78</td>\n",
       "      <td>37</td>\n",
       "      <td>50</td>\n",
       "      <td>männlich</td>\n",
       "      <td>52</td>\n",
       "      <td>0</td>\n",
       "      <td>32</td>\n",
       "      <td>0</td>\n",
       "      <td>Ein mal</td>\n",
       "    </tr>\n",
       "  </tbody>\n",
       "</table>\n",
       "</div>"
      ],
      "text/plain": [
       "                                  id                date  Intention to Use 1  \\\n",
       "uid                                                                            \n",
       "efb7844a4df8430f9d1c2f72babe5e86   7 2019-07-02 11:58:23                  60   \n",
       "7be560561f2141518bd4f6c2c3c9f487   8 2019-07-02 12:07:53                  56   \n",
       "fa0885937e114e9a907a5a4feda5798b   9 2019-07-02 12:09:22                  29   \n",
       "132256b042674a5f8ed249578fc624b4  10 2019-07-02 12:45:58                 100   \n",
       "3b057c2796314ef6a61de34c28d63e03  11 2019-07-02 12:51:29                  68   \n",
       "\n",
       "                                  Perceived Usefulness 4  \\\n",
       "uid                                                        \n",
       "efb7844a4df8430f9d1c2f72babe5e86                      80   \n",
       "7be560561f2141518bd4f6c2c3c9f487                      62   \n",
       "fa0885937e114e9a907a5a4feda5798b                      79   \n",
       "132256b042674a5f8ed249578fc624b4                      96   \n",
       "3b057c2796314ef6a61de34c28d63e03                      78   \n",
       "\n",
       "                                  Perceived Ease of Use 2  Trust       Sex  \\\n",
       "uid                                                                          \n",
       "efb7844a4df8430f9d1c2f72babe5e86                       30     91  weiblich   \n",
       "7be560561f2141518bd4f6c2c3c9f487                       36     85  männlich   \n",
       "fa0885937e114e9a907a5a4feda5798b                       27     52  männlich   \n",
       "132256b042674a5f8ed249578fc624b4                      100     83  männlich   \n",
       "3b057c2796314ef6a61de34c28d63e03                       37     50  männlich   \n",
       "\n",
       "                                  Age  Aviophobia  Driving Frequency  \\\n",
       "uid                                                                    \n",
       "efb7844a4df8430f9d1c2f72babe5e86   51           1                 32   \n",
       "7be560561f2141518bd4f6c2c3c9f487   52           0                 34   \n",
       "fa0885937e114e9a907a5a4feda5798b   49           0                 30   \n",
       "132256b042674a5f8ed249578fc624b4   47           0                 30   \n",
       "3b057c2796314ef6a61de34c28d63e03   52           0                 32   \n",
       "\n",
       "                                  Playing Hours VR Playing Frequency  \n",
       "uid                                                                   \n",
       "efb7844a4df8430f9d1c2f72babe5e86              0             unter 10  \n",
       "7be560561f2141518bd4f6c2c3c9f487              0              Ein mal  \n",
       "fa0885937e114e9a907a5a4feda5798b              0             Noch nie  \n",
       "132256b042674a5f8ed249578fc624b4              8              Ein mal  \n",
       "3b057c2796314ef6a61de34c28d63e03              0              Ein mal  "
      ]
     },
     "execution_count": 21,
     "metadata": {},
     "output_type": "execute_result"
    }
   ],
   "source": [
    "questionnaire_df.head()"
   ]
  },
  {
   "cell_type": "markdown",
   "metadata": {},
   "source": [
    "### Merging with filenames.csv to get conditions for each participant"
   ]
  },
  {
   "cell_type": "markdown",
   "metadata": {},
   "source": [
    "### Renaming columns"
   ]
  },
  {
   "cell_type": "markdown",
   "metadata": {},
   "source": [
    "### Checking value counts of categorical data"
   ]
  },
  {
   "cell_type": "markdown",
   "metadata": {},
   "source": [
    "### Checking number of missing values"
   ]
  },
  {
   "cell_type": "markdown",
   "metadata": {},
   "source": [
    "### Dropping rows with missing values"
   ]
  },
  {
   "cell_type": "markdown",
   "metadata": {},
   "source": [
    "### Mapping German labels to English"
   ]
  },
  {
   "cell_type": "markdown",
   "metadata": {},
   "source": [
    "### Saving formatted questionnaire data"
   ]
  },
  {
   "cell_type": "code",
   "execution_count": 31,
   "metadata": {
    "ExecuteTime": {
     "end_time": "2020-05-18T11:14:41.402347Z",
     "start_time": "2020-05-18T11:14:41.379406Z"
    }
   },
   "outputs": [],
   "source": [
    "questionnaire_df.to_csv('questionnaire_cleaned.csv')"
   ]
  },
  {
   "cell_type": "markdown",
   "metadata": {},
   "source": [
    "### Create new column based on values of another column"
   ]
  }
 ],
 "metadata": {
  "kernelspec": {
   "display_name": "Python 3",
   "language": "python",
   "name": "python3"
  },
  "language_info": {
   "codemirror_mode": {
    "name": "ipython",
    "version": 3
   },
   "file_extension": ".py",
   "mimetype": "text/x-python",
   "name": "python",
   "nbconvert_exporter": "python",
   "pygments_lexer": "ipython3",
   "version": "3.9.2"
  },
  "toc": {
   "base_numbering": 1,
   "nav_menu": {},
   "number_sections": true,
   "sideBar": true,
   "skip_h1_title": false,
   "title_cell": "Table of Contents",
   "title_sidebar": "Contents",
   "toc_cell": false,
   "toc_position": {},
   "toc_section_display": true,
   "toc_window_display": true
  }
 },
 "nbformat": 4,
 "nbformat_minor": 4
}
