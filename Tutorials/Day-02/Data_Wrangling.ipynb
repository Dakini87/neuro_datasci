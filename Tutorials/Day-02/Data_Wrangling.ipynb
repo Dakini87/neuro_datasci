{
 "cells": [
  {
   "cell_type": "markdown",
   "metadata": {},
   "source": [
    "![SegmentLocal](../../assets/images/Logo2.png)"
   ]
  },
  {
   "cell_type": "markdown",
   "metadata": {},
   "source": [
    "# Data Wrangling"
   ]
  },
  {
   "cell_type": "markdown",
   "metadata": {},
   "source": [
    "### Prerequisites\n",
    "For this chapter, you should be familiar with the following concepts and techniques:\n",
    "* Basic data visualizations\n",
    "* working with dataframes"
   ]
  },
  {
   "cell_type": "markdown",
   "metadata": {},
   "source": [
    "### Scope of this Sheet\n",
    "\n",
    "In this sheet we will start to work with behavioral data. We will mainly concentrate on working with the python library `pandas` in order to preprocess and manipulate the data. If you are new to Pandas, go through the `pandas` cheatsheet that gives you important functions that you could use.\n",
    "\n",
    "This data was recorded alongside EEG for a social cognition study, conducted by Artur Czeszumski, Benedikt Ehinger, Basil Wahn and Peter König here at the IKW. [Here](https://www.frontiersin.org/articles/10.3389/fpsyg.2019.00361/full) you can find the respective paper. In order to properly understand how the data was recorded, I highly recommend to at least read the parts where the experimental design and the experimental procedure are described. The whole data is openly distributed on the [Open Science Framework](https://osf.io/c4wkx/). "
   ]
  },
  {
   "cell_type": "code",
   "execution_count": 93,
   "metadata": {},
   "outputs": [],
   "source": [
    "import os\n",
    "import glob\n",
    "import numpy as np\n",
    "import pandas as pd\n",
    "import seaborn as sns\n",
    "import statsmodels.api as sm\n",
    "import matplotlib.pyplot as plt\n",
    "import io\n",
    "import requests\n",
    "from statsmodels.stats.anova import AnovaRM"
   ]
  },
  {
   "cell_type": "markdown",
   "metadata": {},
   "source": [
    "## 1. Loading and preprocessing behavioral data"
   ]
  },
  {
   "cell_type": "markdown",
   "metadata": {},
   "source": [
    "### 1.1 Loading the behavioral dataset\n",
    "\n",
    "The first step is to load the data and to get an idea of how it is structured before we start doing any plotting or evaluation. It's always a good idea to spend some time familiarizing with the data, this will turn out to be very helpful when it comes to checking whether there are any mistakes in the subsequent analysis."
   ]
  },
  {
   "cell_type": "code",
   "execution_count": 94,
   "metadata": {},
   "outputs": [],
   "source": [
    "url = 'https://raw.githubusercontent.com/ashimakeshava/ACC_SS2021/main/Tutorials/Day-02/behavior_data/social_cog_data.csv'\n",
    "df = pd.read_csv(url)"
   ]
  },
  {
   "cell_type": "code",
   "execution_count": 44,
   "metadata": {},
   "outputs": [
    {
     "data": {
      "text/plain": [
       "Index(['target_ori', 'target_spatial', 'ori_correct_pos',\n",
       "       'spatial_correct_pos', 'player1_answer', 'player2_answer',\n",
       "       'time_player1', 'time_player2', 'player1_correct', 'player2_correct',\n",
       "       'player1_reward', 'player2_reward', 'trial', 'condition', 'block',\n",
       "       'pe_player1', 'pe_player2', 'change_ori', 'change_spatial', 'group',\n",
       "       'pl1_feature', 'pl2_feature'],\n",
       "      dtype='object')"
      ]
     },
     "execution_count": 44,
     "metadata": {},
     "output_type": "execute_result"
    }
   ],
   "source": [
    "# TODO: Take a look at the columns of the dataframe\n",
    "# "
   ]
  },
  {
   "cell_type": "markdown",
   "metadata": {},
   "source": [
    "#### Description of columns\n",
    "`target_ori`: orientation of target stimuli <br>\n",
    "`target_spatial`: spatial frequency of target stimuli <br>\n",
    "`ori_correct_pos`: index of correct orientation<br>\n",
    "`spatial_correct_pos`:index of correct spatial frequency<br>\n",
    "`player1_answer`: response of player1<br>\n",
    "`player2_answer`: response of player2<br>\n",
    "`time_player1`: reaction time of player1<br>\n",
    "`time_player2`: reaction time of player2<br>\n",
    "`player1_correct`: accuracy of player1<br>\n",
    "`player2_correct`: accuracy of player2<br>\n",
    "`player1_reward`:reward of player1<br>\n",
    "`player2_reward`:reward of player2<br>\n",
    "`trial`: trial number<br>\n",
    "`condition `: social condition of trial<br>\n",
    "`block`: block number <br>\n",
    "`group`: id of player pair<br>\n",
    "`pl1_feature`: feature for player1<br>\n",
    "`pl2_feature`: feature for player2<br>"
   ]
  },
  {
   "cell_type": "code",
   "execution_count": 5,
   "metadata": {},
   "outputs": [
    {
     "data": {
      "text/html": [
       "<div>\n",
       "<style scoped>\n",
       "    .dataframe tbody tr th:only-of-type {\n",
       "        vertical-align: middle;\n",
       "    }\n",
       "\n",
       "    .dataframe tbody tr th {\n",
       "        vertical-align: top;\n",
       "    }\n",
       "\n",
       "    .dataframe thead th {\n",
       "        text-align: right;\n",
       "    }\n",
       "</style>\n",
       "<table border=\"1\" class=\"dataframe\">\n",
       "  <thead>\n",
       "    <tr style=\"text-align: right;\">\n",
       "      <th></th>\n",
       "      <th>target_ori</th>\n",
       "      <th>target_spatial</th>\n",
       "      <th>ori_correct_pos</th>\n",
       "      <th>spatial_correct_pos</th>\n",
       "      <th>player1_answer</th>\n",
       "      <th>player2_answer</th>\n",
       "      <th>time_player1</th>\n",
       "      <th>time_player2</th>\n",
       "      <th>player1_correct</th>\n",
       "      <th>player2_correct</th>\n",
       "      <th>...</th>\n",
       "      <th>trial</th>\n",
       "      <th>condition</th>\n",
       "      <th>block</th>\n",
       "      <th>pe_player1</th>\n",
       "      <th>pe_player2</th>\n",
       "      <th>change_ori</th>\n",
       "      <th>change_spatial</th>\n",
       "      <th>group</th>\n",
       "      <th>pl1_feature</th>\n",
       "      <th>pl2_feature</th>\n",
       "    </tr>\n",
       "  </thead>\n",
       "  <tbody>\n",
       "    <tr>\n",
       "      <th>0</th>\n",
       "      <td>155</td>\n",
       "      <td>14</td>\n",
       "      <td>0</td>\n",
       "      <td>2</td>\n",
       "      <td>3</td>\n",
       "      <td>1</td>\n",
       "      <td>1.322528</td>\n",
       "      <td>1.058502</td>\n",
       "      <td>0</td>\n",
       "      <td>0</td>\n",
       "      <td>...</td>\n",
       "      <td>1</td>\n",
       "      <td>comp</td>\n",
       "      <td>1</td>\n",
       "      <td>0</td>\n",
       "      <td>0</td>\n",
       "      <td>17</td>\n",
       "      <td>2.5</td>\n",
       "      <td>439</td>\n",
       "      <td>player_spatial</td>\n",
       "      <td>player_ori</td>\n",
       "    </tr>\n",
       "    <tr>\n",
       "      <th>1</th>\n",
       "      <td>126</td>\n",
       "      <td>13</td>\n",
       "      <td>2</td>\n",
       "      <td>1</td>\n",
       "      <td>2</td>\n",
       "      <td>1</td>\n",
       "      <td>1.896405</td>\n",
       "      <td>1.336578</td>\n",
       "      <td>0</td>\n",
       "      <td>0</td>\n",
       "      <td>...</td>\n",
       "      <td>2</td>\n",
       "      <td>comp</td>\n",
       "      <td>1</td>\n",
       "      <td>2</td>\n",
       "      <td>2</td>\n",
       "      <td>17</td>\n",
       "      <td>2.5</td>\n",
       "      <td>439</td>\n",
       "      <td>player_spatial</td>\n",
       "      <td>player_ori</td>\n",
       "    </tr>\n",
       "    <tr>\n",
       "      <th>2</th>\n",
       "      <td>129</td>\n",
       "      <td>17</td>\n",
       "      <td>3</td>\n",
       "      <td>1</td>\n",
       "      <td>3</td>\n",
       "      <td>3</td>\n",
       "      <td>1.025390</td>\n",
       "      <td>0.873391</td>\n",
       "      <td>0</td>\n",
       "      <td>1</td>\n",
       "      <td>...</td>\n",
       "      <td>3</td>\n",
       "      <td>comp</td>\n",
       "      <td>1</td>\n",
       "      <td>2</td>\n",
       "      <td>2</td>\n",
       "      <td>17</td>\n",
       "      <td>2.5</td>\n",
       "      <td>439</td>\n",
       "      <td>player_spatial</td>\n",
       "      <td>player_ori</td>\n",
       "    </tr>\n",
       "    <tr>\n",
       "      <th>3</th>\n",
       "      <td>104</td>\n",
       "      <td>20</td>\n",
       "      <td>2</td>\n",
       "      <td>3</td>\n",
       "      <td>0</td>\n",
       "      <td>2</td>\n",
       "      <td>0.884011</td>\n",
       "      <td>1.028082</td>\n",
       "      <td>0</td>\n",
       "      <td>1</td>\n",
       "      <td>...</td>\n",
       "      <td>4</td>\n",
       "      <td>comp</td>\n",
       "      <td>1</td>\n",
       "      <td>1</td>\n",
       "      <td>0</td>\n",
       "      <td>17</td>\n",
       "      <td>2.5</td>\n",
       "      <td>439</td>\n",
       "      <td>player_spatial</td>\n",
       "      <td>player_ori</td>\n",
       "    </tr>\n",
       "    <tr>\n",
       "      <th>4</th>\n",
       "      <td>30</td>\n",
       "      <td>16</td>\n",
       "      <td>3</td>\n",
       "      <td>1</td>\n",
       "      <td>3</td>\n",
       "      <td>0</td>\n",
       "      <td>1.261606</td>\n",
       "      <td>1.213444</td>\n",
       "      <td>0</td>\n",
       "      <td>0</td>\n",
       "      <td>...</td>\n",
       "      <td>5</td>\n",
       "      <td>comp</td>\n",
       "      <td>1</td>\n",
       "      <td>1</td>\n",
       "      <td>0</td>\n",
       "      <td>17</td>\n",
       "      <td>2.5</td>\n",
       "      <td>439</td>\n",
       "      <td>player_spatial</td>\n",
       "      <td>player_ori</td>\n",
       "    </tr>\n",
       "  </tbody>\n",
       "</table>\n",
       "<p>5 rows × 22 columns</p>\n",
       "</div>"
      ],
      "text/plain": [
       "   target_ori  target_spatial  ori_correct_pos  spatial_correct_pos  \\\n",
       "0         155              14                0                    2   \n",
       "1         126              13                2                    1   \n",
       "2         129              17                3                    1   \n",
       "3         104              20                2                    3   \n",
       "4          30              16                3                    1   \n",
       "\n",
       "   player1_answer  player2_answer  time_player1  time_player2  \\\n",
       "0               3               1      1.322528      1.058502   \n",
       "1               2               1      1.896405      1.336578   \n",
       "2               3               3      1.025390      0.873391   \n",
       "3               0               2      0.884011      1.028082   \n",
       "4               3               0      1.261606      1.213444   \n",
       "\n",
       "   player1_correct  player2_correct  ...  trial  condition  block pe_player1  \\\n",
       "0                0                0  ...      1       comp      1          0   \n",
       "1                0                0  ...      2       comp      1          2   \n",
       "2                0                1  ...      3       comp      1          2   \n",
       "3                0                1  ...      4       comp      1          1   \n",
       "4                0                0  ...      5       comp      1          1   \n",
       "\n",
       "   pe_player2  change_ori  change_spatial  group     pl1_feature  pl2_feature  \n",
       "0           0          17             2.5    439  player_spatial   player_ori  \n",
       "1           2          17             2.5    439  player_spatial   player_ori  \n",
       "2           2          17             2.5    439  player_spatial   player_ori  \n",
       "3           0          17             2.5    439  player_spatial   player_ori  \n",
       "4           0          17             2.5    439  player_spatial   player_ori  \n",
       "\n",
       "[5 rows x 22 columns]"
      ]
     },
     "execution_count": 5,
     "metadata": {},
     "output_type": "execute_result"
    }
   ],
   "source": [
    "# TODO: Take a look at the first 5 rows of the dataframe\n"
   ]
  },
  {
   "cell_type": "code",
   "execution_count": 6,
   "metadata": {},
   "outputs": [
    {
     "data": {
      "text/html": [
       "<div>\n",
       "<style scoped>\n",
       "    .dataframe tbody tr th:only-of-type {\n",
       "        vertical-align: middle;\n",
       "    }\n",
       "\n",
       "    .dataframe tbody tr th {\n",
       "        vertical-align: top;\n",
       "    }\n",
       "\n",
       "    .dataframe thead th {\n",
       "        text-align: right;\n",
       "    }\n",
       "</style>\n",
       "<table border=\"1\" class=\"dataframe\">\n",
       "  <thead>\n",
       "    <tr style=\"text-align: right;\">\n",
       "      <th></th>\n",
       "      <th>target_ori</th>\n",
       "      <th>target_spatial</th>\n",
       "      <th>ori_correct_pos</th>\n",
       "      <th>spatial_correct_pos</th>\n",
       "      <th>player1_answer</th>\n",
       "      <th>player2_answer</th>\n",
       "      <th>time_player1</th>\n",
       "      <th>time_player2</th>\n",
       "      <th>player1_correct</th>\n",
       "      <th>player2_correct</th>\n",
       "      <th>...</th>\n",
       "      <th>trial</th>\n",
       "      <th>condition</th>\n",
       "      <th>block</th>\n",
       "      <th>pe_player1</th>\n",
       "      <th>pe_player2</th>\n",
       "      <th>change_ori</th>\n",
       "      <th>change_spatial</th>\n",
       "      <th>group</th>\n",
       "      <th>pl1_feature</th>\n",
       "      <th>pl2_feature</th>\n",
       "    </tr>\n",
       "  </thead>\n",
       "  <tbody>\n",
       "    <tr>\n",
       "      <th>15990</th>\n",
       "      <td>24</td>\n",
       "      <td>20</td>\n",
       "      <td>2</td>\n",
       "      <td>3</td>\n",
       "      <td>0</td>\n",
       "      <td>2</td>\n",
       "      <td>1.304582</td>\n",
       "      <td>1.597388</td>\n",
       "      <td>0</td>\n",
       "      <td>1</td>\n",
       "      <td>...</td>\n",
       "      <td>631</td>\n",
       "      <td>coop</td>\n",
       "      <td>16</td>\n",
       "      <td>0</td>\n",
       "      <td>0</td>\n",
       "      <td>16</td>\n",
       "      <td>3.7</td>\n",
       "      <td>437</td>\n",
       "      <td>player_spatial</td>\n",
       "      <td>player_ori</td>\n",
       "    </tr>\n",
       "    <tr>\n",
       "      <th>15991</th>\n",
       "      <td>44</td>\n",
       "      <td>12</td>\n",
       "      <td>2</td>\n",
       "      <td>3</td>\n",
       "      <td>1</td>\n",
       "      <td>2</td>\n",
       "      <td>1.781612</td>\n",
       "      <td>2.826191</td>\n",
       "      <td>0</td>\n",
       "      <td>1</td>\n",
       "      <td>...</td>\n",
       "      <td>632</td>\n",
       "      <td>coop</td>\n",
       "      <td>16</td>\n",
       "      <td>2</td>\n",
       "      <td>2</td>\n",
       "      <td>16</td>\n",
       "      <td>3.7</td>\n",
       "      <td>437</td>\n",
       "      <td>player_spatial</td>\n",
       "      <td>player_ori</td>\n",
       "    </tr>\n",
       "    <tr>\n",
       "      <th>15992</th>\n",
       "      <td>103</td>\n",
       "      <td>11</td>\n",
       "      <td>0</td>\n",
       "      <td>2</td>\n",
       "      <td>2</td>\n",
       "      <td>0</td>\n",
       "      <td>1.968366</td>\n",
       "      <td>2.605029</td>\n",
       "      <td>1</td>\n",
       "      <td>1</td>\n",
       "      <td>...</td>\n",
       "      <td>633</td>\n",
       "      <td>coop</td>\n",
       "      <td>16</td>\n",
       "      <td>2</td>\n",
       "      <td>2</td>\n",
       "      <td>16</td>\n",
       "      <td>3.7</td>\n",
       "      <td>437</td>\n",
       "      <td>player_spatial</td>\n",
       "      <td>player_ori</td>\n",
       "    </tr>\n",
       "    <tr>\n",
       "      <th>15993</th>\n",
       "      <td>76</td>\n",
       "      <td>15</td>\n",
       "      <td>2</td>\n",
       "      <td>3</td>\n",
       "      <td>3</td>\n",
       "      <td>2</td>\n",
       "      <td>1.987130</td>\n",
       "      <td>2.239872</td>\n",
       "      <td>1</td>\n",
       "      <td>1</td>\n",
       "      <td>...</td>\n",
       "      <td>634</td>\n",
       "      <td>coop</td>\n",
       "      <td>16</td>\n",
       "      <td>0</td>\n",
       "      <td>0</td>\n",
       "      <td>16</td>\n",
       "      <td>3.7</td>\n",
       "      <td>437</td>\n",
       "      <td>player_spatial</td>\n",
       "      <td>player_ori</td>\n",
       "    </tr>\n",
       "    <tr>\n",
       "      <th>15994</th>\n",
       "      <td>59</td>\n",
       "      <td>13</td>\n",
       "      <td>3</td>\n",
       "      <td>1</td>\n",
       "      <td>1</td>\n",
       "      <td>3</td>\n",
       "      <td>2.579758</td>\n",
       "      <td>1.328599</td>\n",
       "      <td>1</td>\n",
       "      <td>1</td>\n",
       "      <td>...</td>\n",
       "      <td>635</td>\n",
       "      <td>coop</td>\n",
       "      <td>16</td>\n",
       "      <td>0</td>\n",
       "      <td>0</td>\n",
       "      <td>16</td>\n",
       "      <td>3.7</td>\n",
       "      <td>437</td>\n",
       "      <td>player_spatial</td>\n",
       "      <td>player_ori</td>\n",
       "    </tr>\n",
       "    <tr>\n",
       "      <th>15995</th>\n",
       "      <td>145</td>\n",
       "      <td>13</td>\n",
       "      <td>2</td>\n",
       "      <td>1</td>\n",
       "      <td>0</td>\n",
       "      <td>2</td>\n",
       "      <td>1.344557</td>\n",
       "      <td>1.405660</td>\n",
       "      <td>0</td>\n",
       "      <td>1</td>\n",
       "      <td>...</td>\n",
       "      <td>636</td>\n",
       "      <td>coop</td>\n",
       "      <td>16</td>\n",
       "      <td>0</td>\n",
       "      <td>0</td>\n",
       "      <td>16</td>\n",
       "      <td>3.7</td>\n",
       "      <td>437</td>\n",
       "      <td>player_spatial</td>\n",
       "      <td>player_ori</td>\n",
       "    </tr>\n",
       "    <tr>\n",
       "      <th>15996</th>\n",
       "      <td>37</td>\n",
       "      <td>20</td>\n",
       "      <td>3</td>\n",
       "      <td>3</td>\n",
       "      <td>3</td>\n",
       "      <td>3</td>\n",
       "      <td>2.333562</td>\n",
       "      <td>1.618192</td>\n",
       "      <td>1</td>\n",
       "      <td>1</td>\n",
       "      <td>...</td>\n",
       "      <td>637</td>\n",
       "      <td>coop</td>\n",
       "      <td>16</td>\n",
       "      <td>2</td>\n",
       "      <td>2</td>\n",
       "      <td>16</td>\n",
       "      <td>3.7</td>\n",
       "      <td>437</td>\n",
       "      <td>player_spatial</td>\n",
       "      <td>player_ori</td>\n",
       "    </tr>\n",
       "    <tr>\n",
       "      <th>15997</th>\n",
       "      <td>120</td>\n",
       "      <td>10</td>\n",
       "      <td>2</td>\n",
       "      <td>1</td>\n",
       "      <td>1</td>\n",
       "      <td>2</td>\n",
       "      <td>1.438350</td>\n",
       "      <td>1.011625</td>\n",
       "      <td>1</td>\n",
       "      <td>1</td>\n",
       "      <td>...</td>\n",
       "      <td>638</td>\n",
       "      <td>coop</td>\n",
       "      <td>16</td>\n",
       "      <td>0</td>\n",
       "      <td>0</td>\n",
       "      <td>16</td>\n",
       "      <td>3.7</td>\n",
       "      <td>437</td>\n",
       "      <td>player_spatial</td>\n",
       "      <td>player_ori</td>\n",
       "    </tr>\n",
       "    <tr>\n",
       "      <th>15998</th>\n",
       "      <td>135</td>\n",
       "      <td>20</td>\n",
       "      <td>0</td>\n",
       "      <td>0</td>\n",
       "      <td>1</td>\n",
       "      <td>2</td>\n",
       "      <td>1.577789</td>\n",
       "      <td>1.111080</td>\n",
       "      <td>0</td>\n",
       "      <td>0</td>\n",
       "      <td>...</td>\n",
       "      <td>639</td>\n",
       "      <td>coop</td>\n",
       "      <td>16</td>\n",
       "      <td>0</td>\n",
       "      <td>0</td>\n",
       "      <td>16</td>\n",
       "      <td>3.7</td>\n",
       "      <td>437</td>\n",
       "      <td>player_spatial</td>\n",
       "      <td>player_ori</td>\n",
       "    </tr>\n",
       "    <tr>\n",
       "      <th>15999</th>\n",
       "      <td>57</td>\n",
       "      <td>19</td>\n",
       "      <td>0</td>\n",
       "      <td>3</td>\n",
       "      <td>3</td>\n",
       "      <td>0</td>\n",
       "      <td>1.668050</td>\n",
       "      <td>0.713279</td>\n",
       "      <td>1</td>\n",
       "      <td>1</td>\n",
       "      <td>...</td>\n",
       "      <td>640</td>\n",
       "      <td>coop</td>\n",
       "      <td>16</td>\n",
       "      <td>1</td>\n",
       "      <td>1</td>\n",
       "      <td>16</td>\n",
       "      <td>3.7</td>\n",
       "      <td>437</td>\n",
       "      <td>player_spatial</td>\n",
       "      <td>player_ori</td>\n",
       "    </tr>\n",
       "  </tbody>\n",
       "</table>\n",
       "<p>10 rows × 22 columns</p>\n",
       "</div>"
      ],
      "text/plain": [
       "       target_ori  target_spatial  ori_correct_pos  spatial_correct_pos  \\\n",
       "15990          24              20                2                    3   \n",
       "15991          44              12                2                    3   \n",
       "15992         103              11                0                    2   \n",
       "15993          76              15                2                    3   \n",
       "15994          59              13                3                    1   \n",
       "15995         145              13                2                    1   \n",
       "15996          37              20                3                    3   \n",
       "15997         120              10                2                    1   \n",
       "15998         135              20                0                    0   \n",
       "15999          57              19                0                    3   \n",
       "\n",
       "       player1_answer  player2_answer  time_player1  time_player2  \\\n",
       "15990               0               2      1.304582      1.597388   \n",
       "15991               1               2      1.781612      2.826191   \n",
       "15992               2               0      1.968366      2.605029   \n",
       "15993               3               2      1.987130      2.239872   \n",
       "15994               1               3      2.579758      1.328599   \n",
       "15995               0               2      1.344557      1.405660   \n",
       "15996               3               3      2.333562      1.618192   \n",
       "15997               1               2      1.438350      1.011625   \n",
       "15998               1               2      1.577789      1.111080   \n",
       "15999               3               0      1.668050      0.713279   \n",
       "\n",
       "       player1_correct  player2_correct  ...  trial  condition  block  \\\n",
       "15990                0                1  ...    631       coop     16   \n",
       "15991                0                1  ...    632       coop     16   \n",
       "15992                1                1  ...    633       coop     16   \n",
       "15993                1                1  ...    634       coop     16   \n",
       "15994                1                1  ...    635       coop     16   \n",
       "15995                0                1  ...    636       coop     16   \n",
       "15996                1                1  ...    637       coop     16   \n",
       "15997                1                1  ...    638       coop     16   \n",
       "15998                0                0  ...    639       coop     16   \n",
       "15999                1                1  ...    640       coop     16   \n",
       "\n",
       "      pe_player1  pe_player2  change_ori  change_spatial  group  \\\n",
       "15990          0           0          16             3.7    437   \n",
       "15991          2           2          16             3.7    437   \n",
       "15992          2           2          16             3.7    437   \n",
       "15993          0           0          16             3.7    437   \n",
       "15994          0           0          16             3.7    437   \n",
       "15995          0           0          16             3.7    437   \n",
       "15996          2           2          16             3.7    437   \n",
       "15997          0           0          16             3.7    437   \n",
       "15998          0           0          16             3.7    437   \n",
       "15999          1           1          16             3.7    437   \n",
       "\n",
       "          pl1_feature  pl2_feature  \n",
       "15990  player_spatial   player_ori  \n",
       "15991  player_spatial   player_ori  \n",
       "15992  player_spatial   player_ori  \n",
       "15993  player_spatial   player_ori  \n",
       "15994  player_spatial   player_ori  \n",
       "15995  player_spatial   player_ori  \n",
       "15996  player_spatial   player_ori  \n",
       "15997  player_spatial   player_ori  \n",
       "15998  player_spatial   player_ori  \n",
       "15999  player_spatial   player_ori  \n",
       "\n",
       "[10 rows x 22 columns]"
      ]
     },
     "execution_count": 6,
     "metadata": {},
     "output_type": "execute_result"
    }
   ],
   "source": [
    "# TODO: Take a look at the last 10 rows of the dataframe\n"
   ]
  },
  {
   "cell_type": "code",
   "execution_count": 7,
   "metadata": {},
   "outputs": [
    {
     "data": {
      "text/plain": [
       "target_ori             0\n",
       "target_spatial         0\n",
       "ori_correct_pos        0\n",
       "spatial_correct_pos    0\n",
       "player1_answer         0\n",
       "player2_answer         0\n",
       "time_player1           0\n",
       "time_player2           0\n",
       "player1_correct        0\n",
       "player2_correct        0\n",
       "player1_reward         0\n",
       "player2_reward         0\n",
       "trial                  0\n",
       "condition              0\n",
       "block                  0\n",
       "pe_player1             0\n",
       "pe_player2             0\n",
       "change_ori             0\n",
       "change_spatial         0\n",
       "group                  0\n",
       "pl1_feature            0\n",
       "pl2_feature            0\n",
       "dtype: int64"
      ]
     },
     "execution_count": 7,
     "metadata": {},
     "output_type": "execute_result"
    }
   ],
   "source": [
    "# TODO: number of nan in each column. 0 means no nan in the column \n"
   ]
  },
  {
   "cell_type": "markdown",
   "metadata": {},
   "source": [
    "### 1.2 Preprocessing and cleaning the behavioral dataset\n",
    "\n",
    "Data preprocessing is a very important step to create dataframes that are easy to work with. Especially in this case we can see that each line contains the data of two subjects (player1 and player2), which is not very convenient. Thus we need to restructure the dataframe, such that we only have the data of one subject per row.\n",
    "\n",
    "The easiest way to do this, is to filter the dataframe for each feature combination. For each filtered feature combination we need to pick the corresponding columns (the column filters are provided in the code below). As a last step, it is important to standardize the column names for each filtered feature combination. That way we can concatenate the 4 subsets easily and bring everything back together into one dataframe.\n",
    "\n",
    "We have to consider 4 feature combinations that need to be filtered: \n",
    "\n",
    "- pl1_feature: player_ori ($\\rightarrow$ player 1 performed an orientation discrimination task)\n",
    "- pl2_feature: player_ori ($\\rightarrow$ player 2 performed an orientation discrimination task)\n",
    "- pl1_feature: player_spatial ($\\rightarrow$ player 1 performed a spatial discrimination task)\n",
    "- pl2_feature: player_spatial ($\\rightarrow$ player 2 performed a spatial discrimination task)\n",
    "\n",
    "Tipp: Take a look at the Pandas functions [filter()](https://pandas.pydata.org/pandas-docs/stable/reference/api/pandas.DataFrame.filter.html) for creating a subset of the dataframe columns according to a given filter and [concat()](https://pandas.pydata.org/pandas-docs/stable/reference/api/pandas.concat.html) for concatenating pandas objects. \n"
   ]
  },
  {
   "cell_type": "code",
   "execution_count": 20,
   "metadata": {},
   "outputs": [],
   "source": [
    "# Column filters for different feature combinations\n",
    "filter_pl1_ori = ['target_ori', 'ori_correct_pos', 'player1_answer', 'time_player1', \n",
    "                  'player1_correct', 'player1_reward', 'trial', 'condition', 'block', \n",
    "                  'group', 'pl1_feature']\n",
    "\n",
    "filter_pl2_ori = ['target_ori', 'ori_correct_pos', 'player2_answer', 'time_player2', \n",
    "                  'player2_correct', 'player2_reward', 'trial', 'condition', 'block', \n",
    "                  'group', 'pl2_feature']\n",
    "\n",
    "filter_pl1_spatial = ['target_spatial', 'spatial_correct_pos', 'player1_answer', \n",
    "                      'time_player1', 'player1_correct', 'player1_reward', 'trial', \n",
    "                      'condition', 'block', 'group', 'pl1_feature']\n",
    "\n",
    "filter_pl2_spatial = ['target_spatial', 'spatial_correct_pos', 'player2_answer', \n",
    "                      'time_player2', 'player2_correct', 'player2_reward', 'trial', \n",
    "                      'condition', 'block', 'group', 'pl2_feature']\n",
    "\n",
    "# Column labels\n",
    "standard_labels = ['target', 'position', 'answer_position', 'time', 'answer', 'feedback', \n",
    "                   'trial', 'condition', 'block', 'group', 'task'] "
   ]
  },
  {
   "cell_type": "code",
   "execution_count": 21,
   "metadata": {},
   "outputs": [],
   "source": [
    "# Create a new dataframe and query rows where player1 feature is player_ori\n",
    "pl1_ori = df[df['pl1_feature'] == 'player_ori']\n",
    "\n",
    "# Subset the dataframe columns according to **filter_pl1_ori**\n",
    "pl1_ori = pl1_ori.filter(items = ...)\n",
    "\n",
    "# Rename (standardize) the columns\n",
    "pl1_ori.columns = standard_labels"
   ]
  },
  {
   "cell_type": "code",
   "execution_count": 22,
   "metadata": {},
   "outputs": [],
   "source": [
    "# TODO: Do the same for the remaining 3 feature combinations \n",
    "# Do not forget to select the correct column filters!\n",
    "pl2_ori = ...\n",
    "pl2_ori = ...\n",
    "pl2_ori.columns = ...\n",
    "\n",
    "pl1_spatial = ...\n",
    "pl1_spatial = ...\n",
    "pl1_spatial.columns = ...\n",
    "\n",
    "pl2_spatial = ...\n",
    "pl2_spatial = ...\n",
    "pl2_spatial.columns = ...\n",
    "\n",
    "# Concatenate the 4 data subsets\n",
    "df_filtered = pd.concat([pl1_ori, pl2_ori, pl1_spatial, pl2_spatial], ignore_index=True)"
   ]
  },
  {
   "cell_type": "markdown",
   "metadata": {},
   "source": [
    "What is still missing are unique IDs for each subject and the removal of outliers:\n",
    "\n",
    "- Calculate the number of trials for one group and the number of subjects. Hint: Keep in mind that the number of trials per group in the original loaded dataframe differs from the preprocessed dataframe.\n",
    "- Add a column ```subject_ID``` with unique IDs for each player to the preprocessed dataframe. Tipp: Take a look at the Pandas function [insert()](https://pandas.pydata.org/pandas-docs/stable/reference/api/pandas.DataFrame.insert.html).\n",
    "- Finally, exclude all trials with response times faster than 50 ms, because such fast responses are likely due to premature responses."
   ]
  },
  {
   "cell_type": "code",
   "execution_count": 23,
   "metadata": {},
   "outputs": [],
   "source": [
    "# Get the number of trials for one group\n",
    "count_trials = df[df['group'] == 403].shape[0]\n",
    "\n",
    "# Get the number of subjects\n",
    "count_subjects = len(all_files) * 2\n",
    "\n",
    "# Add a column 'subject_ID' with unique IDs for each subject\n",
    "\n",
    "ids = [i for i in range(count_subjects) for _ in range(count_trials)]\n",
    "df_filtered.insert(0, 'subject_ID', ids) "
   ]
  },
  {
   "cell_type": "code",
   "execution_count": 72,
   "metadata": {},
   "outputs": [
    {
     "name": "stdout",
     "output_type": "stream",
     "text": [
      "Excluded trials: 2\n"
     ]
    }
   ],
   "source": [
    "# TODO: Remove all trials where response time is less than 50 ms\n",
    "df_cleaned = ...\n",
    "\n",
    "# How many trials have been removed?\n",
    "trials_excluded = df_filtered.shape[0] - df_cleaned.shape[0]\n",
    "print('Excluded trials: {}'.format(trials_excluded))"
   ]
  },
  {
   "cell_type": "markdown",
   "metadata": {},
   "source": [
    "Now we'd like to replace some values in the dataframe so it is more readable. Using `pandas map` replace `comp` to `competition` and `coop` to `cooperation` in the condition column. Similarly, replace `player_ori` to `orientation` and `player_spatial` to `spatial` in the task column"
   ]
  },
  {
   "cell_type": "code",
   "execution_count": null,
   "metadata": {
    "scrolled": true
   },
   "outputs": [],
   "source": [
    "#TODO: replace values in task column\n",
    "...\n",
    "\n",
    "\n",
    "#TODO: replace values in condition column\n",
    "..."
   ]
  },
  {
   "cell_type": "code",
   "execution_count": 79,
   "metadata": {},
   "outputs": [
    {
     "data": {
      "text/html": [
       "<div>\n",
       "<style scoped>\n",
       "    .dataframe tbody tr th:only-of-type {\n",
       "        vertical-align: middle;\n",
       "    }\n",
       "\n",
       "    .dataframe tbody tr th {\n",
       "        vertical-align: top;\n",
       "    }\n",
       "\n",
       "    .dataframe thead th {\n",
       "        text-align: right;\n",
       "    }\n",
       "</style>\n",
       "<table border=\"1\" class=\"dataframe\">\n",
       "  <thead>\n",
       "    <tr style=\"text-align: right;\">\n",
       "      <th></th>\n",
       "      <th>subject_ID</th>\n",
       "      <th>target</th>\n",
       "      <th>position</th>\n",
       "      <th>answer_position</th>\n",
       "      <th>time</th>\n",
       "      <th>answer</th>\n",
       "      <th>feedback</th>\n",
       "      <th>trial</th>\n",
       "      <th>condition</th>\n",
       "      <th>block</th>\n",
       "      <th>group</th>\n",
       "      <th>task</th>\n",
       "    </tr>\n",
       "  </thead>\n",
       "  <tbody>\n",
       "    <tr>\n",
       "      <th>0</th>\n",
       "      <td>0</td>\n",
       "      <td>35</td>\n",
       "      <td>0</td>\n",
       "      <td>2</td>\n",
       "      <td>1.032753</td>\n",
       "      <td>0</td>\n",
       "      <td>-0.05</td>\n",
       "      <td>1</td>\n",
       "      <td>competition</td>\n",
       "      <td>1</td>\n",
       "      <td>403</td>\n",
       "      <td>orientation</td>\n",
       "    </tr>\n",
       "    <tr>\n",
       "      <th>1</th>\n",
       "      <td>0</td>\n",
       "      <td>101</td>\n",
       "      <td>0</td>\n",
       "      <td>0</td>\n",
       "      <td>1.276442</td>\n",
       "      <td>1</td>\n",
       "      <td>0.00</td>\n",
       "      <td>2</td>\n",
       "      <td>competition</td>\n",
       "      <td>1</td>\n",
       "      <td>403</td>\n",
       "      <td>orientation</td>\n",
       "    </tr>\n",
       "    <tr>\n",
       "      <th>2</th>\n",
       "      <td>0</td>\n",
       "      <td>116</td>\n",
       "      <td>1</td>\n",
       "      <td>0</td>\n",
       "      <td>1.590759</td>\n",
       "      <td>0</td>\n",
       "      <td>0.00</td>\n",
       "      <td>3</td>\n",
       "      <td>competition</td>\n",
       "      <td>1</td>\n",
       "      <td>403</td>\n",
       "      <td>orientation</td>\n",
       "    </tr>\n",
       "    <tr>\n",
       "      <th>3</th>\n",
       "      <td>0</td>\n",
       "      <td>108</td>\n",
       "      <td>2</td>\n",
       "      <td>0</td>\n",
       "      <td>1.556629</td>\n",
       "      <td>0</td>\n",
       "      <td>-0.05</td>\n",
       "      <td>4</td>\n",
       "      <td>competition</td>\n",
       "      <td>1</td>\n",
       "      <td>403</td>\n",
       "      <td>orientation</td>\n",
       "    </tr>\n",
       "    <tr>\n",
       "      <th>4</th>\n",
       "      <td>0</td>\n",
       "      <td>153</td>\n",
       "      <td>2</td>\n",
       "      <td>3</td>\n",
       "      <td>1.617046</td>\n",
       "      <td>0</td>\n",
       "      <td>0.00</td>\n",
       "      <td>5</td>\n",
       "      <td>competition</td>\n",
       "      <td>1</td>\n",
       "      <td>403</td>\n",
       "      <td>orientation</td>\n",
       "    </tr>\n",
       "  </tbody>\n",
       "</table>\n",
       "</div>"
      ],
      "text/plain": [
       "   subject_ID  target  position  answer_position      time  answer  feedback  \\\n",
       "0           0      35         0                2  1.032753       0     -0.05   \n",
       "1           0     101         0                0  1.276442       1      0.00   \n",
       "2           0     116         1                0  1.590759       0      0.00   \n",
       "3           0     108         2                0  1.556629       0     -0.05   \n",
       "4           0     153         2                3  1.617046       0      0.00   \n",
       "\n",
       "   trial    condition  block  group         task  \n",
       "0      1  competition      1    403  orientation  \n",
       "1      2  competition      1    403  orientation  \n",
       "2      3  competition      1    403  orientation  \n",
       "3      4  competition      1    403  orientation  \n",
       "4      5  competition      1    403  orientation  "
      ]
     },
     "execution_count": 79,
     "metadata": {},
     "output_type": "execute_result"
    }
   ],
   "source": [
    "df_cleaned.head()"
   ]
  },
  {
   "cell_type": "markdown",
   "metadata": {},
   "source": [
    "Now that we've preprocessed and cleaned the data, take a look at the head of the cleaned dataframe again. If your data looks similar to this (there might be another ordering of the groups)\n",
    "\n",
    "you can now proceed to the next section. Please keep in mind that you should use this cleaned dataframe for the following exercises."
   ]
  },
  {
   "cell_type": "markdown",
   "metadata": {},
   "source": [
    "### 1.3 Checking data distribution\n",
    "\n",
    "For now we've put the data in a suitable format, but we still don't know how the data is distributed. Since a large fraction of the field of statistics is concerned with data to be normally distributed, it is important to check the distribution of your data. The distribution of your data also affects the statistical tests you can use for hypothesis testing.\n",
    "\n",
    "There are a number of techniques that you can use. The easiest way to check the distribution of your data is by creating plots. These checks are qualitative, so less accurate than statistical methods. Nevertheless, they are a good way to get a quick view of the data.\n",
    "\n",
    "- Visualize the response times in form of a histrogram with a Gaussian kernel density estimate on top of it. Tipp: Take a look at Seaborn's [distplot()](https://seaborn.pydata.org/generated/seaborn.distplot.html) function.\n",
    "- Use a [QQ-plot](https://en.wikipedia.org/wiki/Q–Q_plot) to compare the distribution of response times against a normal distribution. <br> Tipp: Take a look at [statsmodel.qq-plot()](https://www.statsmodels.org/dev/generated/statsmodels.graphics.gofplots.qqplot.html).\n",
    "- If the data is not normally distributed, it can be useful to do a log-transformation. Add a new column ```log_time``` with the log transformed response times to the dataframe. Repeat the previous two steps for log-transformed response times (one histogram and one QQ-plot for log-transformed response times).\n",
    "\n",
    "<div class=\"alert alert-block alert-warning\">\n",
    "    For the subsequent analysis we will <b>not</b> use the log-transformed response times, the last part of this exercise is just supposed to be an illustration of what happens to the data when performing a log-transformation.\n",
    "</div>"
   ]
  },
  {
   "cell_type": "code",
   "execution_count": 80,
   "metadata": {},
   "outputs": [
    {
     "data": {
      "image/png": "[encoded data removed]",
      "text/plain": [
       "<Figure size 432x288 with 1 Axes>"
      ]
     },
     "metadata": {},
     "output_type": "display_data"
    }
   ],
   "source": [
    "# TODO: Visualize the data distribution of response times\n",
    "..."
   ]
  },
  {
   "cell_type": "code",
   "execution_count": 81,
   "metadata": {},
   "outputs": [
    {
     "name": "stderr",
     "output_type": "stream",
     "text": [
      "C:\\Users\\lonesome\\anaconda3\\envs\\acc_conda\\lib\\site-packages\\statsmodels\\graphics\\gofplots.py:993: UserWarning: marker is redundantly defined by the 'marker' keyword argument and the fmt string \"bo\" (-> marker='o'). The keyword argument will take precedence.\n",
      "  ax.plot(x, y, fmt, **plot_style)\n"
     ]
    },
    {
     "data": {
      "image/png": "[encoded data removed]",
      "text/plain": [
       "<Figure size 432x288 with 1 Axes>"
      ]
     },
     "metadata": {},
     "output_type": "display_data"
    }
   ],
   "source": [
    "# TODO: Create a QQ-Plot of response times\n",
    "fig, ax = plt.subplots()\n",
    "\n",
    "sm.qqplot(...)\n",
    "ax.set(title='QQ-plot: Response times against normal distribution')\n",
    "\n",
    "plt.show()"
   ]
  },
  {
   "cell_type": "code",
   "execution_count": 82,
   "metadata": {},
   "outputs": [
    {
     "name": "stderr",
     "output_type": "stream",
     "text": [
      "C:\\Users\\lonesome\\anaconda3\\envs\\acc_conda\\lib\\site-packages\\statsmodels\\graphics\\gofplots.py:993: UserWarning: marker is redundantly defined by the 'marker' keyword argument and the fmt string \"bo\" (-> marker='o'). The keyword argument will take precedence.\n",
      "  ax.plot(x, y, fmt, **plot_style)\n"
     ]
    },
    {
     "data": {
      "image/png": "[encoded data removed]",
      "text/plain": [
       "<Figure size 1080x288 with 2 Axes>"
      ]
     },
     "metadata": {},
     "output_type": "display_data"
    }
   ],
   "source": [
    "# Log-transform response times\n",
    "df_log = df_cleaned.copy()\n",
    "df_log['log_time'] = np.log(df_log['time'])\n",
    "\n",
    "# TODO: Create Histogram and QQ-plot for log-transformed response times\n",
    "fig, axes = plt.subplots(nrows=1, ncols=2, figsize=(15,4))\n",
    "\n",
    "...\n",
    "\n",
    "plt.show()"
   ]
  },
  {
   "cell_type": "markdown",
   "metadata": {},
   "source": [
    "## 2. Visualizing the data across experimental conditions\n",
    "\n",
    "In the following, we want to take a closer look at the accuracy and the response time. It is always worth plotting your data before you do further analyses, just to have a look at your data. The important thing about plots is that they give you an immediate \"picture\" of the data. "
   ]
  },
  {
   "cell_type": "markdown",
   "metadata": {},
   "source": [
    "<div class=\"alert alert-block alert-info\">\n",
    "Scientists like to say that the <b>independent</b> variable (here: correctness, task or condition) goes on the x-axis and the <b>dependent</b> variable (here: accuracy or response time) goes on the y-axis. \n",
    "</div>"
   ]
  },
  {
   "cell_type": "markdown",
   "metadata": {},
   "source": [
    "### 2.1 Accuracy\n",
    "\n",
    "Prior to running the actual experiment, the experimenters used a QUEST staircase procedure to adjust a difficulty in each task for participants such that participants were expected to attain a 50% accuracy. Lets check if this requirement was fulfilled.\n",
    "\n",
    "- Calculate the mean accuracy per subject, task and condition. You have to group the data according to the different subjects, tasks and conditions and calculate the mean of answers. Tipp: The function [groupby()](https://pandas.pydata.org/pandas-docs/stable/reference/api/pandas.DataFrame.groupby.html) can take more than one argument according to which it groups the data. [Here](https://realpython.com/pandas-groupby/) you can find a good guide for Pandas groupby, that should help you to get a better understanding of this function.\n",
    "- Multiply the values of column ```answer``` with 100 and rename it as ```accuracy```. Tipp: Take a look at the Pandas function [rename()](https://pandas.pydata.org/pandas-docs/stable/reference/api/pandas.DataFrame.rename.html)."
   ]
  },
  {
   "cell_type": "code",
   "execution_count": 83,
   "metadata": {},
   "outputs": [
    {
     "data": {
      "text/html": [
       "<div>\n",
       "<style scoped>\n",
       "    .dataframe tbody tr th:only-of-type {\n",
       "        vertical-align: middle;\n",
       "    }\n",
       "\n",
       "    .dataframe tbody tr th {\n",
       "        vertical-align: top;\n",
       "    }\n",
       "\n",
       "    .dataframe thead th {\n",
       "        text-align: right;\n",
       "    }\n",
       "</style>\n",
       "<table border=\"1\" class=\"dataframe\">\n",
       "  <thead>\n",
       "    <tr style=\"text-align: right;\">\n",
       "      <th></th>\n",
       "      <th>subject_ID</th>\n",
       "      <th>condition</th>\n",
       "      <th>task</th>\n",
       "      <th>accuracy</th>\n",
       "    </tr>\n",
       "  </thead>\n",
       "  <tbody>\n",
       "    <tr>\n",
       "      <th>0</th>\n",
       "      <td>0</td>\n",
       "      <td>competition</td>\n",
       "      <td>orientation</td>\n",
       "      <td>60.9375</td>\n",
       "    </tr>\n",
       "    <tr>\n",
       "      <th>1</th>\n",
       "      <td>0</td>\n",
       "      <td>cooperation</td>\n",
       "      <td>orientation</td>\n",
       "      <td>60.3125</td>\n",
       "    </tr>\n",
       "    <tr>\n",
       "      <th>2</th>\n",
       "      <td>1</td>\n",
       "      <td>competition</td>\n",
       "      <td>orientation</td>\n",
       "      <td>61.8750</td>\n",
       "    </tr>\n",
       "    <tr>\n",
       "      <th>3</th>\n",
       "      <td>1</td>\n",
       "      <td>cooperation</td>\n",
       "      <td>orientation</td>\n",
       "      <td>64.3750</td>\n",
       "    </tr>\n",
       "    <tr>\n",
       "      <th>4</th>\n",
       "      <td>2</td>\n",
       "      <td>competition</td>\n",
       "      <td>orientation</td>\n",
       "      <td>40.6250</td>\n",
       "    </tr>\n",
       "  </tbody>\n",
       "</table>\n",
       "</div>"
      ],
      "text/plain": [
       "   subject_ID    condition         task  accuracy\n",
       "0           0  competition  orientation   60.9375\n",
       "1           0  cooperation  orientation   60.3125\n",
       "2           1  competition  orientation   61.8750\n",
       "3           1  cooperation  orientation   64.3750\n",
       "4           2  competition  orientation   40.6250"
      ]
     },
     "metadata": {},
     "output_type": "display_data"
    }
   ],
   "source": [
    "# TODO: Calculate the mean of answers per subject, task and condition\n",
    "...\n",
    "\n",
    "# TODO: Multiply the values of column answer with 100 and rename the column as accuracy\n",
    "...\n",
    "\n",
    "display(df_acc.head())"
   ]
  },
  {
   "cell_type": "markdown",
   "metadata": {},
   "source": [
    "Now we can do the plotting:\n",
    "\n",
    "- Create [violinplots](https://seaborn.pydata.org/generated/seaborn.violinplot.html) showing the accuracy for the different tasks and conditions. Tipp: Have a closer look at the violinplot's parameters ```inner=quartile``` and ```split=True``` and use it for your plots.\n",
    "- Calculate the overall mean accuracy and its standard deviation. Tipp: You can use Panda's [mean()](https://pandas.pydata.org/pandas-docs/stable/reference/api/pandas.DataFrame.mean.html) and [std()](https://pandas.pydata.org/pandas-docs/stable/reference/api/pandas.DataFrame.std.html) functions."
   ]
  },
  {
   "cell_type": "code",
   "execution_count": 84,
   "metadata": {},
   "outputs": [
    {
     "data": {
      "image/png": "[encoded data removed]",
      "text/plain": [
       "<Figure size 504x360 with 1 Axes>"
      ]
     },
     "metadata": {},
     "output_type": "display_data"
    },
    {
     "name": "stdout",
     "output_type": "stream",
     "text": [
      "mean accuracy: 53.38%\n",
      "standard deviation: 10%\n"
     ]
    }
   ],
   "source": [
    "# TODO: Plot the accuracy per task and condition\n",
    "...\n",
    "# TODO: Calculate the mean accuracy and its standard deviation\n",
    "...\n",
    "print('mean accuracy: {:2.2f}%'.format(...))\n",
    "\n",
    "...\n",
    "print('standard deviation: {:2.0f}%'.format(...))"
   ]
  },
  {
   "cell_type": "markdown",
   "metadata": {},
   "source": [
    "### 2.2 Response time\n",
    "\n",
    "As a last step, we want to take a closer look at the response time, which was analyzed by the experimenters to test whether their experimental manipulations influenced behavioral responses. Especially interesting is how much the correctness, task or condition (= independent variables) affects the response time (= dependent variable). Some quick plots can already give us an idea if the independent variables might have any significant influence on the dependent variable.\n",
    "\n",
    "- Calculate the response time per subject per answer. You have to group the data according to the different subjects and answers and calculate the mean response time.\n",
    "- Calculate the response time per subject per task. You have to group the data according to the different subjects and tasks and calculate the mean response time.\n",
    "- Calculate the response time per subject per condition. You have to group the data according to the different subjects and conditions and calculate mean of response time.\n",
    "- For each grouped dataset create a [boxplot](https://seaborn.pydata.org/generated/seaborn.boxplot.html) and a [swarmplot](https://seaborn.pydata.org/generated/seaborn.swarmplot.html). The plot for one grouped dataset should be similar to the example image below.\n",
    "\n",
    "<img style=\"float: left;\" src=\"Images_StudIP/behavioral_example_image(1).png\" width=\"250\">"
   ]
  },
  {
   "cell_type": "code",
   "execution_count": 86,
   "metadata": {},
   "outputs": [
    {
     "data": {
      "image/png": "[encoded data removed]",
      "text/plain": [
       "<Figure size 1080x360 with 3 Axes>"
      ]
     },
     "metadata": {},
     "output_type": "display_data"
    }
   ],
   "source": [
    "# TODO: Calculate the mean response times per subject per answer\n",
    "df_corr = ...\n",
    "\n",
    "# TODO: Calculate the mean response times per subject per task\n",
    "df_task = ...\n",
    "\n",
    "# TODO: Calculate the mean response times per subject per condition\n",
    "df_cond = ...\n",
    "\n",
    "# TODO: Plot the mean response times for each of the 3 grouped datasets\n",
    "fig, axes = plt.subplots(nrows=1, ncols=3, figsize=(15,5))\n",
    "fig.suptitle('Comparison of response times', fontsize=16)\n",
    "sns.set_palette('colorblind')\n",
    "\n",
    "...\n",
    "\n",
    "plt.show()"
   ]
  },
  {
   "cell_type": "markdown",
   "metadata": {},
   "source": [
    "<div class=\"alert alert-block alert-info\">\n",
    "Please note that the editing of legends in seaborn is not easy. There are several (cumbersome) ways you can use to change the legend labels. But in fact, it is easier to simply rename the column and its entries as desired, so that the correct default labels are drawn directly from your dataframe.\n",
    "</div>"
   ]
  },
  {
   "cell_type": "code",
   "execution_count": 87,
   "metadata": {},
   "outputs": [
    {
     "data": {
      "image/png": "[encoded data removed]",
      "text/plain": [
       "<Figure size 504x504 with 1 Axes>"
      ]
     },
     "metadata": {},
     "output_type": "display_data"
    }
   ],
   "source": [
    "# TODO: Calculate the mean response times per subject per condition and answer\n",
    "df_cond_ans = ...\n",
    "fig, ax= plt.subplots(nrows=1, ncols=1, figsize=(7,7))\n",
    "\n",
    "plt.show()"
   ]
  },
  {
   "cell_type": "markdown",
   "metadata": {},
   "source": [
    "### Statistical Analysis with ANOVA\n",
    "\n",
    "Now that we've checked the distribution of our data, we can go ahead see if the effects of `task` `answer` and `condition` on the response `time`.\n",
    "\n",
    "- Perform a two-way repeated measures ANOVA and print the ANOVA table. To do this have a closer look at the statsmodels' [AnovaRM()](https://www.statsmodels.org/stable/generated/statsmodels.stats.anova.AnovaRM.html) function and this [tutorial](https://www.marsja.se/repeated-measures-anova-in-python-using-statsmodels/). Tipp: We have a **two-way** repeated measures ANOVA which means that we have **two within-subject factors: correctness and condition**."
   ]
  },
  {
   "cell_type": "code",
   "execution_count": 88,
   "metadata": {},
   "outputs": [
    {
     "data": {
      "text/html": [
       "<table class=\"simpletable\">\n",
       "<tr>\n",
       "          <td></td>         <th>F Value</th> <th>Num DF</th> <th>Den DF</th>  <th>Pr > F</th>\n",
       "</tr>\n",
       "<tr>\n",
       "  <th>answer</th>           <td>57.4371</td> <td>1.0000</td> <td>49.0000</td> <td>0.0000</td>\n",
       "</tr>\n",
       "<tr>\n",
       "  <th>condition</th>        <td>1.2170</td>  <td>1.0000</td> <td>49.0000</td> <td>0.2753</td>\n",
       "</tr>\n",
       "<tr>\n",
       "  <th>answer:condition</th> <td>0.9367</td>  <td>1.0000</td> <td>49.0000</td> <td>0.3379</td>\n",
       "</tr>\n",
       "</table>"
      ],
      "text/plain": [
       "<class 'statsmodels.iolib.summary2.Summary'>\n",
       "\"\"\"\n",
       "                    Anova\n",
       "==============================================\n",
       "                 F Value Num DF  Den DF Pr > F\n",
       "----------------------------------------------\n",
       "answer           57.4371 1.0000 49.0000 0.0000\n",
       "condition         1.2170 1.0000 49.0000 0.2753\n",
       "answer:condition  0.9367 1.0000 49.0000 0.3379\n",
       "==============================================\n",
       "\n",
       "\"\"\""
      ]
     },
     "execution_count": 88,
     "metadata": {},
     "output_type": "execute_result"
    }
   ],
   "source": [
    "# TODO: Perform a two-way repeated measures ANOVA (Pr > F = p-value)\n",
    "\n",
    "fit = AnovaRM(...).fit()\n",
    "\n",
    "fit.summary()"
   ]
  },
  {
   "cell_type": "markdown",
   "metadata": {},
   "source": [
    "## Summary - What you should have learned\n",
    "\n",
    "Congratulations, you've mastered the first behavioral data chapter! By now you should be familiar with the following concepts:\n",
    "\n",
    "* Preprocessing and cleaning behavioral data\n",
    "* checking data distribution for analysis\n",
    "* doing statistical test using ANOVA"
   ]
  },
  {
   "cell_type": "markdown",
   "metadata": {},
   "source": [
    "## Citations\n",
    "\n",
    "- Czeszumski A, Ehinger B, Wahn B, and König P (2019) The social situation affects how we process feedback about our actions. Frontiers in Psychology, 10:361. https://doi.org/10.3389/fpsyg.2019.00361"
   ]
  }
 ],
 "metadata": {
  "kernelspec": {
   "display_name": "Python 3",
   "language": "python",
   "name": "python3"
  },
  "language_info": {
   "codemirror_mode": {
    "name": "ipython",
    "version": 3
   },
   "file_extension": ".py",
   "mimetype": "text/x-python",
   "name": "python",
   "nbconvert_exporter": "python",
   "pygments_lexer": "ipython3",
   "version": "3.9.2"
  },
  "toc": {
   "base_numbering": 1,
   "nav_menu": {},
   "number_sections": false,
   "sideBar": true,
   "skip_h1_title": true,
   "title_cell": "Table of Contents",
   "title_sidebar": "Contents",
   "toc_cell": true,
   "toc_position": {
    "height": "calc(100% - 180px)",
    "left": "10px",
    "top": "150px",
    "width": "165px"
   },
   "toc_section_display": true,
   "toc_window_display": true
  },
  "toc-autonumbering": false,
  "toc-showtags": false
 },
 "nbformat": 4,
 "nbformat_minor": 4
}
