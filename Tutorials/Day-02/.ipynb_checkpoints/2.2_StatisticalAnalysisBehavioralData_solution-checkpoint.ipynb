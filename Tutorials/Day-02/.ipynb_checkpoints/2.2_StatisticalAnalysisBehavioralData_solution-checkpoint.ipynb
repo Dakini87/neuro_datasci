{
 "cells": [
  {
   "cell_type": "markdown",
   "metadata": {},
   "source": [
    "![SegmentLocal](Images_StudIP/Logo2.png)"
   ]
  },
  {
   "cell_type": "markdown",
   "metadata": {},
   "source": [
    "*Behavioral Data*\n",
    "\n",
    "\n",
    "# Chapter 2.2: Statistical Analysis of behavioral data\n",
    "\n",
    "<div class=\"alert alert-block alert-warning\">\n",
    "Make sure that you also downloaded the current version of the folder <b>Jupyter Notebooks ACC/Images_StudIP</b>, otherwise some of the descriptions will be incomplete.\n",
    "</div>"
   ]
  },
  {
   "cell_type": "markdown",
   "metadata": {},
   "source": [
    "<h1>Table of Contents<span class=\"tocSkip\"></span></h1>\n",
    "\n",
    "<div class=\"toc\"><ul class=\"toc-item\"><li><ul class=\"toc-item\">\n",
    "    <li><span><a href=\"#Prerequisites\" data-toc-modified-id=\"Prerequisites-0.1\"><span class=\"toc-item-num\"></span>Prerequisites</a></span></li>\n",
    "    <li><span><a href=\"#Scope-of-this-Sheet\" data-toc-modified-id=\"Scope-of-this-Shee-0.2\"><span class=\"toc-item-num\"></span>Scope of this Sheet</a></span></li></ul></li>\n",
    "    <li><span><a href=\"#1.-Experimental-designs\" data-toc-modified-id=\"1.-Experimental-designs-1\"><span class=\"toc-item-num\"></span>1. Experimental designs</a></span><ul class=\"toc-item\"><li><span><a href=\"#1.1-Repeated-Measures/-Within-group-design\" data-toc-modified-id=\"1.1-Repeated-Measures/-Within-group-design-1.1\"><span class=\"toc-item-num\"></span>1.1 Repeated Measures/ Within group design</a></span></li><li><span><a href=\"#1.2-Independent-Measures/-Between-group-design\" data-toc-modified-id=\"1.2-Independent-Measures/-Between-group-design-1.2\"><span class=\"toc-item-num\"></span>1.2 Independent Measures/ Between group design</a></span></li></ul></li><li><span><a href=\"#2.-Basics-of-hypothesis-testing\" data-toc-modified-id=\"2.-Basics-of-hypothesis-testin-2\"><span class=\"toc-item-num\"></span>2. Basics of hypothesis testing</a></span><ul class=\"toc-item\"><li><span><a href=\"#2.1-Null-hypothesis-/-Alternate-hypothesis\" data-toc-modified-id=\"2.1-Null-hypothesis-/-Alternate-hypothesis-2.1\"><span class=\"toc-item-num\"></span>2.1 Null hypothesis / Alternate hypothesis</a></span></li><li><span><a href=\"#2.2-Types-of-statistical-tests\" data-toc-modified-id=\"2.2-Types-of-statistical-tests-2.2\"><span class=\"toc-item-num\"></span>2.2 Types of statistical tests</a></span></li><li><span><a href=\"#2.3-Interpretation-of-statistical-tests\" data-toc-modified-id=\"2.3-Interpretation-of-statistical-tests-2.3\"><span class=\"toc-item-num\"></span>2.3 Interpretation of statistical tests</a></span></li><li><span><a href=\"#2.4-Errors-in-statistical-tests\" data-toc-modified-id=\"2.4-Errors-in-statistical-tests-2.4\"><span class=\"toc-item-num\"></span>2.4 Errors in statistical tests</a></span></li></ul></li><li><span><a href=\"#3.-Statistical-tests-on-behavioral-data\" data-toc-modified-id=\"3.-Statistical-tests-on-behavioral-data-3\"><span class=\"toc-item-num\"></span>3. Statistical tests on behavioral data</a></span><ul class=\"toc-item\"><li><span><a href=\"#3.1-Loading-the-preprocessed-behavioral-dataset\" data-toc-modified-id=\"3.1-Loading-the-preprocessed-behavioral-dataset-3.1\"><span class=\"toc-item-num\"></span>3.1 Loading the preprocessed behavioral dataset</a></span></li><li><span><a href=\"#3.2-Student's-t-test\" data-toc-modified-id=\"3.2-Student's-t-test-3.2\"><span class=\"toc-item-num\"></span>3.2 Student's t-test</a></span></li><li><span><a href=\"#3.3-Two-way-repeated-measures-ANOVA\" data-toc-modified-id=\"3.3-Two-way-repeated-measures-ANOVA-3.3\"><span class=\"toc-item-num\"></span>3.3 Two-way repeated measures ANOVA</a></span></li></ul></li><li><span><a href=\"#Summary---What-you-should-have-learned\" data-toc-modified-id=\"Summary---What-you-should-have-learned-3\"><span class=\"toc-item-num\"></span>Summary - What you should have learned</a></span></li><li><span><a href=\"#Citations\" data-toc-modified-id=\"Citations-4\"><span class=\"toc-item-num\"></span>Citations</a></span></li></ul></div>"
   ]
  },
  {
   "cell_type": "markdown",
   "metadata": {},
   "source": [
    "### Prerequisites\n",
    "For this chapter, you should be familiar with the following concepts and techniques:\n",
    "* Basic Python programming\n",
    "* Working with Pandas\n",
    "* Statistical analysis"
   ]
  },
  {
   "cell_type": "markdown",
   "metadata": {},
   "source": [
    "### Scope of this Sheet\n",
    "\n",
    "In this sheet we will finally analyse subsets of the behavioral data that we preprocessed and plotted in the previous sheet by means of statistcal analysis techniques. But before we can do this, we have to work through some important fundamentals. Please note that the fundamentals of statistics can easily fill a whole lecture and covering everything is impossible. But we hope to give you a good overview that will help you in your own research.\n",
    "\n",
    "We will also work with [researchpy](https://researchpy.readthedocs.io/en/latest/), which directly calculates the degrees of freedom, the difference between the groups mean and a measure of effect size for a t-test. This is very convenient as all of this has to be calculated manually when using the usual ```stats.ttest``` functions.\n",
    "\n",
    "To install researchpy open the Anaconda Prompt (Windows users) or the Terminal (Mac/Linux users) and run the following:\n",
    "- ```conda activate acc```\n",
    "- ```pip install researchpy```"
   ]
  },
  {
   "cell_type": "markdown",
   "metadata": {},
   "source": [
    "## 1. Experimental designs\n",
    "\n",
    "Experiments aim to predict the outcome of a (dependent) variable by introducing a change of one or more (independent) conditions. Experimental designs refer to how participants are allocated to these different conditions. \n",
    "\n",
    "For example, if there are 20 participants, the researcher must decide if all 20 participants will take part in both conditions (e.g. repeated measures) or if the participants will be split in half and take part in only one condition each (e.g. independent measures)."
   ]
  },
  {
   "cell_type": "markdown",
   "metadata": {},
   "source": [
    "<div class=\"alert alert-block alert-info\">\n",
    "The choice of your experimental design is strongly influenced by your research question, so set up your research hypothesis before you design your experiment.\n",
    "</div>"
   ]
  },
  {
   "cell_type": "markdown",
   "metadata": {},
   "source": [
    "### 1.1 Repeated Measures/ Within group design\n",
    "\n",
    "The same participants take part in each condition of the independent variable. <br> \n",
    "This means that each condition of the experiment includes the **same group of participants**. <br><br>\n",
    "\n",
    "<img align=\"left\" src=\"Images_StudIP/within_group_design.png\" width=\"400\">\n",
    "<br><br><br><br><br><br><br><br><br><br><br><br><br>\n",
    "\n",
    "**Advantages:**\n",
    "- small sample sizes \n",
    "- reduces effect of individual variation \n",
    "- more statistical power\n",
    "\n",
    "\n",
    "**Disadvantages:**\n",
    "- no exposure bias (fatigue, boredom, learning)\n",
    "- participants can figure out the outcome of the experiment"
   ]
  },
  {
   "cell_type": "markdown",
   "metadata": {},
   "source": [
    "### 1.2 Independent Measures/ Between group design\n",
    "\n",
    "Different participants are used in each condition of the independent variable. <br>\n",
    "This means that each condition of the experiment includes a **different group of participants**. <br><br>\n",
    "\n",
    "<img align=\"left\" src=\"Images_StudIP/between_group_design.png\" width=\"450\">\n",
    "<br><br><br><br><br><br><br><br><br><br><br><br><br>\n",
    "\n",
    "**Advantages:**\n",
    "- no exposure bias (fatigue, boredom, learning)\n",
    "- low risk of participants figuring out the aim of the experiment\n",
    " \n",
    " \n",
    "**Disadvantages:**\n",
    "- large sample sizes are needed\n",
    "- susceptible to individual differences"
   ]
  },
  {
   "cell_type": "markdown",
   "metadata": {},
   "source": [
    "## 2. Basics of hypothesis testing\n",
    "\n",
    "Hypothesis testing is a form of inferential statistics that allows us to draw conclusions about an entire population based on a representative sample. You gain tremendous benefits by working with a sample, as in most cases, it is simply impossible to observe the entire population. \n",
    "\n",
    "But to be able to draw conclusions from a representative example involves some important steps as formulating hypotheses and choosing the correct statistical tests. In general, it can be helpful to follow these essential steps:\n",
    "\n",
    "- State the null hypothesis.\n",
    "- State the alternative hypothesis.\n",
    "- Choose what kind of statistical test you need to perform.\n",
    "- Either support or reject the null hypothesis based on the results of your statistical test.\n"
   ]
  },
  {
   "cell_type": "markdown",
   "metadata": {},
   "source": [
    "### 2.1 Null hypothesis / Alternate hypothesis\n",
    "\n",
    "Hypothesis testing uses sample data to assess two mutually exclusive theories about the properties of a population. Statisticians call these theories the null hypothesis ($H_{0}$) and the alternative hypothesis ($H_{1}$). Typically, the null hypothesis states that there is no effect. You can think of the null hypothesis as the default theory that requires sufficiently strong evidence against in order to reject it. The alternative hypothesis states that a population parameter does not equal the null hypothesis value. If your sample contains sufficient evidence, you can reject the null hypothesis and favor the alternative hypothesis. \n",
    "\n",
    "Imagine the study testing if the performance on an exam is affected by the hours of study (5 hours/week or 10 hours/week). We thus want to see the effects of hours of study on the exam performance, testing the following hypothesis:\n",
    "\n",
    "**Dependent variable:** performance on exam <br>\n",
    "**Independent variable:** hours of study (5 hours/week / 10 hours/week)\n",
    "\n",
    "$H_{0}$: There is no difference in average performance for any level of hours of study. <br>\n",
    "$H_{1}$: There is a difference in average performance by hours of study."
   ]
  },
  {
   "cell_type": "markdown",
   "metadata": {},
   "source": [
    "### 2.2 Types of statistical tests\n",
    "\n",
    "After we have stated our null and alternative hypothesis, we need to perform a suitable statistical test to determine whether or not the null hypothesis can be rejected. Depending on the kind of data we want to analyze, there are different statistical tests that have to be considered. Please keep in mind that every test has certain assumptions, that the data must meet in order for the test results to be valid (as you will later see in the [student's t-test](#assumptions_t-test) and the [two-way repeated measures ANOVA](#assumptions_ANOVA)). So make sure that you first check if all assumptions are fulfilled!\n",
    "\n",
    "<a id='statistical_tests'></a>\n",
    "<img align=\"left\" src=\"Images_StudIP/overview_statistical_tests.png\" width=\"600\">"
   ]
  },
  {
   "cell_type": "markdown",
   "metadata": {},
   "source": [
    "To get a better understanding of what a t-test and ANOVA do, we highly recommend to watch the respective <a href=\"https://www.youtube.com/user/joshstarmer\">StatQuest's videos</a>, as these are the most commonly used statistical tests."
   ]
  },
  {
   "cell_type": "code",
   "execution_count": 17,
   "metadata": {},
   "outputs": [
    {
     "data": {
      "image/jpeg": "[encoded data removed]",
      "text/html": [
       "\n",
       "        <iframe\n",
       "            width=\"700\"\n",
       "            height=\"400\"\n",
       "            src=\"https://www.youtube.com/embed/NF5_btOaCig\"\n",
       "            frameborder=\"0\"\n",
       "            allowfullscreen\n",
       "        ></iframe>\n",
       "        "
      ],
      "text/plain": [
       "<IPython.lib.display.YouTubeVideo at 0x1a2143be90>"
      ]
     },
     "execution_count": 17,
     "metadata": {},
     "output_type": "execute_result"
    }
   ],
   "source": [
    "from IPython.lib.display import YouTubeVideo\n",
    "YouTubeVideo('NF5_btOaCig', width=700, height=400)"
   ]
  },
  {
   "cell_type": "markdown",
   "metadata": {},
   "source": [
    "### 2.3 Interpretation of statistical tests\n",
    "\n",
    "The results of a statistical hypothesis test must be interpreted for us to start making claims whether or not $H_{0}$ can be rejected. There are two common forms that a result from a statistical hypothesis test may take, and they must be interpreted in different ways. They are the p-value and critical values.\n",
    "\n",
    "\n",
    "**Interpretation of p-values:**\n",
    "\n",
    "P-values tell you how strongly your sample data contradict the null hypothesis. Lower p-values represent stronger evidence against the null hypothesis. You use p-values in conjunction with the significance level (alpha) to determine whether your data favor the null or alternative hypothesis.\n",
    "\n",
    "A common value used for alpha is 5% or 0.05. A smaller alpha value suggests a more robust interpretation of the null hypothesis, such as 1% or 0.1%. The p-value is then compared to the pre-chosen alpha value. A result is statistically significant when the p-value is less than alpha. This signifies that a change was detected: that the default hypothesis can be rejected.\n",
    "\n",
    "- **If p-value $>$ alpha:** Fail to reject the null hypothesis (i.e. not significant result). <br>\n",
    "- **If p-value $\\leq$ alpha:** Reject the null hypothesis (i.e. significant result)."
   ]
  },
  {
   "cell_type": "code",
   "execution_count": 1,
   "metadata": {},
   "outputs": [
    {
     "data": {
      "image/jpeg": "[encoded data removed]",
      "text/html": [
       "\n",
       "        <iframe\n",
       "            width=\"700\"\n",
       "            height=\"400\"\n",
       "            src=\"https://www.youtube.com/embed/vemZtEM63GY\"\n",
       "            frameborder=\"0\"\n",
       "            allowfullscreen\n",
       "        ></iframe>\n",
       "        "
      ],
      "text/plain": [
       "<IPython.lib.display.YouTubeVideo at 0x10d83aa10>"
      ]
     },
     "execution_count": 1,
     "metadata": {},
     "output_type": "execute_result"
    }
   ],
   "source": [
    "YouTubeVideo('vemZtEM63GY', width=700, height=400)"
   ]
  },
  {
   "cell_type": "markdown",
   "metadata": {},
   "source": [
    "**Interpretation of critical values:**\n",
    "\n",
    "Some tests do not return a p-value. Instead, they might return a list of critical values and their associated significance levels, as well as a test statistic. These are usually nonparametric or distribution-free statistical hypothesis tests.\n",
    "\n",
    "The results are interpreted in a similar way. Instead of comparing a single p-value to a pre-specified significance level, the test statistic is compared to the critical value at a chosen significance level.\n",
    "\n",
    "- **If test statistic $<$ critical value:** Fail to reject the null hypothesis. <br>\n",
    "- **If test statistic $\\geq$ critical value:** Reject the null hypothesis.\n",
    "\n",
    "Again, the meaning of the result is similar in that the chosen significance level is a probabilistic decision on rejection or fail to reject the base assumption of the test given the data."
   ]
  },
  {
   "cell_type": "markdown",
   "metadata": {},
   "source": [
    "### 2.4 Errors in statistical tests\n",
    "\n",
    "A word of warning: Statistical hypothesis tests are not 100% accurate because they use a random sample to draw conclusions about entire populations. There are two types of errors related to drawing an incorrect conclusion.\n",
    "\n",
    "**False positives:**\n",
    "\n",
    "You reject a null hypothesis that is true. Statisticians call this a **Type I error**. The Type I error rate equals your significance level (alpha). Typically alpha of 0.05 is used to conclude that a statistical test has 5% chance of getting a type-I error\n",
    "\n",
    "**False negatives:** \n",
    "\n",
    "You fail to reject a null hypothesis that is false. Statisticians call this a **Type II error**. Generally, you do not know the Type II error rate. However, it is a larger risk when you have a small sample size, noisy data, or a small effect size. The type II error rate is also known as beta.\n"
   ]
  },
  {
   "cell_type": "markdown",
   "metadata": {},
   "source": [
    "## 3. Statistical tests on behavioral data"
   ]
  },
  {
   "cell_type": "markdown",
   "metadata": {},
   "source": [
    "Finally, we come back to our behavioral dataset, that we preprocessed and cleaned in the previous sheet. By looking at different subsets of this data we will perform common statistical tests, as a t-test and a repeated measures ANOVA. Since the data is from a real experiment and not optimized for this course, we may have to overlook violations of certain assumtions (e.g. normal distribution) in order to present you the whole process of a statistical test.\n",
    "\n",
    "If you are interested in the actual outcome of this experiment have a look at the [paper](https://www.frontiersin.org/articles/10.3389/fpsyg.2019.00361/full)'s results section. As the experimenters had to cover both fixed effects and random effects in their analysis they used a linear mixed model, which is often preferred over more traditional approaches such as repeated measures ANOVA."
   ]
  },
  {
   "cell_type": "code",
   "execution_count": 2,
   "metadata": {},
   "outputs": [],
   "source": [
    "import numpy as np\n",
    "import pandas as pd\n",
    "import researchpy as rp\n",
    "import statsmodels.api as sm\n",
    "import matplotlib.pyplot as plt\n",
    "\n",
    "from scipy import stats\n",
    "from statsmodels.stats.anova import AnovaRM"
   ]
  },
  {
   "cell_type": "markdown",
   "metadata": {},
   "source": [
    "### 3.1 Loading the preprocessed behavioral dataset\n",
    "\n",
    "Make sure that you downloaded the file *behavioral_data_preprocessed.csv* from StudIP's filestation/files and stored it in the same directory as this notebook."
   ]
  },
  {
   "cell_type": "code",
   "execution_count": 3,
   "metadata": {},
   "outputs": [],
   "source": [
    "# Load behavioral dataset\n",
    "df = pd.read_csv(\"behavioral_data_preprocessed.csv\")"
   ]
  },
  {
   "cell_type": "code",
   "execution_count": 4,
   "metadata": {},
   "outputs": [
    {
     "data": {
      "text/html": [
       "<div>\n",
       "<style scoped>\n",
       "    .dataframe tbody tr th:only-of-type {\n",
       "        vertical-align: middle;\n",
       "    }\n",
       "\n",
       "    .dataframe tbody tr th {\n",
       "        vertical-align: top;\n",
       "    }\n",
       "\n",
       "    .dataframe thead th {\n",
       "        text-align: right;\n",
       "    }\n",
       "</style>\n",
       "<table border=\"1\" class=\"dataframe\">\n",
       "  <thead>\n",
       "    <tr style=\"text-align: right;\">\n",
       "      <th></th>\n",
       "      <th>subject_ID</th>\n",
       "      <th>target</th>\n",
       "      <th>position</th>\n",
       "      <th>answer_position</th>\n",
       "      <th>time</th>\n",
       "      <th>answer</th>\n",
       "      <th>feedback</th>\n",
       "      <th>trial</th>\n",
       "      <th>condition</th>\n",
       "      <th>block</th>\n",
       "      <th>change</th>\n",
       "      <th>group</th>\n",
       "      <th>task</th>\n",
       "    </tr>\n",
       "  </thead>\n",
       "  <tbody>\n",
       "    <tr>\n",
       "      <th>0</th>\n",
       "      <td>0</td>\n",
       "      <td>46</td>\n",
       "      <td>2</td>\n",
       "      <td>2</td>\n",
       "      <td>1.295453</td>\n",
       "      <td>1</td>\n",
       "      <td>0.00</td>\n",
       "      <td>1</td>\n",
       "      <td>comp</td>\n",
       "      <td>1</td>\n",
       "      <td>15.0</td>\n",
       "      <td>434</td>\n",
       "      <td>player_ori</td>\n",
       "    </tr>\n",
       "    <tr>\n",
       "      <th>1</th>\n",
       "      <td>0</td>\n",
       "      <td>29</td>\n",
       "      <td>1</td>\n",
       "      <td>2</td>\n",
       "      <td>1.185209</td>\n",
       "      <td>0</td>\n",
       "      <td>0.00</td>\n",
       "      <td>2</td>\n",
       "      <td>comp</td>\n",
       "      <td>1</td>\n",
       "      <td>15.0</td>\n",
       "      <td>434</td>\n",
       "      <td>player_ori</td>\n",
       "    </tr>\n",
       "    <tr>\n",
       "      <th>2</th>\n",
       "      <td>0</td>\n",
       "      <td>48</td>\n",
       "      <td>0</td>\n",
       "      <td>0</td>\n",
       "      <td>0.729091</td>\n",
       "      <td>1</td>\n",
       "      <td>0.05</td>\n",
       "      <td>3</td>\n",
       "      <td>comp</td>\n",
       "      <td>1</td>\n",
       "      <td>15.0</td>\n",
       "      <td>434</td>\n",
       "      <td>player_ori</td>\n",
       "    </tr>\n",
       "    <tr>\n",
       "      <th>3</th>\n",
       "      <td>0</td>\n",
       "      <td>120</td>\n",
       "      <td>3</td>\n",
       "      <td>3</td>\n",
       "      <td>1.206738</td>\n",
       "      <td>1</td>\n",
       "      <td>0.00</td>\n",
       "      <td>4</td>\n",
       "      <td>comp</td>\n",
       "      <td>1</td>\n",
       "      <td>15.0</td>\n",
       "      <td>434</td>\n",
       "      <td>player_ori</td>\n",
       "    </tr>\n",
       "    <tr>\n",
       "      <th>4</th>\n",
       "      <td>0</td>\n",
       "      <td>48</td>\n",
       "      <td>0</td>\n",
       "      <td>2</td>\n",
       "      <td>1.282198</td>\n",
       "      <td>0</td>\n",
       "      <td>-0.05</td>\n",
       "      <td>5</td>\n",
       "      <td>comp</td>\n",
       "      <td>1</td>\n",
       "      <td>15.0</td>\n",
       "      <td>434</td>\n",
       "      <td>player_ori</td>\n",
       "    </tr>\n",
       "  </tbody>\n",
       "</table>\n",
       "</div>"
      ],
      "text/plain": [
       "   subject_ID  target  position  answer_position      time  answer  feedback  \\\n",
       "0           0      46         2                2  1.295453       1      0.00   \n",
       "1           0      29         1                2  1.185209       0      0.00   \n",
       "2           0      48         0                0  0.729091       1      0.05   \n",
       "3           0     120         3                3  1.206738       1      0.00   \n",
       "4           0      48         0                2  1.282198       0     -0.05   \n",
       "\n",
       "   trial condition  block  change  group        task  \n",
       "0      1      comp      1    15.0    434  player_ori  \n",
       "1      2      comp      1    15.0    434  player_ori  \n",
       "2      3      comp      1    15.0    434  player_ori  \n",
       "3      4      comp      1    15.0    434  player_ori  \n",
       "4      5      comp      1    15.0    434  player_ori  "
      ]
     },
     "execution_count": 4,
     "metadata": {},
     "output_type": "execute_result"
    }
   ],
   "source": [
    "# Take a look at the head of the data frame\n",
    "df.head()"
   ]
  },
  {
   "cell_type": "markdown",
   "metadata": {},
   "source": [
    "### 3.2 Student's t-test\n",
    "\n",
    "Lets assume, we want to test whether subjects perform better in an orientation discrimination task than in a spatial discrimination task. Therefore we splitted 50 subjects into two groups of 25 and let each group perform either an orientation discrimination task or a spatial discrimination task. With the gathered data we want to test the following hypothesis:\n",
    "\n",
    "$H_{0}$: There is no difference in average response time for orientation discrimination tasks and spatial discrimination tasks. <br>\n",
    "$H_{1}$: There is a difference in average response time for orientation discrimination tasks and spatial discrimination tasks.\n",
    "\n",
    "<a id='assumptions_t-test'></a>\n",
    "As we want to compare the means of two **independent** groups (orientation/spatial) given a **continuous** outcome variable (response time), we should perform a student's t-test according to the [table](#statistical_tests) of statistical tests. Like every test, this inferential statistic test has assumptions, that the data must meet in order for the test results to be valid:\n",
    "\n",
    "- The means of the two groups being compared should follow normal distributions.\n",
    "- The two populations being compared should have the same variance."
   ]
  },
  {
   "cell_type": "markdown",
   "metadata": {},
   "source": [
    "So before we can perform the student's t-test we have to check if we fulfill these assumptions. But first we need to filter our data:\n",
    "\n",
    "- Filter the dataframe for competitive trials (condition = comp).\n",
    "- Calculate the response time per subject per task of the filtered dataframe. You have to group the data according to the different subjects and tasks and calculate the mean response time.\n",
    "- Split the grouped data into 2 dataframes, i.e. one dataframe contains data of the orientation discrimination task (task = player_ori), the other dataframe contains data of the spatial discrimination task (task = player_spatial)."
   ]
  },
  {
   "cell_type": "code",
   "execution_count": 5,
   "metadata": {},
   "outputs": [],
   "source": [
    "# For all statistical tests we assume alpha = 0.05\n",
    "alpha = 0.05\n",
    "\n",
    "# TODO: Filter for competitive trials\n",
    "df_comp = df[df['condition'] == 'comp']\n",
    "\n",
    "# TODO: Calculate the mean response times per subject per task\n",
    "df_grouped = df_comp.groupby(['subject_ID', 'task'], as_index=False)['time'].mean()\n",
    "\n",
    "# TODO: Create 2 dataframes, one for the data of the orientation discrimination task,\n",
    "#       one for the data of the spatial discrimination task\n",
    "orientation = df_grouped[df_grouped['task'] == 'player_ori']\n",
    "spatial = df_grouped[df_grouped['task'] == 'player_spatial']"
   ]
  },
  {
   "cell_type": "markdown",
   "metadata": {},
   "source": [
    "Now we will check if our data is normally distributed.\n",
    "\n",
    "- For each of the 2 dataframes create a QQ-plot for the response times. The dots should fall on the red line. If the dots are not on the red line then it’s an indication that there is deviation from normality. Some deviations from normality is fine, as long as it’s not severe. Tipp: Take a look at [statsmodel.qq-plot()](https://www.statsmodels.org/dev/generated/statsmodels.graphics.gofplots.qqplot.html) (or at the solution of the previous sheet). \n",
    "- Perform a formal test on normality via a Shapiro-Wilk test. Tipp: Take a look at [stats.shapiro()](https://docs.scipy.org/doc/scipy/reference/generated/scipy.stats.shapiro.html). It tests the null hypothesis that the samples are normally distributed and returns a test statistic and a p-value. The normality criterion holds true when p > alpha.\n"
   ]
  },
  {
   "cell_type": "code",
   "execution_count": 6,
   "metadata": {},
   "outputs": [
    {
     "data": {
      "image/png": "[encoded data removed]",
      "text/plain": [
       "<Figure size 432x288 with 1 Axes>"
      ]
     },
     "metadata": {
      "needs_background": "light"
     },
     "output_type": "display_data"
    },
    {
     "name": "stdout",
     "output_type": "stream",
     "text": [
      "stat=0.903, p=0.022\n",
      "Probably not Gaussian\n"
     ]
    }
   ],
   "source": [
    "# TODO: Create QQ-plot for the response times\n",
    "fig, ax = plt.subplots()\n",
    "\n",
    "sm.qqplot(orientation['time'], line='r', ax=ax)\n",
    "ax.set(title='QQ-plot for orientation discrimination task')\n",
    "\n",
    "plt.show()\n",
    "\n",
    "# TODO: Perform a Shapiro-Wilk normality test\n",
    "stat, p = stats.shapiro(orientation['time'])\n",
    "\n",
    "print('stat={:0.3f}, p={:0.3f}'.format(stat, p))\n",
    "if p > alpha:\n",
    "    print('Probably Gaussian')\n",
    "else:\n",
    "    print('Probably not Gaussian')"
   ]
  },
  {
   "cell_type": "code",
   "execution_count": 7,
   "metadata": {},
   "outputs": [
    {
     "data": {
      "image/png": "[encoded data removed]",
      "text/plain": [
       "<Figure size 432x288 with 1 Axes>"
      ]
     },
     "metadata": {
      "needs_background": "light"
     },
     "output_type": "display_data"
    },
    {
     "name": "stdout",
     "output_type": "stream",
     "text": [
      "stat=0.977, p=0.823\n",
      "Probably Gaussian\n"
     ]
    }
   ],
   "source": [
    "# TODO: Create QQ-plots for the response times\n",
    "fig, ax = plt.subplots()\n",
    "\n",
    "sm.qqplot(spatial['time'], line='r', ax=ax)\n",
    "ax.set(title='QQ-plot for spatial discrimination task')\n",
    "\n",
    "plt.show()\n",
    "\n",
    "# TODO: Perform a Shapiro-Wilk normality test\n",
    "stat, p = stats.shapiro(spatial['time'])\n",
    "\n",
    "print('stat={:0.3f}, p={:0.3f}'.format(stat, p))\n",
    "if p > alpha:\n",
    "    print('Probably Gaussian')\n",
    "else:\n",
    "    print('Probably not Gaussian')"
   ]
  },
  {
   "cell_type": "markdown",
   "metadata": {},
   "source": [
    "Lets have a look if the variances are equal.\n",
    "\n",
    "- Perform a Levene’s test for homogeneity of variance. Tipp: Take a look at [stats.levene()](https://docs.scipy.org/doc/scipy-0.14.0/reference/generated/scipy.stats.levene.html). It tests the null hypothesis that all samples come from populations with equal variances and returns a test statistic and a p-value. The variance criterion holds true when p > alpha. \n",
    "- Hint: You need to give this function only two parameters: \n",
    " + sample1 = response time of orientation discrimination task \n",
    " + sample2 = response time of spatial discrimination task"
   ]
  },
  {
   "cell_type": "code",
   "execution_count": 8,
   "metadata": {},
   "outputs": [
    {
     "name": "stdout",
     "output_type": "stream",
     "text": [
      "stat=0.206, p=0.652\n",
      "Probably homogeneous variances\n"
     ]
    }
   ],
   "source": [
    "# TODO: Perform a Levene’s test for homogeneity of variance\n",
    "stat, p = stats.levene(orientation['time'], spatial['time'])\n",
    "\n",
    "print('stat={:0.3f}, p={:0.3f}'.format(stat, p))\n",
    "if p > alpha:\n",
    "    print('Probably homogeneous variances')\n",
    "else:\n",
    "    print('Probably no homogeneous variances')"
   ]
  },
  {
   "cell_type": "markdown",
   "metadata": {},
   "source": [
    "Independent of the actual outcome of these tests, we simply assume that our data is approximately normally distributed and the variances are equal. Thus, we are now good to perform a student's t-test to check whether $H_{0}$ can be rejected:\n",
    "\n",
    "- Perform a student's t-test (a.k.a. independent sample t-test) and print the summary statistics and test results. To do this have a closer look at pysearch's [ttest()](https://researchpy.readthedocs.io/en/latest/ttest_documentation.html) function and especially the description of the returned results."
   ]
  },
  {
   "cell_type": "code",
   "execution_count": 9,
   "metadata": {},
   "outputs": [],
   "source": [
    "# TODO: Perform a student's t-test\n",
    "description, result = rp.ttest(orientation['time'], spatial['time'])"
   ]
  },
  {
   "cell_type": "code",
   "execution_count": 10,
   "metadata": {},
   "outputs": [
    {
     "data": {
      "text/html": [
       "<div>\n",
       "<style scoped>\n",
       "    .dataframe tbody tr th:only-of-type {\n",
       "        vertical-align: middle;\n",
       "    }\n",
       "\n",
       "    .dataframe tbody tr th {\n",
       "        vertical-align: top;\n",
       "    }\n",
       "\n",
       "    .dataframe thead th {\n",
       "        text-align: right;\n",
       "    }\n",
       "</style>\n",
       "<table border=\"1\" class=\"dataframe\">\n",
       "  <thead>\n",
       "    <tr style=\"text-align: right;\">\n",
       "      <th></th>\n",
       "      <th>Variable</th>\n",
       "      <th>N</th>\n",
       "      <th>Mean</th>\n",
       "      <th>SD</th>\n",
       "      <th>SE</th>\n",
       "      <th>95% Conf.</th>\n",
       "      <th>Interval</th>\n",
       "    </tr>\n",
       "  </thead>\n",
       "  <tbody>\n",
       "    <tr>\n",
       "      <th>0</th>\n",
       "      <td>time</td>\n",
       "      <td>25.0</td>\n",
       "      <td>1.355600</td>\n",
       "      <td>0.303658</td>\n",
       "      <td>0.060732</td>\n",
       "      <td>1.230256</td>\n",
       "      <td>1.480944</td>\n",
       "    </tr>\n",
       "    <tr>\n",
       "      <th>1</th>\n",
       "      <td>time</td>\n",
       "      <td>25.0</td>\n",
       "      <td>1.274744</td>\n",
       "      <td>0.300876</td>\n",
       "      <td>0.060175</td>\n",
       "      <td>1.150548</td>\n",
       "      <td>1.398939</td>\n",
       "    </tr>\n",
       "    <tr>\n",
       "      <th>2</th>\n",
       "      <td>combined</td>\n",
       "      <td>50.0</td>\n",
       "      <td>1.315172</td>\n",
       "      <td>0.301944</td>\n",
       "      <td>0.042701</td>\n",
       "      <td>1.229360</td>\n",
       "      <td>1.400984</td>\n",
       "    </tr>\n",
       "  </tbody>\n",
       "</table>\n",
       "</div>"
      ],
      "text/plain": [
       "   Variable     N      Mean        SD        SE  95% Conf.  Interval\n",
       "0      time  25.0  1.355600  0.303658  0.060732   1.230256  1.480944\n",
       "1      time  25.0  1.274744  0.300876  0.060175   1.150548  1.398939\n",
       "2  combined  50.0  1.315172  0.301944  0.042701   1.229360  1.400984"
      ]
     },
     "execution_count": 10,
     "metadata": {},
     "output_type": "execute_result"
    }
   ],
   "source": [
    "# TODO: Print the summary statistics\n",
    "description"
   ]
  },
  {
   "cell_type": "code",
   "execution_count": 11,
   "metadata": {},
   "outputs": [
    {
     "data": {
      "text/html": [
       "<div>\n",
       "<style scoped>\n",
       "    .dataframe tbody tr th:only-of-type {\n",
       "        vertical-align: middle;\n",
       "    }\n",
       "\n",
       "    .dataframe tbody tr th {\n",
       "        vertical-align: top;\n",
       "    }\n",
       "\n",
       "    .dataframe thead th {\n",
       "        text-align: right;\n",
       "    }\n",
       "</style>\n",
       "<table border=\"1\" class=\"dataframe\">\n",
       "  <thead>\n",
       "    <tr style=\"text-align: right;\">\n",
       "      <th></th>\n",
       "      <th>Independent t-test</th>\n",
       "      <th>results</th>\n",
       "    </tr>\n",
       "  </thead>\n",
       "  <tbody>\n",
       "    <tr>\n",
       "      <th>0</th>\n",
       "      <td>Difference (time - time) =</td>\n",
       "      <td>0.0809</td>\n",
       "    </tr>\n",
       "    <tr>\n",
       "      <th>1</th>\n",
       "      <td>Degrees of freedom =</td>\n",
       "      <td>48.0000</td>\n",
       "    </tr>\n",
       "    <tr>\n",
       "      <th>2</th>\n",
       "      <td>t =</td>\n",
       "      <td>0.9457</td>\n",
       "    </tr>\n",
       "    <tr>\n",
       "      <th>3</th>\n",
       "      <td>Two side test p value =</td>\n",
       "      <td>0.3490</td>\n",
       "    </tr>\n",
       "    <tr>\n",
       "      <th>4</th>\n",
       "      <td>Difference &lt; 0 p value =</td>\n",
       "      <td>0.8255</td>\n",
       "    </tr>\n",
       "    <tr>\n",
       "      <th>5</th>\n",
       "      <td>Difference &gt; 0 p value =</td>\n",
       "      <td>0.1745</td>\n",
       "    </tr>\n",
       "    <tr>\n",
       "      <th>6</th>\n",
       "      <td>Cohen's d =</td>\n",
       "      <td>0.2675</td>\n",
       "    </tr>\n",
       "    <tr>\n",
       "      <th>7</th>\n",
       "      <td>Hedge's g =</td>\n",
       "      <td>0.2633</td>\n",
       "    </tr>\n",
       "    <tr>\n",
       "      <th>8</th>\n",
       "      <td>Glass's delta =</td>\n",
       "      <td>0.2663</td>\n",
       "    </tr>\n",
       "    <tr>\n",
       "      <th>9</th>\n",
       "      <td>r =</td>\n",
       "      <td>0.1353</td>\n",
       "    </tr>\n",
       "  </tbody>\n",
       "</table>\n",
       "</div>"
      ],
      "text/plain": [
       "            Independent t-test  results\n",
       "0  Difference (time - time) =    0.0809\n",
       "1        Degrees of freedom =   48.0000\n",
       "2                         t =    0.9457\n",
       "3     Two side test p value =    0.3490\n",
       "4    Difference < 0 p value =    0.8255\n",
       "5    Difference > 0 p value =    0.1745\n",
       "6                 Cohen's d =    0.2675\n",
       "7                 Hedge's g =    0.2633\n",
       "8             Glass's delta =    0.2663\n",
       "9                         r =    0.1353"
      ]
     },
     "execution_count": 11,
     "metadata": {},
     "output_type": "execute_result"
    }
   ],
   "source": [
    "# TODO: Print the test results\n",
    "result"
   ]
  },
  {
   "cell_type": "markdown",
   "metadata": {},
   "source": [
    "### 3.3 Two-way repeated measures ANOVA\n",
    "\n",
    "Lets assume, we want to test whether subjects perform better in a competitive spatial discrimination task than in a cooperative spatial discrimination task and whether correct answers are faster than incorrect answers. Therefore we let our 25 subjects perform both a competitive spatial discrimination task and a cooperative spatial discrimination task that were adjusted in difficulty such that participants were expected to attain a 50% accuracy. With the gathered data we want to test the following hypotheses:\n",
    "\n",
    "**Factor condition x factor correctness interaction:** <br>\n",
    "$H_{0}$: There is no interaction effect between the factors condition and correctness. <br>\n",
    "$H_{1}$: There is an interaction effect between the factors condition and correctness.\n",
    "\n",
    "**Main effect of factor condition:** <br>\n",
    "$H_{0}$: There is no difference in average response time for competitive tasks and cooperative tasks. <br>\n",
    "$H_{1}$: There is a difference in average response time for competitive tasks and cooperative tasks.\n",
    "\n",
    "**Main effect of factor correctness:** <br>\n",
    "$H_{0}$: There is no difference in average response time for correct and incoorect answers. <br>\n",
    "$H_{1}$: There is a difference in average response time for correct and incoorect answers.\n",
    "\n",
    "<a id='assumptions_ANOVA'></a>\n",
    "As we want to compare the means of four **dependent** groups (competitive-correct, competitive-incorrect, cooperative-correct, cooperative-incorrect) given a **continuous** outcome variable (response time), we should perform a repeated measures ANOVA according to the [table](#statistical_tests) of statistical tests. The assumptions that the data must meet in order for the test results to be valid are:\n",
    "\n",
    "- The distribution of the dependent variable in the two or more related groups should be approximately normally distributed.\n",
    "- Known as sphericity, the variances of the differences between all combinations of related groups must be equal. "
   ]
  },
  {
   "cell_type": "markdown",
   "metadata": {},
   "source": [
    "Before we can perform the two-way repeated measures ANOVA we need to filter our data: \n",
    "\n",
    "- Filter the dataframe for spatial discrimination tasks (task = player_spatial).\n",
    "- Using the filtered dataframe, calculate the response time per subject, answer and condition. You have to group the data according to the different subjects, answers and conditions and calculate the mean response time."
   ]
  },
  {
   "cell_type": "code",
   "execution_count": 12,
   "metadata": {},
   "outputs": [],
   "source": [
    "# For all statistical tests we assume alpha = 0.05\n",
    "alpha = 0.05\n",
    "\n",
    "# TODO: Filter for spatial discrimination tasks\n",
    "df_spatial = df[df['task'] == 'player_spatial']\n",
    "\n",
    "# TODO: Calculate the mean response times per subject, answer and condition\n",
    "df_grouped2 = df_spatial.groupby(['subject_ID', 'answer', 'condition'], as_index=False)['time'].mean()"
   ]
  },
  {
   "cell_type": "markdown",
   "metadata": {},
   "source": [
    "Now we will check if our data is normally distributed.\n",
    "\n",
    "- Split the grouped data into 4 dataframes, one for each group (competitive-correct, competitive-incorrect, cooperative-correct, cooperative-incorrect). Tipp: You can select rows in a dataframe by multiple conditions. [Here](https://thispointer.com/python-pandas-select-rows-in-dataframe-by-conditions-on-multiple-columns/) you can find some useful examples.\n",
    "- For each of the 4 dataframes perform a formal test on normality via a Shapiro-Wilk test. "
   ]
  },
  {
   "cell_type": "code",
   "execution_count": 13,
   "metadata": {},
   "outputs": [
    {
     "name": "stdout",
     "output_type": "stream",
     "text": [
      "competitive-correct: stat=0.964, p=0.497\n",
      "Probably Gaussian\n",
      "competitive-incorrect: stat=0.986, p=0.974\n",
      "Probably Gaussian\n",
      "cooperative-correct: stat=0.987, p=0.979\n",
      "Probably Gaussian\n",
      "cooperative-incorrect: stat=0.973, p=0.733\n",
      "Probably Gaussian\n"
     ]
    }
   ],
   "source": [
    "# TODO: Create 4 dataframes (competitive-correct, competitive-incorrect, \n",
    "#                            cooperative-correct, cooperative-incorrect)\n",
    "group1 = df_grouped2[(df_grouped2['condition'] == 'comp') & (df_grouped2['answer'] == 1)]\n",
    "group2 = df_grouped2[(df_grouped2['condition'] == 'comp') & (df_grouped2['answer'] == 0)]\n",
    "group3 = df_grouped2[(df_grouped2['condition'] == 'coop') & (df_grouped2['answer'] == 1)]\n",
    "group4 = df_grouped2[(df_grouped2['condition'] == 'coop') & (df_grouped2['answer'] == 0)]\n",
    "\n",
    "# TODO: Perform a Shapiro-Wilk normality test for each group\n",
    "groups = [group1['time'], group2['time'], group3['time'], group4['time']]\n",
    "name = ['competitive-correct', 'competitive-incorrect', 'cooperative-correct', 'cooperative-incorrect']\n",
    "\n",
    "for i in range(len(groups)):\n",
    "    stat, p = stats.shapiro(groups[i])\n",
    "\n",
    "    print('{}: stat={:0.3f}, p={:0.3f}'.format(name[i], stat, p))\n",
    "    if p > alpha:\n",
    "        print('Probably Gaussian')\n",
    "    else:\n",
    "        print('Probably not Gaussian')"
   ]
  },
  {
   "cell_type": "markdown",
   "metadata": {},
   "source": [
    "Lets have a look a the sphericity.\n",
    "\n",
    "- Extract the response times of the 4 dataframes (dependent groups) and calculate the differences between all combinations of these groups. Tipp: You can transform a pandas series into a numpy array with the [to_numpy()](https://pandas.pydata.org/pandas-docs/version/0.25.0/reference/api/pandas.DataFrame.to_numpy.html) function.  \n",
    "- The variances of the calculated differences can then be tested via Levene’s test for homogeneity of variance."
   ]
  },
  {
   "cell_type": "code",
   "execution_count": 16,
   "metadata": {},
   "outputs": [
    {
     "name": "stdout",
     "output_type": "stream",
     "text": [
      "stat=1.526, p=0.185\n",
      "Sphericity is probably given\n"
     ]
    }
   ],
   "source": [
    "# TODO: Extract the response times\n",
    "g1 = group1['time'].to_numpy()\n",
    "g2 = group2['time'].to_numpy()\n",
    "g3 = group3['time'].to_numpy()\n",
    "g4 = group4['time'].to_numpy()\n",
    "\n",
    "# TODO: Calculate the differences between all combinations and test it via Levene's test\n",
    "stat, p = stats.levene(g1-g2, g1-g3, g1-g4, g2-g3, g2-g4, g3-g4)\n",
    "\n",
    "print('stat={:0.3f}, p={:0.3f}'.format(stat, p))\n",
    "if p > alpha:\n",
    "    print('Sphericity is probably given')\n",
    "else:\n",
    "    print('Sphericity is probably not given')"
   ]
  },
  {
   "cell_type": "markdown",
   "metadata": {},
   "source": [
    "Independent of the actual outcome of these tests, we simply assume that our data is approximately normally distributed and that sphericity is given. Thus, we are now good to perform a repeated measures ANOVA:\n",
    "\n",
    "- Perform a two-way repeated measures ANOVA and print the ANOVA table. To do this have a closer look at the statsmodels' [AnovaRM()](https://www.statsmodels.org/stable/generated/statsmodels.stats.anova.AnovaRM.html) function and this [tutorial](https://www.marsja.se/repeated-measures-anova-in-python-using-statsmodels/). Tipp: We have a **two-way** repeated measures ANOVA which means that we have **two within-subject factors: correctness and condition**."
   ]
  },
  {
   "cell_type": "code",
   "execution_count": 15,
   "metadata": {},
   "outputs": [
    {
     "data": {
      "text/html": [
       "<table class=\"simpletable\">\n",
       "<tr>\n",
       "          <td></td>         <th>F Value</th> <th>Num DF</th> <th>Den DF</th>  <th>Pr > F</th>\n",
       "</tr>\n",
       "<tr>\n",
       "  <th>answer</th>           <td>21.9021</td> <td>1.0000</td> <td>24.0000</td> <td>0.0001</td>\n",
       "</tr>\n",
       "<tr>\n",
       "  <th>condition</th>        <td>0.4458</td>  <td>1.0000</td> <td>24.0000</td> <td>0.5107</td>\n",
       "</tr>\n",
       "<tr>\n",
       "  <th>answer:condition</th> <td>0.4383</td>  <td>1.0000</td> <td>24.0000</td> <td>0.5142</td>\n",
       "</tr>\n",
       "</table>"
      ],
      "text/plain": [
       "<class 'statsmodels.iolib.summary2.Summary'>\n",
       "\"\"\"\n",
       "                    Anova\n",
       "==============================================\n",
       "                 F Value Num DF  Den DF Pr > F\n",
       "----------------------------------------------\n",
       "answer           21.9021 1.0000 24.0000 0.0001\n",
       "condition         0.4458 1.0000 24.0000 0.5107\n",
       "answer:condition  0.4383 1.0000 24.0000 0.5142\n",
       "==============================================\n",
       "\n",
       "\"\"\""
      ]
     },
     "execution_count": 15,
     "metadata": {},
     "output_type": "execute_result"
    }
   ],
   "source": [
    "# TODO: Perform a two-way repeated measures ANOVA (Pr > F = p-value)\n",
    "anovarm = AnovaRM(df_grouped2,'time','subject_ID',within=['answer', 'condition'], aggregate_func='mean')\n",
    "fit = anovarm.fit()\n",
    "fit.summary()"
   ]
  },
  {
   "cell_type": "markdown",
   "metadata": {},
   "source": [
    "<div class=\"alert alert-block alert-info\">\n",
    "With a multi-factor model, the significance of the interaction should be tested as the first step. If the interaction is significant, the sole main effects of factor A or factor B are not really interpretable by themselves since the significant interaction indicates that the effect of factor A depends on the level of factor A and the the level of factor B, and vice versa.\n",
    "</div>"
   ]
  },
  {
   "cell_type": "markdown",
   "metadata": {},
   "source": [
    "## Summary - What you should have learned\n",
    "\n",
    "Congratulations, you've mastered the second behavioral data chapter! By now you should be familiar with the following:\n",
    "\n",
    "* The correct selection of a statistical hypothesis test requires several assumption tests.\n",
    "* The interpretation of a statistical hypothesis test requires a correct understanding of p-values.\n",
    "* Regardless of the significance level, the finding of hypothesis tests may still contain errors."
   ]
  },
  {
   "cell_type": "markdown",
   "metadata": {},
   "source": [
    "## Citations\n",
    "\n",
    "- Czeszumski A, Ehinger B, Wahn B, and König P (2019) The social situation affects how we process feedback about our actions. Frontiers in Psychology, 10:361. https://doi.org/10.3389/fpsyg.2019.00361"
   ]
  }
 ],
 "metadata": {
  "kernelspec": {
   "display_name": "Python 3",
   "language": "python",
   "name": "python3"
  },
  "language_info": {
   "codemirror_mode": {
    "name": "ipython",
    "version": 3
   },
   "file_extension": ".py",
   "mimetype": "text/x-python",
   "name": "python",
   "nbconvert_exporter": "python",
   "pygments_lexer": "ipython3",
   "version": "3.9.2"
  },
  "toc": {
   "base_numbering": 1,
   "nav_menu": {},
   "number_sections": false,
   "sideBar": true,
   "skip_h1_title": true,
   "title_cell": "Table of Contents",
   "title_sidebar": "Contents",
   "toc_cell": true,
   "toc_position": {
    "height": "calc(100% - 180px)",
    "left": "10px",
    "top": "150px",
    "width": "165px"
   },
   "toc_section_display": true,
   "toc_window_display": true
  },
  "toc-autonumbering": false,
  "toc-showtags": false
 },
 "nbformat": 4,
 "nbformat_minor": 4
}
